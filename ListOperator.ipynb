{
 "cells": [
  {
   "cell_type": "code",
   "execution_count": null,
   "id": "00f49808-fa38-4e04-9125-e238e808ff20",
   "metadata": {},
   "outputs": [],
   "source": [
    "txt = \" abc def ghi \"\n",
    "\n",
    "txt.lstrip()\n",
    "\n",
    "txt = \" abc def ghi\"\n",
    "txt.strip()"
   ]
  },
  {
   "cell_type": "code",
   "execution_count": 261,
   "id": "ee096e2f-ce3e-4d3a-9308-baecc186fc52",
   "metadata": {},
   "outputs": [
    {
     "name": "stdout",
     "output_type": "stream",
     "text": [
      "Note: you may need to restart the kernel to use updated packages.\n"
     ]
    },
    {
     "name": "stderr",
     "output_type": "stream",
     "text": [
      "ERROR: unknown command \"pandoc\"\n",
      "\n"
     ]
    }
   ],
   "source": [
    "pip pandoc org"
   ]
  },
  {
   "cell_type": "markdown",
   "id": "852436c0-0d99-441b-8942-615e19303b5f",
   "metadata": {},
   "source": [
    "\n",
    "\n",
    "### Using Escape Character ###"
   ]
  },
  {
   "cell_type": "code",
   "execution_count": null,
   "id": "bb9887f7-4104-4494-96ca-cb7223f50390",
   "metadata": {},
   "outputs": [],
   "source": [
    "#Using double qoutes in the string is not allowed.\n",
    "mystr=\"My favourite TV Series is \\\" Game of Thornes\\\"\"\n",
    "mystr"
   ]
  },
  {
   "cell_type": "code",
   "execution_count": null,
   "id": "73e2138a-c8a9-47af-aeed-dc42206d27cc",
   "metadata": {},
   "outputs": [],
   "source": [
    "# Using escape character to allow illegal characters \n",
    "mystr =\"My favourite series is \\\"Game of Thrones\\\"\"\n",
    "print(mystr)"
   ]
  },
  {
   "cell_type": "markdown",
   "id": "38948695-ae8c-4c98-9b55-5b48c2085509",
   "metadata": {},
   "source": [
    "### List ###"
   ]
  },
  {
   "cell_type": "markdown",
   "id": "098967b3-dc91-466a-85a9-4dbe5d16ca01",
   "metadata": {
    "scrolled": true
   },
   "source": [
    "1) List is an ordered sequence of items."
   ]
  },
  {
   "cell_type": "markdown",
   "id": "679e4061-d3bd-43af-abd7-cb3174fc882a",
   "metadata": {},
   "source": [
    "2.We can have different data types under a list.E.g we can have integer,float and string items in a same list"
   ]
  },
  {
   "cell_type": "markdown",
   "id": "27f5ed6e-92ca-4ce4-a6ae-fb7c501889d0",
   "metadata": {},
   "source": [
    "### List Creation ###"
   ]
  },
  {
   "cell_type": "code",
   "execution_count": null,
   "id": "d281303a-c6c3-49ac-b022-3fd99ce5a484",
   "metadata": {},
   "outputs": [],
   "source": [
    "list1=[] # Empty List"
   ]
  },
  {
   "cell_type": "code",
   "execution_count": null,
   "id": "25a4c890-921c-42bd-aa34-5c31d5cc6128",
   "metadata": {},
   "outputs": [],
   "source": [
    "print(list1)"
   ]
  },
  {
   "cell_type": "code",
   "execution_count": null,
   "id": "5cdb3f32-297b-4cbd-aa22-11f55b140412",
   "metadata": {},
   "outputs": [],
   "source": [
    "print(type(list1))"
   ]
  },
  {
   "cell_type": "code",
   "execution_count": 3,
   "id": "5f9e59f3-6481-45ed-a22d-2d0589effc2b",
   "metadata": {},
   "outputs": [],
   "source": [
    "list2=[10,30,60] # List of integer numbers"
   ]
  },
  {
   "cell_type": "code",
   "execution_count": null,
   "id": "23e0370a-d381-4be5-9995-6162fa58cc8c",
   "metadata": {},
   "outputs": [],
   "source": [
    "list3 = [10.77,30.66,60.89] # List of float numbers"
   ]
  },
  {
   "cell_type": "code",
   "execution_count": 8,
   "id": "5c24e3f6-2565-4adb-aac2-9ffb36656486",
   "metadata": {},
   "outputs": [],
   "source": [
    "list4=['One','two','three'] # List of  strings"
   ]
  },
  {
   "cell_type": "code",
   "execution_count": 20,
   "id": "0cef4892-d210-4a28-b226-5dfbb2023f08",
   "metadata": {},
   "outputs": [],
   "source": [
    "list5 = ['Aisf',25,[50,100],[150,90]] # Nested Lists"
   ]
  },
  {
   "cell_type": "code",
   "execution_count": null,
   "id": "138d52e9-1e2c-4877-b0db-046f93269ba1",
   "metadata": {},
   "outputs": [],
   "source": [
    "list6=[100,'Asif',17.765] # List of mixed data types"
   ]
  },
  {
   "cell_type": "code",
   "execution_count": null,
   "id": "a42db964-4f5c-428e-8efc-7ecd642b0c7b",
   "metadata": {},
   "outputs": [],
   "source": [
    "list7=['Aisf',25,[50,100],[150,90],{'john','David'}]  "
   ]
  },
  {
   "cell_type": "code",
   "execution_count": null,
   "id": "0f2f3829-cda9-411d-8c13-713383842f11",
   "metadata": {},
   "outputs": [],
   "source": [
    "len(list6) #Length of list"
   ]
  },
  {
   "cell_type": "code",
   "execution_count": null,
   "id": "b1fbbff3-8c7d-4feb-8400-ae205e6baf5e",
   "metadata": {},
   "outputs": [],
   "source": [
    "len(list6)"
   ]
  },
  {
   "cell_type": "code",
   "execution_count": null,
   "id": "1ceba4fc-7f56-47a5-85ec-db567e0ec70e",
   "metadata": {},
   "outputs": [],
   "source": [
    "list2[0] # Retrieve first element of the list"
   ]
  },
  {
   "cell_type": "code",
   "execution_count": 5,
   "id": "c151e4f8-b0a1-4a53-a8f5-7e511453119e",
   "metadata": {},
   "outputs": [
    {
     "data": {
      "text/plain": [
       "10"
      ]
     },
     "execution_count": 5,
     "metadata": {},
     "output_type": "execute_result"
    }
   ],
   "source": [
    "list2[0]"
   ]
  },
  {
   "cell_type": "code",
   "execution_count": 10,
   "id": "3454e5e2-69ea-4692-b864-333e0d82a657",
   "metadata": {},
   "outputs": [
    {
     "data": {
      "text/plain": [
       "'One'"
      ]
     },
     "execution_count": 10,
     "metadata": {},
     "output_type": "execute_result"
    }
   ],
   "source": [
    "list4[0]"
   ]
  },
  {
   "cell_type": "code",
   "execution_count": 12,
   "id": "5ef6c594-33c2-4f02-aea4-7ef457ad0343",
   "metadata": {},
   "outputs": [
    {
     "data": {
      "text/plain": [
       "'O'"
      ]
     },
     "execution_count": 12,
     "metadata": {},
     "output_type": "execute_result"
    }
   ],
   "source": [
    "list4[0][0]"
   ]
  },
  {
   "cell_type": "code",
   "execution_count": 14,
   "id": "8c58e9a4-028a-4c29-be00-88eed4f8c1bf",
   "metadata": {},
   "outputs": [
    {
     "data": {
      "text/plain": [
       "'three'"
      ]
     },
     "execution_count": 14,
     "metadata": {},
     "output_type": "execute_result"
    }
   ],
   "source": [
    "list4[-1]"
   ]
  },
  {
   "cell_type": "code",
   "execution_count": 21,
   "id": "368d3d81-4e9f-4803-8c66-01cfceb59a3e",
   "metadata": {},
   "outputs": [
    {
     "data": {
      "text/plain": [
       "[150, 90]"
      ]
     },
     "execution_count": 21,
     "metadata": {},
     "output_type": "execute_result"
    }
   ],
   "source": [
    "list5[-1]"
   ]
  },
  {
   "cell_type": "code",
   "execution_count": 23,
   "id": "dc510d43-ecd3-4139-9315-41ee237f00a2",
   "metadata": {},
   "outputs": [
    {
     "data": {
      "text/plain": [
       "[150, 90]"
      ]
     },
     "execution_count": 23,
     "metadata": {},
     "output_type": "execute_result"
    }
   ],
   "source": [
    "list5[-1]"
   ]
  },
  {
   "cell_type": "code",
   "execution_count": 24,
   "id": "1575e526-8eef-4f4f-be6e-a8e3826c8093",
   "metadata": {},
   "outputs": [],
   "source": [
    "mylist=['one','two','three','four','five','six','seven','eight']"
   ]
  },
  {
   "cell_type": "code",
   "execution_count": 26,
   "id": "870c5c0e-9ce5-409f-ad9e-efe6a062490b",
   "metadata": {},
   "outputs": [
    {
     "data": {
      "text/plain": [
       "['one', 'two', 'three']"
      ]
     },
     "execution_count": 26,
     "metadata": {},
     "output_type": "execute_result"
    }
   ],
   "source": [
    "mylist[0:3]"
   ]
  },
  {
   "cell_type": "code",
   "execution_count": 28,
   "id": "9394e4dd-581a-4a04-b2b6-a6572b217cbe",
   "metadata": {},
   "outputs": [
    {
     "data": {
      "text/plain": [
       "['three', 'four', 'five']"
      ]
     },
     "execution_count": 28,
     "metadata": {},
     "output_type": "execute_result"
    }
   ],
   "source": [
    "mylist[2:5]"
   ]
  },
  {
   "cell_type": "code",
   "execution_count": 31,
   "id": "ffaa17f8-9f65-44f5-be25-0a2abdbfcc8c",
   "metadata": {},
   "outputs": [
    {
     "data": {
      "text/plain": [
       "['three', 'four', 'five']"
      ]
     },
     "execution_count": 31,
     "metadata": {},
     "output_type": "execute_result"
    }
   ],
   "source": [
    "mylist[2:5] # Return all items 0th to 3rd index location excluding the items"
   ]
  },
  {
   "cell_type": "code",
   "execution_count": 33,
   "id": "c594a3c0-e9b0-4f2c-9113-8a49911a3756",
   "metadata": {},
   "outputs": [
    {
     "data": {
      "text/plain": [
       "['one', 'two', 'three']"
      ]
     },
     "execution_count": 33,
     "metadata": {},
     "output_type": "execute_result"
    }
   ],
   "source": [
    "mylist[:3] # Return first three items"
   ]
  },
  {
   "cell_type": "code",
   "execution_count": 35,
   "id": "7af383a1-ecf8-4a54-a707-0b9bb3d3abc5",
   "metadata": {},
   "outputs": [
    {
     "data": {
      "text/plain": [
       "['one', 'two']"
      ]
     },
     "execution_count": 35,
     "metadata": {},
     "output_type": "execute_result"
    }
   ],
   "source": [
    "mylist[:2]"
   ]
  },
  {
   "cell_type": "code",
   "execution_count": 37,
   "id": "3cfcbdfd-f104-4d2b-8f62-24e6e97c077d",
   "metadata": {},
   "outputs": [
    {
     "data": {
      "text/plain": [
       "['six', 'seven', 'eight']"
      ]
     },
     "execution_count": 37,
     "metadata": {},
     "output_type": "execute_result"
    }
   ],
   "source": [
    "mylist[-3:]"
   ]
  },
  {
   "cell_type": "code",
   "execution_count": 39,
   "id": "a54980d8-6f59-4a98-b141-30a09ef5beb1",
   "metadata": {},
   "outputs": [
    {
     "data": {
      "text/plain": [
       "['seven', 'eight']"
      ]
     },
     "execution_count": 39,
     "metadata": {},
     "output_type": "execute_result"
    }
   ],
   "source": [
    "mylist[-2:]"
   ]
  },
  {
   "cell_type": "code",
   "execution_count": 41,
   "id": "eecfb09e-46c3-4d15-b56a-251d94c6c918",
   "metadata": {},
   "outputs": [
    {
     "data": {
      "text/plain": [
       "'eight'"
      ]
     },
     "execution_count": 41,
     "metadata": {},
     "output_type": "execute_result"
    }
   ],
   "source": [
    "mylist[-1] # Return last item of the list"
   ]
  },
  {
   "cell_type": "code",
   "execution_count": 43,
   "id": "49e9dd2d-f473-4bdc-98de-512b846ed7c8",
   "metadata": {},
   "outputs": [
    {
     "data": {
      "text/plain": [
       "'eight'"
      ]
     },
     "execution_count": 43,
     "metadata": {},
     "output_type": "execute_result"
    }
   ],
   "source": [
    "mylist[-1]"
   ]
  },
  {
   "cell_type": "code",
   "execution_count": 45,
   "id": "86aec136-442e-40ef-ac1c-d7bd5df71f11",
   "metadata": {},
   "outputs": [
    {
     "data": {
      "text/plain": [
       "['one', 'two', 'three', 'four', 'five', 'six', 'seven', 'eight']"
      ]
     },
     "execution_count": 45,
     "metadata": {},
     "output_type": "execute_result"
    }
   ],
   "source": [
    "mylist[:]"
   ]
  },
  {
   "cell_type": "markdown",
   "id": "661a4754-b875-45e9-b6a5-0a85d3d26b76",
   "metadata": {},
   "source": [
    "## Add,Remove & Change Items ##"
   ]
  },
  {
   "cell_type": "code",
   "execution_count": 47,
   "id": "3ec8db31-bbe1-4055-a5e6-56a884cee96f",
   "metadata": {},
   "outputs": [
    {
     "data": {
      "text/plain": [
       "['one', 'two', 'three', 'four', 'five', 'six', 'seven', 'eight']"
      ]
     },
     "execution_count": 47,
     "metadata": {},
     "output_type": "execute_result"
    }
   ],
   "source": [
    "mylist"
   ]
  },
  {
   "cell_type": "code",
   "execution_count": 49,
   "id": "3fc68cd0-bd81-481b-ae4a-3621d259635a",
   "metadata": {},
   "outputs": [],
   "source": [
    "mylist.append('nine')"
   ]
  },
  {
   "cell_type": "code",
   "execution_count": 51,
   "id": "5ab960f2-dae4-49d9-9e5e-918127a9bb4b",
   "metadata": {},
   "outputs": [
    {
     "data": {
      "text/plain": [
       "['one',\n",
       " 'two',\n",
       " 'three',\n",
       " 'four',\n",
       " 'five',\n",
       " 'six',\n",
       " 'seven',\n",
       " 'eight',\n",
       " 'nine',\n",
       " 'nine']"
      ]
     },
     "execution_count": 51,
     "metadata": {},
     "output_type": "execute_result"
    }
   ],
   "source": [
    "mylist"
   ]
  },
  {
   "cell_type": "code",
   "execution_count": 64,
   "id": "82e17d61-9581-4e12-a894-3aaf5d269ab5",
   "metadata": {},
   "outputs": [
    {
     "data": {
      "text/plain": [
       "14"
      ]
     },
     "execution_count": 64,
     "metadata": {},
     "output_type": "execute_result"
    }
   ],
   "source": [
    "len(mylist)"
   ]
  },
  {
   "cell_type": "code",
   "execution_count": 68,
   "id": "9b97be8b-991f-4d50-8a43-94516b37e944",
   "metadata": {},
   "outputs": [
    {
     "data": {
      "text/plain": [
       "2"
      ]
     },
     "execution_count": 68,
     "metadata": {},
     "output_type": "execute_result"
    }
   ],
   "source": [
    "mylist.count('nine')"
   ]
  },
  {
   "cell_type": "code",
   "execution_count": 59,
   "id": "f0d1a0ce-501b-45bd-b580-17fe3ed1dbdb",
   "metadata": {},
   "outputs": [],
   "source": [
    "mylist.insert(10,'ten')"
   ]
  },
  {
   "cell_type": "code",
   "execution_count": 62,
   "id": "95f7f2ff-b159-4c2a-97bd-8f62b367cbd5",
   "metadata": {},
   "outputs": [],
   "source": [
    "mylist.insert(10,'seven')"
   ]
  },
  {
   "cell_type": "code",
   "execution_count": 69,
   "id": "9e0d8975-eccd-42e2-a320-612377f0d949",
   "metadata": {},
   "outputs": [
    {
     "data": {
      "text/plain": [
       "['one',\n",
       " 'two',\n",
       " 'three',\n",
       " 'four',\n",
       " 'five',\n",
       " 'six',\n",
       " 'seven',\n",
       " 'eight',\n",
       " 'nine',\n",
       " 'nine',\n",
       " 'seven',\n",
       " 'seven',\n",
       " 'ten',\n",
       " 'ten']"
      ]
     },
     "execution_count": 69,
     "metadata": {},
     "output_type": "execute_result"
    }
   ],
   "source": [
    "mylist"
   ]
  },
  {
   "cell_type": "code",
   "execution_count": 71,
   "id": "de88cde4-91b8-4c4e-b89e-5d2913fa708c",
   "metadata": {},
   "outputs": [
    {
     "data": {
      "text/plain": [
       "['one', 'two', 'three']"
      ]
     },
     "execution_count": 71,
     "metadata": {},
     "output_type": "execute_result"
    }
   ],
   "source": [
    "mylist[0:3]"
   ]
  },
  {
   "cell_type": "code",
   "execution_count": 73,
   "id": "eefa8299-c90c-4f30-98a8-29961aa375cf",
   "metadata": {},
   "outputs": [
    {
     "data": {
      "text/plain": [
       "['three', 'four', 'five']"
      ]
     },
     "execution_count": 73,
     "metadata": {},
     "output_type": "execute_result"
    }
   ],
   "source": [
    "mylist[2:5]"
   ]
  },
  {
   "cell_type": "code",
   "execution_count": 75,
   "id": "c02faf19-9a2e-497c-883c-7fde65a0f208",
   "metadata": {},
   "outputs": [
    {
     "data": {
      "text/plain": [
       "['one', 'two', 'three']"
      ]
     },
     "execution_count": 75,
     "metadata": {},
     "output_type": "execute_result"
    }
   ],
   "source": [
    "mylist[:3]"
   ]
  },
  {
   "cell_type": "code",
   "execution_count": 77,
   "id": "06716051-81e6-423a-81ea-bc76c15ee075",
   "metadata": {},
   "outputs": [
    {
     "data": {
      "text/plain": [
       "['one', 'two']"
      ]
     },
     "execution_count": 77,
     "metadata": {},
     "output_type": "execute_result"
    }
   ],
   "source": [
    "mylist[:2]"
   ]
  },
  {
   "cell_type": "code",
   "execution_count": 79,
   "id": "b943f32c-a8b7-491d-8d3c-70acada74561",
   "metadata": {},
   "outputs": [
    {
     "data": {
      "text/plain": [
       "['three', 'four', 'five']"
      ]
     },
     "execution_count": 79,
     "metadata": {},
     "output_type": "execute_result"
    }
   ],
   "source": [
    "\n",
    "mylist[2:5]"
   ]
  },
  {
   "cell_type": "markdown",
   "id": "5c6a792f-8363-4472-af46-140d2d9f8c5a",
   "metadata": {},
   "source": []
  },
  {
   "cell_type": "code",
   "execution_count": 82,
   "id": "2a230805-99af-4284-a866-264e6386b2c7",
   "metadata": {},
   "outputs": [
    {
     "data": {
      "text/plain": [
       "['seven', 'ten', 'ten']"
      ]
     },
     "execution_count": 82,
     "metadata": {},
     "output_type": "execute_result"
    }
   ],
   "source": [
    "mylist[-3:] \n",
    "# Retrun Last three items"
   ]
  },
  {
   "cell_type": "code",
   "execution_count": 84,
   "id": "0f88b2b5-419a-42b9-8591-acadb8807fbe",
   "metadata": {},
   "outputs": [
    {
     "data": {
      "text/plain": [
       "['one', 'two']"
      ]
     },
     "execution_count": 84,
     "metadata": {},
     "output_type": "execute_result"
    }
   ],
   "source": [
    "mylist[:2]"
   ]
  },
  {
   "cell_type": "code",
   "execution_count": 86,
   "id": "51d2dd60-8f09-44ed-9d2a-369622f080a7",
   "metadata": {},
   "outputs": [
    {
     "data": {
      "text/plain": [
       "['one', 'two', 'three']"
      ]
     },
     "execution_count": 86,
     "metadata": {},
     "output_type": "execute_result"
    }
   ],
   "source": [
    "mylist[:3]"
   ]
  },
  {
   "cell_type": "code",
   "execution_count": 88,
   "id": "af67af45-a60f-4859-89a6-d27c6d8daba9",
   "metadata": {},
   "outputs": [
    {
     "data": {
      "text/plain": [
       "['one', 'two']"
      ]
     },
     "execution_count": 88,
     "metadata": {},
     "output_type": "execute_result"
    }
   ],
   "source": [
    "mylist[:2]"
   ]
  },
  {
   "cell_type": "code",
   "execution_count": 90,
   "id": "14f2321c-94ec-4c51-8bb9-4bccc94efcfd",
   "metadata": {},
   "outputs": [
    {
     "data": {
      "text/plain": [
       "['seven', 'ten', 'ten']"
      ]
     },
     "execution_count": 90,
     "metadata": {},
     "output_type": "execute_result"
    }
   ],
   "source": [
    "mylist[-3:]"
   ]
  },
  {
   "cell_type": "code",
   "execution_count": 92,
   "id": "8dcc8994-5ca5-4a3e-b01d-c77c59a71be2",
   "metadata": {},
   "outputs": [
    {
     "data": {
      "text/plain": [
       "['one', 'two']"
      ]
     },
     "execution_count": 92,
     "metadata": {},
     "output_type": "execute_result"
    }
   ],
   "source": [
    "mylist[:2]"
   ]
  },
  {
   "cell_type": "code",
   "execution_count": 94,
   "id": "24275cf7-4af5-449f-88e7-b1b932691440",
   "metadata": {},
   "outputs": [
    {
     "data": {
      "text/plain": [
       "['seven', 'ten', 'ten']"
      ]
     },
     "execution_count": 94,
     "metadata": {},
     "output_type": "execute_result"
    }
   ],
   "source": [
    "mylist[-3:]"
   ]
  },
  {
   "cell_type": "code",
   "execution_count": 96,
   "id": "07bb0de3-c2c8-4020-b05b-3a3ca4317bc5",
   "metadata": {},
   "outputs": [
    {
     "data": {
      "text/plain": [
       "['ten', 'ten']"
      ]
     },
     "execution_count": 96,
     "metadata": {},
     "output_type": "execute_result"
    }
   ],
   "source": [
    "mylist[-2:]"
   ]
  },
  {
   "cell_type": "code",
   "execution_count": 98,
   "id": "4fd3ef65-b84d-4d72-b257-e0679e63af55",
   "metadata": {},
   "outputs": [
    {
     "data": {
      "text/plain": [
       "['seven', 'ten', 'ten']"
      ]
     },
     "execution_count": 98,
     "metadata": {},
     "output_type": "execute_result"
    }
   ],
   "source": [
    "mylist[-3:]"
   ]
  },
  {
   "cell_type": "code",
   "execution_count": 100,
   "id": "568f64ae-4140-45bc-ac88-57ebb09c429b",
   "metadata": {},
   "outputs": [
    {
     "data": {
      "text/plain": [
       "'ten'"
      ]
     },
     "execution_count": 100,
     "metadata": {},
     "output_type": "execute_result"
    }
   ],
   "source": [
    "mylist[-1]"
   ]
  },
  {
   "cell_type": "code",
   "execution_count": 102,
   "id": "b4cabe08-ae6a-42ca-938d-abbc68b1ff33",
   "metadata": {},
   "outputs": [
    {
     "data": {
      "text/plain": [
       "'ten'"
      ]
     },
     "execution_count": 102,
     "metadata": {},
     "output_type": "execute_result"
    }
   ],
   "source": [
    "mylist[-1]"
   ]
  },
  {
   "cell_type": "markdown",
   "id": "f131830f-0b3c-41ed-876c-a53eed05ef71",
   "metadata": {},
   "source": [
    "mylist[:]"
   ]
  },
  {
   "cell_type": "markdown",
   "id": "dbf23d02-8cb3-4adb-9f4b-8b11bc01ef60",
   "metadata": {},
   "source": [
    "### Add,Remove & change Items ###"
   ]
  },
  {
   "cell_type": "code",
   "execution_count": 106,
   "id": "60d31c7d-4838-4f08-a374-b5cc9ccce456",
   "metadata": {},
   "outputs": [
    {
     "data": {
      "text/plain": [
       "['one',\n",
       " 'two',\n",
       " 'three',\n",
       " 'four',\n",
       " 'five',\n",
       " 'six',\n",
       " 'seven',\n",
       " 'eight',\n",
       " 'nine',\n",
       " 'nine',\n",
       " 'seven',\n",
       " 'seven',\n",
       " 'ten',\n",
       " 'ten']"
      ]
     },
     "execution_count": 106,
     "metadata": {},
     "output_type": "execute_result"
    }
   ],
   "source": [
    "mylist"
   ]
  },
  {
   "cell_type": "code",
   "execution_count": 108,
   "id": "20a8f9ac-c373-4ac8-b4ae-bba153439f4e",
   "metadata": {},
   "outputs": [],
   "source": [
    "mylist.append('nine')"
   ]
  },
  {
   "cell_type": "code",
   "execution_count": 110,
   "id": "79a7eb99-6a1c-4f2c-a179-978d2daf7df9",
   "metadata": {},
   "outputs": [
    {
     "data": {
      "text/plain": [
       "['one',\n",
       " 'two',\n",
       " 'three',\n",
       " 'four',\n",
       " 'five',\n",
       " 'six',\n",
       " 'seven',\n",
       " 'eight',\n",
       " 'nine',\n",
       " 'nine',\n",
       " 'seven',\n",
       " 'seven',\n",
       " 'ten',\n",
       " 'ten',\n",
       " 'nine',\n",
       " 'nine']"
      ]
     },
     "execution_count": 110,
     "metadata": {},
     "output_type": "execute_result"
    }
   ],
   "source": [
    "mylist"
   ]
  },
  {
   "cell_type": "code",
   "execution_count": 112,
   "id": "7e2c0270-f6a0-4c6c-aad9-d0a357721569",
   "metadata": {},
   "outputs": [
    {
     "data": {
      "text/plain": [
       "4"
      ]
     },
     "execution_count": 112,
     "metadata": {},
     "output_type": "execute_result"
    }
   ],
   "source": [
    "mylist.count('nine')"
   ]
  },
  {
   "cell_type": "code",
   "execution_count": 114,
   "id": "c4e48aac-40ec-4973-ac47-a4c7e8245c58",
   "metadata": {},
   "outputs": [],
   "source": [
    "mylist.append('nine')"
   ]
  },
  {
   "cell_type": "code",
   "execution_count": 116,
   "id": "7305ae8a-6f72-4d1c-b4f1-5b2c8eff6590",
   "metadata": {},
   "outputs": [],
   "source": [
    "mylist.insert(9,'ten')"
   ]
  },
  {
   "cell_type": "code",
   "execution_count": 118,
   "id": "5c12ca01-78b7-4c16-8337-32f22a4a4108",
   "metadata": {},
   "outputs": [
    {
     "data": {
      "text/plain": [
       "['one',\n",
       " 'two',\n",
       " 'three',\n",
       " 'four',\n",
       " 'five',\n",
       " 'six',\n",
       " 'seven',\n",
       " 'eight',\n",
       " 'nine',\n",
       " 'ten',\n",
       " 'ten',\n",
       " 'nine',\n",
       " 'seven',\n",
       " 'seven',\n",
       " 'ten',\n",
       " 'ten',\n",
       " 'nine',\n",
       " 'nine',\n",
       " 'nine',\n",
       " 'nine']"
      ]
     },
     "execution_count": 118,
     "metadata": {},
     "output_type": "execute_result"
    }
   ],
   "source": [
    "mylist"
   ]
  },
  {
   "cell_type": "raw",
   "id": "cbbd1dbc-68ba-4ad7-91d2-28c3c015c4b0",
   "metadata": {},
   "source": [
    "mylist.remove('one')"
   ]
  },
  {
   "cell_type": "code",
   "execution_count": 124,
   "id": "a7865eb0-e9f8-4628-a6da-a1ea24fdbc43",
   "metadata": {},
   "outputs": [
    {
     "data": {
      "text/plain": [
       "['two',\n",
       " 'three',\n",
       " 'four',\n",
       " 'five',\n",
       " 'six',\n",
       " 'seven',\n",
       " 'eight',\n",
       " 'nine',\n",
       " 'ten',\n",
       " 'ten',\n",
       " 'nine',\n",
       " 'seven',\n",
       " 'seven',\n",
       " 'ten',\n",
       " 'ten',\n",
       " 'nine',\n",
       " 'nine',\n",
       " 'nine',\n",
       " 'nine']"
      ]
     },
     "execution_count": 124,
     "metadata": {},
     "output_type": "execute_result"
    }
   ],
   "source": [
    "mylist"
   ]
  },
  {
   "cell_type": "code",
   "execution_count": 126,
   "id": "417a329b-aeac-4b7a-8802-3ff68b520dc6",
   "metadata": {},
   "outputs": [
    {
     "data": {
      "text/plain": [
       "'nine'"
      ]
     },
     "execution_count": 126,
     "metadata": {},
     "output_type": "execute_result"
    }
   ],
   "source": [
    "mylist.pop()"
   ]
  },
  {
   "cell_type": "code",
   "execution_count": 128,
   "id": "a96f7e2d-289b-440c-92cd-7672b1202466",
   "metadata": {},
   "outputs": [
    {
     "data": {
      "text/plain": [
       "['two',\n",
       " 'three',\n",
       " 'four',\n",
       " 'five',\n",
       " 'six',\n",
       " 'seven',\n",
       " 'eight',\n",
       " 'nine',\n",
       " 'ten',\n",
       " 'ten',\n",
       " 'nine',\n",
       " 'seven',\n",
       " 'seven',\n",
       " 'ten',\n",
       " 'ten',\n",
       " 'nine',\n",
       " 'nine']"
      ]
     },
     "execution_count": 128,
     "metadata": {},
     "output_type": "execute_result"
    }
   ],
   "source": [
    "mylist"
   ]
  },
  {
   "cell_type": "code",
   "execution_count": 130,
   "id": "bf41c260-8256-4d51-bc29-c7d43ba35026",
   "metadata": {},
   "outputs": [
    {
     "data": {
      "text/plain": [
       "'ten'"
      ]
     },
     "execution_count": 130,
     "metadata": {},
     "output_type": "execute_result"
    }
   ],
   "source": [
    "mylist.pop(8)"
   ]
  },
  {
   "cell_type": "code",
   "execution_count": 132,
   "id": "bbe84acb-77ff-4fd3-8c55-a8271831c114",
   "metadata": {},
   "outputs": [
    {
     "data": {
      "text/plain": [
       "['two',\n",
       " 'three',\n",
       " 'four',\n",
       " 'five',\n",
       " 'six',\n",
       " 'seven',\n",
       " 'eight',\n",
       " 'nine',\n",
       " 'nine',\n",
       " 'seven',\n",
       " 'seven',\n",
       " 'ten',\n",
       " 'ten',\n",
       " 'nine',\n",
       " 'nine']"
      ]
     },
     "execution_count": 132,
     "metadata": {},
     "output_type": "execute_result"
    }
   ],
   "source": [
    "mylist"
   ]
  },
  {
   "cell_type": "code",
   "execution_count": 136,
   "id": "35b654ca-7a73-4361-b2b1-5c985e2c0da7",
   "metadata": {},
   "outputs": [
    {
     "ename": "TypeError",
     "evalue": "pop expected at most 1 argument, got 2",
     "output_type": "error",
     "traceback": [
      "\u001b[1;31m---------------------------------------------------------------------------\u001b[0m",
      "\u001b[1;31mTypeError\u001b[0m                                 Traceback (most recent call last)",
      "Cell \u001b[1;32mIn[136], line 1\u001b[0m\n\u001b[1;32m----> 1\u001b[0m mylist\u001b[38;5;241m.\u001b[39mpop(\u001b[38;5;241m8\u001b[39m,\u001b[38;5;241m9\u001b[39m)\n",
      "\u001b[1;31mTypeError\u001b[0m: pop expected at most 1 argument, got 2"
     ]
    }
   ],
   "source": [
    "mylist.pop(8,9)"
   ]
  },
  {
   "cell_type": "code",
   "execution_count": 138,
   "id": "5115adca-be40-4182-9b03-ce802204246e",
   "metadata": {},
   "outputs": [
    {
     "data": {
      "text/plain": [
       "['two',\n",
       " 'three',\n",
       " 'four',\n",
       " 'five',\n",
       " 'six',\n",
       " 'seven',\n",
       " 'eight',\n",
       " 'nine',\n",
       " 'nine',\n",
       " 'seven',\n",
       " 'seven',\n",
       " 'ten',\n",
       " 'ten',\n",
       " 'nine',\n",
       " 'nine']"
      ]
     },
     "execution_count": 138,
     "metadata": {},
     "output_type": "execute_result"
    }
   ],
   "source": [
    "mylist"
   ]
  },
  {
   "cell_type": "code",
   "execution_count": 143,
   "id": "6e15e3fa-dabb-407d-b8c1-62339ed9e2d3",
   "metadata": {},
   "outputs": [],
   "source": [
    "mylist.remove('ten') # Remove item \"One\""
   ]
  },
  {
   "cell_type": "code",
   "execution_count": 146,
   "id": "08b25312-8fc5-44cc-99b8-a5ca9465fdf7",
   "metadata": {},
   "outputs": [
    {
     "data": {
      "text/plain": [
       "['two',\n",
       " 'three',\n",
       " 'four',\n",
       " 'five',\n",
       " 'seven',\n",
       " 'eight',\n",
       " 'nine',\n",
       " 'nine',\n",
       " 'seven',\n",
       " 'seven',\n",
       " 'ten',\n",
       " 'nine',\n",
       " 'nine']"
      ]
     },
     "execution_count": 146,
     "metadata": {},
     "output_type": "execute_result"
    }
   ],
   "source": [
    "mylist"
   ]
  },
  {
   "cell_type": "code",
   "execution_count": 150,
   "id": "03c8d79f-f02e-40cb-800b-e543f634c9c2",
   "metadata": {},
   "outputs": [],
   "source": [
    "del mylist[7]"
   ]
  },
  {
   "cell_type": "code",
   "execution_count": 151,
   "id": "633905e2-cb21-4263-96ed-f5b385a6ffc7",
   "metadata": {},
   "outputs": [
    {
     "data": {
      "text/plain": [
       "['two',\n",
       " 'three',\n",
       " 'four',\n",
       " 'five',\n",
       " 'seven',\n",
       " 'eight',\n",
       " 'nine',\n",
       " 'ten',\n",
       " 'nine',\n",
       " 'nine']"
      ]
     },
     "execution_count": 151,
     "metadata": {},
     "output_type": "execute_result"
    }
   ],
   "source": [
    "mylist"
   ]
  },
  {
   "cell_type": "markdown",
   "id": "e8d7985f-8da0-4754-aa4d-0648149aad14",
   "metadata": {},
   "source": [
    "### Copy  List ###"
   ]
  },
  {
   "cell_type": "code",
   "execution_count": 162,
   "id": "e905e2ea-5bd8-4968-8aad-630a765c7e77",
   "metadata": {},
   "outputs": [],
   "source": [
    "mylist=['one','two','three','four','six','seven','eight','nine']"
   ]
  },
  {
   "cell_type": "code",
   "execution_count": 166,
   "id": "244c1b04-33f9-46c1-a32c-a59f2073139e",
   "metadata": {},
   "outputs": [],
   "source": [
    "mylist1 = mylist # Create a new reference \"mylist1\""
   ]
  },
  {
   "cell_type": "code",
   "execution_count": 168,
   "id": "8e21246f-7545-4f94-9cd3-a31e4130a467",
   "metadata": {},
   "outputs": [
    {
     "data": {
      "text/plain": [
       "(1546206780288, 1546206780288)"
      ]
     },
     "execution_count": 168,
     "metadata": {},
     "output_type": "execute_result"
    }
   ],
   "source": [
    "id(mylist),id(mylist1)"
   ]
  },
  {
   "cell_type": "code",
   "execution_count": 170,
   "id": "b1faf20c-135f-454f-a6bb-9dca56a62df8",
   "metadata": {},
   "outputs": [],
   "source": [
    "mylist2=mylist.copy()"
   ]
  },
  {
   "cell_type": "code",
   "execution_count": 172,
   "id": "59de6808-bff2-4a29-8f6b-bc2c3ea3e65f",
   "metadata": {},
   "outputs": [],
   "source": [
    "mylist2=mylist.copy()"
   ]
  },
  {
   "cell_type": "code",
   "execution_count": 174,
   "id": "58a1abe1-c070-42b0-8a13-b9f5dd95f48c",
   "metadata": {},
   "outputs": [
    {
     "data": {
      "text/plain": [
       "1546204196928"
      ]
     },
     "execution_count": 174,
     "metadata": {},
     "output_type": "execute_result"
    }
   ],
   "source": [
    "id(mylist2)"
   ]
  },
  {
   "cell_type": "code",
   "execution_count": 176,
   "id": "46c91a25-7dfc-442f-99cb-da37c5db48c2",
   "metadata": {},
   "outputs": [],
   "source": [
    "mylist[0]=1"
   ]
  },
  {
   "cell_type": "code",
   "execution_count": 178,
   "id": "1e531468-b4f7-4dfb-97e1-27bf69e468f4",
   "metadata": {},
   "outputs": [
    {
     "data": {
      "text/plain": [
       "[1, 'two', 'three', 'four', 'six', 'seven', 'eight', 'nine']"
      ]
     },
     "execution_count": 178,
     "metadata": {},
     "output_type": "execute_result"
    }
   ],
   "source": [
    "mylist"
   ]
  },
  {
   "cell_type": "code",
   "execution_count": 180,
   "id": "af42ad51-28c9-45c8-ab7d-ecbe81a95f42",
   "metadata": {},
   "outputs": [
    {
     "data": {
      "text/plain": [
       "[1, 'two', 'three', 'four', 'six', 'seven', 'eight', 'nine']"
      ]
     },
     "execution_count": 180,
     "metadata": {},
     "output_type": "execute_result"
    }
   ],
   "source": [
    "mylist1"
   ]
  },
  {
   "cell_type": "markdown",
   "id": "ed473efc-5ca6-4291-879e-81996806ebae",
   "metadata": {},
   "source": [
    "### Joins  Lists ###"
   ]
  },
  {
   "cell_type": "code",
   "execution_count": 182,
   "id": "1f987016-21b1-4985-b066-e9591b4a6e84",
   "metadata": {},
   "outputs": [],
   "source": [
    "list1=['one','two','three','four']\n",
    "list2=['five','six','seven,eight']"
   ]
  },
  {
   "cell_type": "code",
   "execution_count": 184,
   "id": "2de58391-6043-47a4-90b1-05b85b5357a0",
   "metadata": {},
   "outputs": [],
   "source": [
    "list3 = list1+list2"
   ]
  },
  {
   "cell_type": "code",
   "execution_count": 186,
   "id": "ed59bdc3-8494-462a-a09e-be8de8ebac6d",
   "metadata": {},
   "outputs": [
    {
     "data": {
      "text/plain": [
       "['one', 'two', 'three', 'four', 'five', 'six', 'seven', 'eight']"
      ]
     },
     "execution_count": 186,
     "metadata": {},
     "output_type": "execute_result"
    }
   ],
   "source": [
    "list3"
   ]
  },
  {
   "cell_type": "code",
   "execution_count": 188,
   "id": "c78e4a0f-edeb-40f2-aa14-6b92790ba7c1",
   "metadata": {},
   "outputs": [],
   "source": [
    "list1.extend(list2)"
   ]
  },
  {
   "cell_type": "code",
   "execution_count": 190,
   "id": "89f252ec-a879-41aa-b7ea-3ca3a27dfce6",
   "metadata": {},
   "outputs": [
    {
     "data": {
      "text/plain": [
       "['one',\n",
       " 'two',\n",
       " 'three',\n",
       " 'four',\n",
       " 'five',\n",
       " 'six',\n",
       " 'seven',\n",
       " 'eight',\n",
       " 'five',\n",
       " 'six',\n",
       " 'seven',\n",
       " 'eight']"
      ]
     },
     "execution_count": 190,
     "metadata": {},
     "output_type": "execute_result"
    }
   ],
   "source": [
    "list1"
   ]
  },
  {
   "cell_type": "code",
   "execution_count": 194,
   "id": "612f7553-9b99-4270-a201-c854651a1892",
   "metadata": {},
   "outputs": [],
   "source": [
    "list1.extend(list2)"
   ]
  },
  {
   "cell_type": "code",
   "execution_count": 196,
   "id": "8003a488-7624-42dc-9894-51680ac6adca",
   "metadata": {},
   "outputs": [
    {
     "data": {
      "text/plain": [
       "['one',\n",
       " 'two',\n",
       " 'three',\n",
       " 'four',\n",
       " 'five',\n",
       " 'six',\n",
       " 'seven',\n",
       " 'eight',\n",
       " 'five',\n",
       " 'six',\n",
       " 'seven',\n",
       " 'eight',\n",
       " 'five',\n",
       " 'six',\n",
       " 'seven',\n",
       " 'eight',\n",
       " 'five',\n",
       " 'six',\n",
       " 'seven',\n",
       " 'eight']"
      ]
     },
     "execution_count": 196,
     "metadata": {},
     "output_type": "execute_result"
    }
   ],
   "source": [
    "list1"
   ]
  },
  {
   "cell_type": "markdown",
   "id": "0bd1c39a-0a82-481b-86f5-a756d88f0938",
   "metadata": {},
   "source": [
    "### List Membership ###"
   ]
  },
  {
   "cell_type": "code",
   "execution_count": 201,
   "id": "4f1b1069-e054-47d3-95b8-59541c44416b",
   "metadata": {},
   "outputs": [
    {
     "data": {
      "text/plain": [
       "['one',\n",
       " 'two',\n",
       " 'three',\n",
       " 'four',\n",
       " 'five',\n",
       " 'six',\n",
       " 'seven',\n",
       " 'eight',\n",
       " 'five',\n",
       " 'six',\n",
       " 'seven',\n",
       " 'eight',\n",
       " 'five',\n",
       " 'six',\n",
       " 'seven',\n",
       " 'eight',\n",
       " 'five',\n",
       " 'six',\n",
       " 'seven',\n",
       " 'eight']"
      ]
     },
     "execution_count": 201,
     "metadata": {},
     "output_type": "execute_result"
    }
   ],
   "source": [
    "list1"
   ]
  },
  {
   "cell_type": "code",
   "execution_count": 203,
   "id": "67264b76-4e2d-42cd-b8fc-af93c24433ab",
   "metadata": {},
   "outputs": [
    {
     "data": {
      "text/plain": [
       "True"
      ]
     },
     "execution_count": 203,
     "metadata": {},
     "output_type": "execute_result"
    }
   ],
   "source": [
    "'one' in list1 # Check if 'one' exist in the list"
   ]
  },
  {
   "cell_type": "code",
   "execution_count": 205,
   "id": "bb04be8e-c44a-4256-a6df-a6846312c46f",
   "metadata": {},
   "outputs": [
    {
     "data": {
      "text/plain": [
       "False"
      ]
     },
     "execution_count": 205,
     "metadata": {},
     "output_type": "execute_result"
    }
   ],
   "source": [
    "'ten' in list1 # Check if 'ten' exist in the list"
   ]
  },
  {
   "cell_type": "code",
   "execution_count": 207,
   "id": "2dd9b2e2-b339-4ba1-a2c6-e5d10a83d1d0",
   "metadata": {},
   "outputs": [
    {
     "name": "stdout",
     "output_type": "stream",
     "text": [
      "Three is present in the list\n"
     ]
    }
   ],
   "source": [
    "if 'three' in list1:\n",
    "    print('Three is present in the list')\n",
    "else:\n",
    "    print('eleven is not present in  the list')"
   ]
  },
  {
   "cell_type": "markdown",
   "id": "dd7097b3-922f-4cd4-94b9-56c1edf592df",
   "metadata": {
    "jp-MarkdownHeadingCollapsed": true
   },
   "source": [
    "### Reverse & Sort List ###"
   ]
  },
  {
   "cell_type": "code",
   "execution_count": 209,
   "id": "f3b1c9f3-e8b3-416e-9b2f-d548b37cdbe5",
   "metadata": {},
   "outputs": [
    {
     "data": {
      "text/plain": [
       "['one',\n",
       " 'two',\n",
       " 'three',\n",
       " 'four',\n",
       " 'five',\n",
       " 'six',\n",
       " 'seven',\n",
       " 'eight',\n",
       " 'five',\n",
       " 'six',\n",
       " 'seven',\n",
       " 'eight',\n",
       " 'five',\n",
       " 'six',\n",
       " 'seven',\n",
       " 'eight',\n",
       " 'five',\n",
       " 'six',\n",
       " 'seven',\n",
       " 'eight']"
      ]
     },
     "execution_count": 209,
     "metadata": {},
     "output_type": "execute_result"
    }
   ],
   "source": [
    "list1"
   ]
  },
  {
   "cell_type": "code",
   "execution_count": 214,
   "id": "7c4e2b5a-7bf9-4c3c-b44f-f1e570373476",
   "metadata": {},
   "outputs": [
    {
     "data": {
      "text/plain": [
       "['one',\n",
       " 'two',\n",
       " 'three',\n",
       " 'four',\n",
       " 'five',\n",
       " 'six',\n",
       " 'seven',\n",
       " 'eight',\n",
       " 'five',\n",
       " 'six',\n",
       " 'seven',\n",
       " 'eight',\n",
       " 'five',\n",
       " 'six',\n",
       " 'seven',\n",
       " 'eight',\n",
       " 'five',\n",
       " 'six',\n",
       " 'seven',\n",
       " 'eight']"
      ]
     },
     "execution_count": 214,
     "metadata": {},
     "output_type": "execute_result"
    }
   ],
   "source": [
    "\n",
    "list1"
   ]
  },
  {
   "cell_type": "code",
   "execution_count": 217,
   "id": "946db100-9762-4d91-a4c7-e9e7064a3737",
   "metadata": {},
   "outputs": [
    {
     "data": {
      "text/plain": [
       "['eight',\n",
       " 'seven',\n",
       " 'six',\n",
       " 'five',\n",
       " 'eight',\n",
       " 'seven',\n",
       " 'six',\n",
       " 'five',\n",
       " 'eight',\n",
       " 'seven',\n",
       " 'six',\n",
       " 'five',\n",
       " 'eight',\n",
       " 'seven',\n",
       " 'six',\n",
       " 'five',\n",
       " 'four',\n",
       " 'three',\n",
       " 'two',\n",
       " 'one']"
      ]
     },
     "execution_count": 217,
     "metadata": {},
     "output_type": "execute_result"
    }
   ],
   "source": [
    "list1.reverse()\n",
    "list1"
   ]
  },
  {
   "cell_type": "code",
   "execution_count": 219,
   "id": "e257b6ff-fefe-4074-af9b-a4a1d72d2e95",
   "metadata": {},
   "outputs": [],
   "source": [
    "list1=list1[::-1]"
   ]
  },
  {
   "cell_type": "code",
   "execution_count": 221,
   "id": "ee8669fb-4d31-44f0-8cda-f17b2b8d0dad",
   "metadata": {},
   "outputs": [
    {
     "data": {
      "text/plain": [
       "['eight',\n",
       " 'seven',\n",
       " 'six',\n",
       " 'five',\n",
       " 'eight',\n",
       " 'seven',\n",
       " 'six',\n",
       " 'five',\n",
       " 'eight',\n",
       " 'seven',\n",
       " 'six',\n",
       " 'five',\n",
       " 'eight',\n",
       " 'seven',\n",
       " 'six',\n",
       " 'five',\n",
       " 'four',\n",
       " 'three',\n",
       " 'two',\n",
       " 'one']"
      ]
     },
     "execution_count": 221,
     "metadata": {},
     "output_type": "execute_result"
    }
   ],
   "source": [
    "list1"
   ]
  },
  {
   "cell_type": "code",
   "execution_count": 223,
   "id": "b2de121d-4770-40ba-a638-4c1e1b710b78",
   "metadata": {},
   "outputs": [
    {
     "data": {
      "text/plain": [
       "[5, 9, 12, 34, 88, 99]"
      ]
     },
     "execution_count": 223,
     "metadata": {},
     "output_type": "execute_result"
    }
   ],
   "source": [
    "mylist3=[9,5,99,12,88,34]\n",
    "mylist3.sort()\n",
    "mylist3"
   ]
  },
  {
   "cell_type": "code",
   "execution_count": 227,
   "id": "e1507edc-c9de-406b-8d92-a397736c9a13",
   "metadata": {},
   "outputs": [
    {
     "data": {
      "text/plain": [
       "[99, 88, 34, 12, 9, 5, 2]"
      ]
     },
     "execution_count": 227,
     "metadata": {},
     "output_type": "execute_result"
    }
   ],
   "source": [
    "mylist3=[9,5,2,99,12,88,34]\n",
    "mylist3.sort(reverse=True)\n",
    "mylist3# Sort list in descending order."
   ]
  },
  {
   "cell_type": "code",
   "execution_count": 229,
   "id": "0b953727-b887-4f56-bd47-c06b3cfffebb",
   "metadata": {},
   "outputs": [
    {
     "data": {
      "text/plain": [
       "[11, 21, 33, 65, 88, 98]"
      ]
     },
     "execution_count": 229,
     "metadata": {},
     "output_type": "execute_result"
    }
   ],
   "source": [
    "mylist4=[88,65,33,21,11,98]\n",
    "sorted(mylist4)"
   ]
  },
  {
   "cell_type": "markdown",
   "id": "94142863-70a1-4e40-be76-b32adeb9c5a8",
   "metadata": {},
   "source": [
    "### Loop through  a list ###"
   ]
  },
  {
   "cell_type": "code",
   "execution_count": 231,
   "id": "7585b77e-3d9a-44b7-a4bb-322fd8c5776f",
   "metadata": {},
   "outputs": [
    {
     "data": {
      "text/plain": [
       "['eight',\n",
       " 'seven',\n",
       " 'six',\n",
       " 'five',\n",
       " 'eight',\n",
       " 'seven',\n",
       " 'six',\n",
       " 'five',\n",
       " 'eight',\n",
       " 'seven',\n",
       " 'six',\n",
       " 'five',\n",
       " 'eight',\n",
       " 'seven',\n",
       " 'six',\n",
       " 'five',\n",
       " 'four',\n",
       " 'three',\n",
       " 'two',\n",
       " 'one']"
      ]
     },
     "execution_count": 231,
     "metadata": {},
     "output_type": "execute_result"
    }
   ],
   "source": [
    "list1"
   ]
  },
  {
   "cell_type": "code",
   "execution_count": 233,
   "id": "57dc24ca-1a8f-4317-b790-d5b45024f998",
   "metadata": {},
   "outputs": [
    {
     "name": "stdout",
     "output_type": "stream",
     "text": [
      "eight\n",
      "seven\n",
      "six\n",
      "five\n",
      "eight\n",
      "seven\n",
      "six\n",
      "five\n",
      "eight\n",
      "seven\n",
      "six\n",
      "five\n",
      "eight\n",
      "seven\n",
      "six\n",
      "five\n",
      "four\n",
      "three\n",
      "two\n",
      "one\n"
     ]
    }
   ],
   "source": [
    "for i in list1:\n",
    "    print(i)"
   ]
  },
  {
   "cell_type": "code",
   "execution_count": 235,
   "id": "25caf25f-49d0-42ed-b7c3-dd189b273382",
   "metadata": {},
   "outputs": [
    {
     "name": "stdout",
     "output_type": "stream",
     "text": [
      "(0, 'eight')\n",
      "(1, 'seven')\n",
      "(2, 'six')\n",
      "(3, 'five')\n",
      "(4, 'eight')\n",
      "(5, 'seven')\n",
      "(6, 'six')\n",
      "(7, 'five')\n",
      "(8, 'eight')\n",
      "(9, 'seven')\n",
      "(10, 'six')\n",
      "(11, 'five')\n",
      "(12, 'eight')\n",
      "(13, 'seven')\n",
      "(14, 'six')\n",
      "(15, 'five')\n",
      "(16, 'four')\n",
      "(17, 'three')\n",
      "(18, 'two')\n",
      "(19, 'one')\n"
     ]
    }
   ],
   "source": [
    "for i in enumerate(list1):\n",
    "    print(i)"
   ]
  },
  {
   "cell_type": "code",
   "execution_count": 238,
   "id": "cb308178-5a79-44b1-b04e-7d3f26b0cdde",
   "metadata": {},
   "outputs": [
    {
     "data": {
      "text/plain": [
       "1"
      ]
     },
     "execution_count": 238,
     "metadata": {},
     "output_type": "execute_result"
    }
   ],
   "source": [
    "list1.count('one')"
   ]
  },
  {
   "cell_type": "code",
   "execution_count": 242,
   "id": "1d7628f3-ae3b-4ebf-89a9-b9a432493baa",
   "metadata": {},
   "outputs": [
    {
     "data": {
      "text/plain": [
       "4"
      ]
     },
     "execution_count": 242,
     "metadata": {},
     "output_type": "execute_result"
    }
   ],
   "source": [
    "list1.count('six')"
   ]
  },
  {
   "cell_type": "markdown",
   "id": "173933f1-f777-42d7-93ff-506bbda15faf",
   "metadata": {},
   "source": [
    "### All/Any ###\n",
    "***The all() method returns:.***\n",
    "\n",
    "***True-IF all elements in  a list are true***"
   ]
  },
  {
   "cell_type": "markdown",
   "id": "0c82dd80-310f-4984-8285-036366c63dd9",
   "metadata": {},
   "source": [
    "***False- If any element in a listis false***"
   ]
  },
  {
   "cell_type": "code",
   "execution_count": 244,
   "id": "5046a8b0-1821-4b0e-8a39-dc67ae810f8c",
   "metadata": {},
   "outputs": [],
   "source": [
    "L1=[1,2,3,4,0]"
   ]
  },
  {
   "cell_type": "code",
   "execution_count": 246,
   "id": "2086bd00-eb47-47eb-bdac-f0ccc7d68a1c",
   "metadata": {},
   "outputs": [
    {
     "data": {
      "text/plain": [
       "False"
      ]
     },
     "execution_count": 246,
     "metadata": {},
     "output_type": "execute_result"
    }
   ],
   "source": [
    "all(L1) # Will Return false as one value is false(Value 0)\n"
   ]
  },
  {
   "cell_type": "code",
   "execution_count": 248,
   "id": "84c7f24f-b6c3-42f1-b04b-d48b1717f589",
   "metadata": {},
   "outputs": [
    {
     "data": {
      "text/plain": [
       "True"
      ]
     },
     "execution_count": 248,
     "metadata": {},
     "output_type": "execute_result"
    }
   ],
   "source": [
    "any(L1)"
   ]
  },
  {
   "cell_type": "code",
   "execution_count": 250,
   "id": "a1e8a2e7-f882-43a7-9121-77e77fc353f2",
   "metadata": {},
   "outputs": [],
   "source": [
    "L2=[1,2,3,4,True,False]"
   ]
  },
  {
   "cell_type": "code",
   "execution_count": 252,
   "id": "3c2a64fb-80ad-4f10-af96-b40f1f274209",
   "metadata": {},
   "outputs": [
    {
     "data": {
      "text/plain": [
       "False"
      ]
     },
     "execution_count": 252,
     "metadata": {},
     "output_type": "execute_result"
    }
   ],
   "source": [
    "all(L2) # Return  flase as one value is false"
   ]
  },
  {
   "cell_type": "code",
   "execution_count": 254,
   "id": "a34e7170-b132-4ddd-88f9-0c4f9fbb9edc",
   "metadata": {},
   "outputs": [
    {
     "data": {
      "text/plain": [
       "True"
      ]
     },
     "execution_count": 254,
     "metadata": {},
     "output_type": "execute_result"
    }
   ],
   "source": [
    "any(L2)"
   ]
  },
  {
   "cell_type": "code",
   "execution_count": 256,
   "id": "5706ed52-89af-49b4-a5db-8f34fd8ae8f8",
   "metadata": {},
   "outputs": [],
   "source": [
    "L3=[1,2,3,True]\n"
   ]
  },
  {
   "cell_type": "code",
   "execution_count": 257,
   "id": "67eae649-4f22-4749-8db5-85ee3ef3a3e1",
   "metadata": {},
   "outputs": [
    {
     "data": {
      "text/plain": [
       "True"
      ]
     },
     "execution_count": 257,
     "metadata": {},
     "output_type": "execute_result"
    }
   ],
   "source": [
    "all(L3)"
   ]
  }
 ],
 "metadata": {
  "kernelspec": {
   "display_name": "Python 3 (ipykernel)",
   "language": "python",
   "name": "python3"
  },
  "language_info": {
   "codemirror_mode": {
    "name": "ipython",
    "version": 3
   },
   "file_extension": ".py",
   "mimetype": "text/x-python",
   "name": "python",
   "nbconvert_exporter": "python",
   "pygments_lexer": "ipython3",
   "version": "3.12.4"
  }
 },
 "nbformat": 4,
 "nbformat_minor": 5
}
