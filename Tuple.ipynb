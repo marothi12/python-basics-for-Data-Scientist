{
 "cells": [
  {
   "cell_type": "code",
   "execution_count": 1,
   "id": "7ef3482b-5b9c-43ad-9d3a-361f32c78483",
   "metadata": {},
   "outputs": [],
   "source": [
    "tup1=() # Empty tuple"
   ]
  },
  {
   "cell_type": "code",
   "execution_count": 20,
   "id": "897736af-3a83-4192-a73c-6ab11e831594",
   "metadata": {},
   "outputs": [],
   "source": [
    "tup2=(10,30,60) #tuple of integer numbers"
   ]
  },
  {
   "cell_type": "code",
   "execution_count": 6,
   "id": "2a059a29-9ec0-4d83-82ad-d28bcc14d86f",
   "metadata": {},
   "outputs": [],
   "source": [
    "tup4=('one','two','three')"
   ]
  },
  {
   "cell_type": "code",
   "execution_count": 2,
   "id": "51e2768c-cdb7-4deb-b576-fc4575b806cc",
   "metadata": {},
   "outputs": [],
   "source": [
    "tup3=(10.77,30.66,60.89)"
   ]
  },
  {
   "cell_type": "code",
   "execution_count": 4,
   "id": "7aee4bb7-e057-4141-8da0-92de9d1f2601",
   "metadata": {},
   "outputs": [
    {
     "data": {
      "text/plain": [
       "(10.77, 30.66, 60.89)"
      ]
     },
     "execution_count": 4,
     "metadata": {},
     "output_type": "execute_result"
    }
   ],
   "source": [
    "tup3"
   ]
  },
  {
   "cell_type": "code",
   "execution_count": 6,
   "id": "3a06fe20-fcd6-4f12-b784-5e7d540590c4",
   "metadata": {},
   "outputs": [],
   "source": [
    "tup4=('Asif',25,(50,100),(150,90))"
   ]
  },
  {
   "cell_type": "code",
   "execution_count": 8,
   "id": "cb1fcdab-628a-44d1-b086-4119fbacf979",
   "metadata": {},
   "outputs": [
    {
     "data": {
      "text/plain": [
       "('Asif', 25, (50, 100), (150, 90))"
      ]
     },
     "execution_count": 8,
     "metadata": {},
     "output_type": "execute_result"
    }
   ],
   "source": [
    "tup4"
   ]
  },
  {
   "cell_type": "code",
   "execution_count": 10,
   "id": "3cfba387-e475-402e-8988-7e4a7041e0d8",
   "metadata": {},
   "outputs": [],
   "source": [
    "tup5=('Asif',25,(50,100),(150,90))  # Nested tuples"
   ]
  },
  {
   "cell_type": "code",
   "execution_count": 12,
   "id": "77328c58-6756-48fb-98f7-b9e2cc56c7ea",
   "metadata": {},
   "outputs": [],
   "source": [
    "tup6=(100,'ASif',17.785) # Tuples of  mixed data types.\n"
   ]
  },
  {
   "cell_type": "code",
   "execution_count": 14,
   "id": "d231bec4-ac14-480d-ae54-53c8a76f2507",
   "metadata": {},
   "outputs": [],
   "source": [
    "tup7=('Aisf',25,[50,100],[150,90],{'john','David'},{99,22,33})"
   ]
  },
  {
   "cell_type": "code",
   "execution_count": 16,
   "id": "d543047b-5252-4f3d-8067-be9bcf1d2399",
   "metadata": {},
   "outputs": [
    {
     "data": {
      "text/plain": [
       "6"
      ]
     },
     "execution_count": 16,
     "metadata": {},
     "output_type": "execute_result"
    }
   ],
   "source": [
    "len(tup7)"
   ]
  },
  {
   "cell_type": "markdown",
   "id": "6ca7d334-9114-4324-9383-f1e5873c0c46",
   "metadata": {},
   "source": [
    "### Tuple Indexing ###"
   ]
  },
  {
   "cell_type": "code",
   "execution_count": 22,
   "id": "a041c59b-af9d-454a-8395-16515b634695",
   "metadata": {},
   "outputs": [
    {
     "data": {
      "text/plain": [
       "10"
      ]
     },
     "execution_count": 22,
     "metadata": {},
     "output_type": "execute_result"
    }
   ],
   "source": [
    "tup2[0] #Retreive first element of the tuple"
   ]
  },
  {
   "cell_type": "code",
   "execution_count": 24,
   "id": "00f10ff2-aa4c-4f97-af19-7d51ff1cf3dd",
   "metadata": {},
   "outputs": [
    {
     "data": {
      "text/plain": [
       "'Asif'"
      ]
     },
     "execution_count": 24,
     "metadata": {},
     "output_type": "execute_result"
    }
   ],
   "source": [
    "tup4[0]"
   ]
  },
  {
   "cell_type": "code",
   "execution_count": 26,
   "id": "3834eafe-f262-47a4-b3e1-1833e39e812f",
   "metadata": {},
   "outputs": [
    {
     "data": {
      "text/plain": [
       "(150, 90)"
      ]
     },
     "execution_count": 26,
     "metadata": {},
     "output_type": "execute_result"
    }
   ],
   "source": [
    "tup4[-1] #Last item of the tuple"
   ]
  },
  {
   "cell_type": "code",
   "execution_count": 28,
   "id": "80931d87-72ce-4e15-bb41-86f608bc36fb",
   "metadata": {},
   "outputs": [
    {
     "data": {
      "text/plain": [
       "(150, 90)"
      ]
     },
     "execution_count": 28,
     "metadata": {},
     "output_type": "execute_result"
    }
   ],
   "source": [
    "tup5[-1] # Last item of the tuple"
   ]
  },
  {
   "cell_type": "markdown",
   "id": "6498f82a-b72d-43a2-979e-38d0d057f60a",
   "metadata": {},
   "source": [
    "### Tuple Slicing ###"
   ]
  },
  {
   "cell_type": "code",
   "execution_count": 31,
   "id": "c3779131-bf8d-4526-bf33-11c724ec4a5d",
   "metadata": {},
   "outputs": [],
   "source": [
    "mytuple=('one','three','four','five','six','seven','eight')\n"
   ]
  },
  {
   "cell_type": "code",
   "execution_count": 33,
   "id": "88392554-bef1-43be-9ac5-57929cd7da6b",
   "metadata": {},
   "outputs": [
    {
     "data": {
      "text/plain": [
       "('one', 'three', 'four')"
      ]
     },
     "execution_count": 33,
     "metadata": {},
     "output_type": "execute_result"
    }
   ],
   "source": [
    "mytuple[0:3] #  Return all items 0th to 3rd index Location  excluding the items"
   ]
  },
  {
   "cell_type": "code",
   "execution_count": 35,
   "id": "cc1cef46-2ca0-43d7-8fd7-92747a39e0ac",
   "metadata": {},
   "outputs": [
    {
     "data": {
      "text/plain": [
       "('four', 'five', 'six')"
      ]
     },
     "execution_count": 35,
     "metadata": {},
     "output_type": "execute_result"
    }
   ],
   "source": [
    "mytuple[2:5] # List all items from  2nd  to 5th index location excluding the item "
   ]
  },
  {
   "cell_type": "code",
   "execution_count": 37,
   "id": "85180bd8-0489-458d-b46d-2946488fe8c5",
   "metadata": {},
   "outputs": [
    {
     "data": {
      "text/plain": [
       "('four', 'five', 'six')"
      ]
     },
     "execution_count": 37,
     "metadata": {},
     "output_type": "execute_result"
    }
   ],
   "source": [
    "mytuple[2:5] #List all items  from  0th 3 rd    index location excluding the item."
   ]
  },
  {
   "cell_type": "code",
   "execution_count": 39,
   "id": "4bf470a8-5337-4514-97bf-fb180ef20511",
   "metadata": {},
   "outputs": [
    {
     "data": {
      "text/plain": [
       "('one', 'three', 'four')"
      ]
     },
     "execution_count": 39,
     "metadata": {},
     "output_type": "execute_result"
    }
   ],
   "source": [
    "mytuple[:3]"
   ]
  },
  {
   "cell_type": "code",
   "execution_count": 41,
   "id": "cf41a976-3336-46c1-9e45-f8d77d35046a",
   "metadata": {},
   "outputs": [
    {
     "data": {
      "text/plain": [
       "('one', 'three', 'four')"
      ]
     },
     "execution_count": 41,
     "metadata": {},
     "output_type": "execute_result"
    }
   ],
   "source": [
    "mytuple[:3] #Return first Three items.\n",
    "\n"
   ]
  },
  {
   "cell_type": "code",
   "execution_count": 44,
   "id": "2543f509-2bb2-4e41-97cb-0a1089e68034",
   "metadata": {},
   "outputs": [
    {
     "data": {
      "text/plain": [
       "('one', 'three', 'four')"
      ]
     },
     "execution_count": 44,
     "metadata": {},
     "output_type": "execute_result"
    }
   ],
   "source": [
    "mytuple[:3] #Return first three items"
   ]
  },
  {
   "cell_type": "code",
   "execution_count": 46,
   "id": "3b47fa10-66b2-4c42-a9d4-a995108407cb",
   "metadata": {},
   "outputs": [
    {
     "data": {
      "text/plain": [
       "('one', 'three', 'four')"
      ]
     },
     "execution_count": 46,
     "metadata": {},
     "output_type": "execute_result"
    }
   ],
   "source": [
    "mytuple[:3] #Return  first three items"
   ]
  },
  {
   "cell_type": "code",
   "execution_count": 48,
   "id": "46fb10a7-0877-4106-b8fb-3f170b6a76fd",
   "metadata": {},
   "outputs": [
    {
     "data": {
      "text/plain": [
       "('one', 'three')"
      ]
     },
     "execution_count": 48,
     "metadata": {},
     "output_type": "execute_result"
    }
   ],
   "source": [
    "mytuple[:2] #Return  first two items. "
   ]
  },
  {
   "cell_type": "code",
   "execution_count": 50,
   "id": "96f5377b-5595-41c5-951c-c3be45ca77b7",
   "metadata": {},
   "outputs": [
    {
     "data": {
      "text/plain": [
       "('one', 'three')"
      ]
     },
     "execution_count": 50,
     "metadata": {},
     "output_type": "execute_result"
    }
   ],
   "source": [
    "mytuple[:2]"
   ]
  },
  {
   "cell_type": "code",
   "execution_count": 52,
   "id": "bf0e03ab-a7bb-42ca-b4b3-da0c489ee465",
   "metadata": {},
   "outputs": [
    {
     "data": {
      "text/plain": [
       "('six', 'seven', 'eight')"
      ]
     },
     "execution_count": 52,
     "metadata": {},
     "output_type": "execute_result"
    }
   ],
   "source": [
    "mytuple[-3:] #Return last three items"
   ]
  },
  {
   "cell_type": "code",
   "execution_count": 54,
   "id": "b81260bb-644e-4577-bf17-8287d40cbdaa",
   "metadata": {},
   "outputs": [
    {
     "data": {
      "text/plain": [
       "'eight'"
      ]
     },
     "execution_count": 54,
     "metadata": {},
     "output_type": "execute_result"
    }
   ],
   "source": [
    "mytuple[-1] #Return last items of tuple"
   ]
  },
  {
   "cell_type": "code",
   "execution_count": 56,
   "id": "0c37c02d-8146-4e83-88fc-0f1758f10357",
   "metadata": {},
   "outputs": [
    {
     "data": {
      "text/plain": [
       "('one', 'three', 'four', 'five', 'six', 'seven', 'eight')"
      ]
     },
     "execution_count": 56,
     "metadata": {},
     "output_type": "execute_result"
    }
   ],
   "source": [
    "mytuple[:] # Return whole tuple"
   ]
  },
  {
   "cell_type": "markdown",
   "id": "73df2eaa-8fed-4c54-a1cc-d40907230400",
   "metadata": {},
   "source": [
    "### Remove & change Items ###"
   ]
  },
  {
   "cell_type": "code",
   "execution_count": 58,
   "id": "12fc131f-cc35-4c08-a7a1-349c521eeb5c",
   "metadata": {},
   "outputs": [
    {
     "data": {
      "text/plain": [
       "('one', 'three', 'four', 'five', 'six', 'seven', 'eight')"
      ]
     },
     "execution_count": 58,
     "metadata": {},
     "output_type": "execute_result"
    }
   ],
   "source": [
    "mytuple"
   ]
  },
  {
   "cell_type": "code",
   "execution_count": 60,
   "id": "5fe4a64a-5703-4596-863c-c480ceb62f28",
   "metadata": {},
   "outputs": [
    {
     "ename": "TypeError",
     "evalue": "'tuple' object doesn't support item deletion",
     "output_type": "error",
     "traceback": [
      "\u001b[1;31m---------------------------------------------------------------------------\u001b[0m",
      "\u001b[1;31mTypeError\u001b[0m                                 Traceback (most recent call last)",
      "Cell \u001b[1;32mIn[60], line 1\u001b[0m\n\u001b[1;32m----> 1\u001b[0m \u001b[38;5;28;01mdel\u001b[39;00m mytuple[\u001b[38;5;241m0\u001b[39m]\n",
      "\u001b[1;31mTypeError\u001b[0m: 'tuple' object doesn't support item deletion"
     ]
    }
   ],
   "source": [
    "del mytuple[0] # Tuple are immutable which means we can't DELETE tuple items."
   ]
  },
  {
   "cell_type": "code",
   "execution_count": 62,
   "id": "de7b8b32-41ac-4f17-8d20-01638897831d",
   "metadata": {},
   "outputs": [
    {
     "ename": "NameError",
     "evalue": "name 'mytuple' is not defined",
     "output_type": "error",
     "traceback": [
      "\u001b[1;31m---------------------------------------------------------------------------\u001b[0m",
      "\u001b[1;31mNameError\u001b[0m                                 Traceback (most recent call last)",
      "Cell \u001b[1;32mIn[62], line 1\u001b[0m\n\u001b[1;32m----> 1\u001b[0m \u001b[38;5;28;01mdel\u001b[39;00m mytuple\n",
      "\u001b[1;31mNameError\u001b[0m: name 'mytuple' is not defined"
     ]
    }
   ],
   "source": [
    "del mytuple #Deleting entire tuple object is possible.\n"
   ]
  },
  {
   "cell_type": "markdown",
   "id": "4c4976c4-90ea-4a57-a305-57e16131bef4",
   "metadata": {},
   "source": [
    "### Loop through a tuple ### "
   ]
  },
  {
   "cell_type": "code",
   "execution_count": 64,
   "id": "e7f84f5f-1b0e-4ea6-a8f4-88e69db9b371",
   "metadata": {},
   "outputs": [
    {
     "ename": "NameError",
     "evalue": "name 'mytuple' is not defined",
     "output_type": "error",
     "traceback": [
      "\u001b[1;31m---------------------------------------------------------------------------\u001b[0m",
      "\u001b[1;31mNameError\u001b[0m                                 Traceback (most recent call last)",
      "Cell \u001b[1;32mIn[64], line 1\u001b[0m\n\u001b[1;32m----> 1\u001b[0m mytuple\n",
      "\u001b[1;31mNameError\u001b[0m: name 'mytuple' is not defined"
     ]
    }
   ],
   "source": [
    "mytuple"
   ]
  },
  {
   "cell_type": "code",
   "execution_count": 66,
   "id": "c47972bc-12b5-44c4-8b19-21a549cc3884",
   "metadata": {},
   "outputs": [
    {
     "ename": "NameError",
     "evalue": "name 'mytuple' is not defined",
     "output_type": "error",
     "traceback": [
      "\u001b[1;31m---------------------------------------------------------------------------\u001b[0m",
      "\u001b[1;31mNameError\u001b[0m                                 Traceback (most recent call last)",
      "Cell \u001b[1;32mIn[66], line 1\u001b[0m\n\u001b[1;32m----> 1\u001b[0m \u001b[38;5;28;01mfor\u001b[39;00m i \u001b[38;5;129;01min\u001b[39;00m mytuple:\n\u001b[0;32m      2\u001b[0m     \u001b[38;5;28mprint\u001b[39m(i)\n",
      "\u001b[1;31mNameError\u001b[0m: name 'mytuple' is not defined"
     ]
    }
   ],
   "source": [
    "for i in mytuple:\n",
    "    print(i)"
   ]
  },
  {
   "cell_type": "code",
   "execution_count": 68,
   "id": "da982ad6-adff-4b57-8004-188a9a925733",
   "metadata": {},
   "outputs": [],
   "source": [
    "mytuple=('one','three','four','five','six','seven','eight')"
   ]
  },
  {
   "cell_type": "code",
   "execution_count": 70,
   "id": "2e4bece8-7e1d-4f97-8989-7aee2548adbd",
   "metadata": {},
   "outputs": [
    {
     "name": "stdout",
     "output_type": "stream",
     "text": [
      "one\n",
      "three\n",
      "four\n",
      "five\n",
      "six\n",
      "seven\n",
      "eight\n"
     ]
    }
   ],
   "source": [
    "for i in mytuple:\n",
    "    print(i)"
   ]
  },
  {
   "cell_type": "code",
   "execution_count": 72,
   "id": "97ebd028-67d5-483e-9853-0e91f7cdd690",
   "metadata": {},
   "outputs": [
    {
     "name": "stdout",
     "output_type": "stream",
     "text": [
      "(0, 'one')\n",
      "(1, 'three')\n",
      "(2, 'four')\n",
      "(3, 'five')\n",
      "(4, 'six')\n",
      "(5, 'seven')\n",
      "(6, 'eight')\n"
     ]
    }
   ],
   "source": [
    "for i in enumerate(mytuple):\n",
    "    print(i)"
   ]
  },
  {
   "cell_type": "markdown",
   "id": "af3b5dda-14a5-4117-bac1-94d2b1ce556e",
   "metadata": {},
   "source": [
    "### Count ###"
   ]
  },
  {
   "cell_type": "code",
   "execution_count": 74,
   "id": "2a868c49-46da-4e62-9909-253f5a4b8b5e",
   "metadata": {},
   "outputs": [],
   "source": [
    "mytuple1=('one','two','three','four','one','two','three')\n"
   ]
  },
  {
   "cell_type": "code",
   "execution_count": 76,
   "id": "b6841c3d-7c57-4642-94fa-3b259b9a5ef1",
   "metadata": {},
   "outputs": [
    {
     "data": {
      "text/plain": [
       "2"
      ]
     },
     "execution_count": 76,
     "metadata": {},
     "output_type": "execute_result"
    }
   ],
   "source": [
    "mytuple1.count('one') # Number of times items \"one\" ocurred in the tuple."
   ]
  },
  {
   "cell_type": "code",
   "execution_count": 78,
   "id": "fb6e30cd-3c44-442b-aa90-ed80bc299cb4",
   "metadata": {},
   "outputs": [
    {
     "data": {
      "text/plain": [
       "1"
      ]
     },
     "execution_count": 78,
     "metadata": {},
     "output_type": "execute_result"
    }
   ],
   "source": [
    "mytuple.count('one')"
   ]
  },
  {
   "cell_type": "code",
   "execution_count": 80,
   "id": "7b890812-3358-4975-8601-d97b38eea79d",
   "metadata": {},
   "outputs": [
    {
     "data": {
      "text/plain": [
       "2"
      ]
     },
     "execution_count": 80,
     "metadata": {},
     "output_type": "execute_result"
    }
   ],
   "source": [
    "mytuple1.count('two') #Ocurence of  items 'two' in the tuple."
   ]
  },
  {
   "cell_type": "code",
   "execution_count": 82,
   "id": "5508712c-c3cc-41c7-9487-0f81e6f4cd89",
   "metadata": {},
   "outputs": [
    {
     "data": {
      "text/plain": [
       "1"
      ]
     },
     "execution_count": 82,
     "metadata": {},
     "output_type": "execute_result"
    }
   ],
   "source": [
    "mytuple.count('four') #Ocurence of item 'four' in the tuple."
   ]
  },
  {
   "cell_type": "markdown",
   "id": "e0b50669-e7d9-4c86-89d1-6f4df1db7654",
   "metadata": {},
   "source": [
    "### Tuple Membership ###"
   ]
  },
  {
   "cell_type": "code",
   "execution_count": 84,
   "id": "54d3f657-1798-49dd-988d-5fb3ddd4902c",
   "metadata": {},
   "outputs": [
    {
     "data": {
      "text/plain": [
       "('one', 'three', 'four', 'five', 'six', 'seven', 'eight')"
      ]
     },
     "execution_count": 84,
     "metadata": {},
     "output_type": "execute_result"
    }
   ],
   "source": [
    "mytuple"
   ]
  },
  {
   "cell_type": "code",
   "execution_count": 86,
   "id": "67cf4009-35e0-4c8f-8620-4d0d9b77a1a3",
   "metadata": {},
   "outputs": [
    {
     "data": {
      "text/plain": [
       "True"
      ]
     },
     "execution_count": 86,
     "metadata": {},
     "output_type": "execute_result"
    }
   ],
   "source": [
    "'one' in  mytuple #Check if 'one' exist in the list"
   ]
  },
  {
   "cell_type": "code",
   "execution_count": 88,
   "id": "c7a478dc-f9f4-4156-8b47-73608bfe878e",
   "metadata": {},
   "outputs": [
    {
     "data": {
      "text/plain": [
       "False"
      ]
     },
     "execution_count": 88,
     "metadata": {},
     "output_type": "execute_result"
    }
   ],
   "source": [
    "'ten' in mytuple #Check if 'ten' exist in the list"
   ]
  },
  {
   "cell_type": "code",
   "execution_count": 90,
   "id": "c7d9c1b1-8186-4251-885e-964f99796fc6",
   "metadata": {},
   "outputs": [
    {
     "name": "stdout",
     "output_type": "stream",
     "text": [
      "Three is persent in the tuple\n"
     ]
    }
   ],
   "source": [
    "if 'three' in mytuple:\n",
    "    print('Three is persent in the tuple')\n",
    "else:\n",
    "    print('Three is not present in the tuple')"
   ]
  },
  {
   "cell_type": "code",
   "execution_count": 92,
   "id": "cbc5a7aa-ab28-4297-812c-cd82abbf9759",
   "metadata": {},
   "outputs": [
    {
     "name": "stdout",
     "output_type": "stream",
     "text": [
      "eleven is not present in the tuple\n"
     ]
    }
   ],
   "source": [
    "if 'eleven' in mytuple:\n",
    "    print('eleven is persent in the tuple')\n",
    "else:\n",
    "    print('eleven is not present in the tuple')"
   ]
  },
  {
   "cell_type": "code",
   "execution_count": 94,
   "id": "8572aeaa-b7ea-45e5-8267-c9ea67fb03eb",
   "metadata": {},
   "outputs": [
    {
     "data": {
      "text/plain": [
       "('one', 'three', 'four', 'five', 'six', 'seven', 'eight')"
      ]
     },
     "execution_count": 94,
     "metadata": {},
     "output_type": "execute_result"
    }
   ],
   "source": [
    "mytuple"
   ]
  },
  {
   "cell_type": "code",
   "execution_count": 96,
   "id": "8a82e44f-a134-4fc6-8799-4740721ff0d0",
   "metadata": {},
   "outputs": [
    {
     "data": {
      "text/plain": [
       "0"
      ]
     },
     "execution_count": 96,
     "metadata": {},
     "output_type": "execute_result"
    }
   ],
   "source": [
    "mytuple1.index('one') #Index of first element equal to 'one'"
   ]
  },
  {
   "cell_type": "markdown",
   "id": "38edeb2e-d881-491e-ac1b-792153918ab9",
   "metadata": {},
   "source": [
    "### Sorting ###"
   ]
  },
  {
   "cell_type": "code",
   "execution_count": 98,
   "id": "9b858f1e-a949-4657-9f26-b0b318b630d1",
   "metadata": {},
   "outputs": [],
   "source": [
    "mytuple2=(43,67,99,12,6,90,67)"
   ]
  },
  {
   "cell_type": "code",
   "execution_count": 100,
   "id": "bb37dfd8-5247-482e-b584-21aeffadd245",
   "metadata": {},
   "outputs": [
    {
     "data": {
      "text/plain": [
       "[6, 12, 43, 67, 67, 90, 99]"
      ]
     },
     "execution_count": 100,
     "metadata": {},
     "output_type": "execute_result"
    }
   ],
   "source": [
    "sorted(mytuple2) #Return a new sorted list and doesn't change original tuple"
   ]
  },
  {
   "cell_type": "code",
   "execution_count": 102,
   "id": "e5eb73ca-d8b7-4380-97f4-11b05642417b",
   "metadata": {},
   "outputs": [
    {
     "data": {
      "text/plain": [
       "[99, 90, 67, 67, 43, 12, 6]"
      ]
     },
     "execution_count": 102,
     "metadata": {},
     "output_type": "execute_result"
    }
   ],
   "source": [
    "sorted(mytuple2,reverse=True) #Sorted in descending order"
   ]
  },
  {
   "cell_type": "code",
   "execution_count": null,
   "id": "fc460b5d-de08-48c0-8e88-2212c7e3b754",
   "metadata": {},
   "outputs": [],
   "source": []
  }
 ],
 "metadata": {
  "kernelspec": {
   "display_name": "Python 3 (ipykernel)",
   "language": "python",
   "name": "python3"
  },
  "language_info": {
   "codemirror_mode": {
    "name": "ipython",
    "version": 3
   },
   "file_extension": ".py",
   "mimetype": "text/x-python",
   "name": "python",
   "nbconvert_exporter": "python",
   "pygments_lexer": "ipython3",
   "version": "3.12.4"
  }
 },
 "nbformat": 4,
 "nbformat_minor": 5
}
