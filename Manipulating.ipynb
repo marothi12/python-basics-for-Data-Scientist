{
 "cells": [
  {
   "cell_type": "code",
   "execution_count": 2,
   "id": "64a36bd0-755a-4a91-a2ca-9b03a21581c4",
   "metadata": {},
   "outputs": [
    {
     "name": "stdout",
     "output_type": "stream",
     "text": [
      "Hello  there!\n",
      " How are you?\n",
      "I'm doing fine\n"
     ]
    }
   ],
   "source": [
    "print(\"Hello  there!\\n How are you?\\nI\\'m doing fine\") #using '\\n' escape character"
   ]
  },
  {
   "cell_type": "code",
   "execution_count": 5,
   "id": "86bbda30-1b97-45b7-bc0e-9207a020602b",
   "metadata": {},
   "outputs": [
    {
     "name": "stdout",
     "output_type": "stream",
     "text": [
      "Hello  there!\\n How are you?\\nI\\'m doing fine\n"
     ]
    }
   ],
   "source": [
    "print(r\"Hello  there!\\n How are you?\\nI\\'m doing fine\")"
   ]
  },
  {
   "cell_type": "code",
   "execution_count": 7,
   "id": "501d6c70-cd1e-4476-92f9-bb21b882570f",
   "metadata": {},
   "outputs": [
    {
     "name": "stdout",
     "output_type": "stream",
     "text": [
      " Dear Alice,\n",
      "Eve's cat-has been arrested for catnapping,\n",
      "Sincerely,\n",
      "Rosy\n"
     ]
    }
   ],
   "source": [
    "print(\n",
    "\"\"\" Dear Alice,\n",
    "Eve's cat-has been arrested for catnapping,\n",
    "Sincerely,\n",
    "Rosy\"\"\"\n",
    ")"
   ]
  },
  {
   "cell_type": "code",
   "execution_count": 9,
   "id": "d4db6b81-4c96-44f9-8c75-07dc8592856b",
   "metadata": {},
   "outputs": [
    {
     "data": {
      "text/plain": [
       "'Hello world'"
      ]
     },
     "execution_count": 9,
     "metadata": {},
     "output_type": "execute_result"
    }
   ],
   "source": [
    "spam = 'Hello world'\n",
    "spam"
   ]
  },
  {
   "cell_type": "code",
   "execution_count": 11,
   "id": "df5cc8b9-4f0d-4a6b-8c91-b1baaf53f8ee",
   "metadata": {},
   "outputs": [
    {
     "data": {
      "text/plain": [
       "'o'"
      ]
     },
     "execution_count": 11,
     "metadata": {},
     "output_type": "execute_result"
    }
   ],
   "source": [
    "spam[4]"
   ]
  },
  {
   "cell_type": "code",
   "execution_count": 13,
   "id": "1ce4e7ac-4742-40a6-90ea-b698f756ba8a",
   "metadata": {},
   "outputs": [
    {
     "data": {
      "text/plain": [
       "'d'"
      ]
     },
     "execution_count": 13,
     "metadata": {},
     "output_type": "execute_result"
    }
   ],
   "source": [
    "spam[-1]"
   ]
  },
  {
   "cell_type": "code",
   "execution_count": 15,
   "id": "e4a98d43-91c6-4266-a176-f65bf74e4b5b",
   "metadata": {},
   "outputs": [
    {
     "data": {
      "text/plain": [
       "'Hello'"
      ]
     },
     "execution_count": 15,
     "metadata": {},
     "output_type": "execute_result"
    }
   ],
   "source": [
    "spam[0:5]"
   ]
  },
  {
   "cell_type": "code",
   "execution_count": 17,
   "id": "2fa1da80-11b4-4d04-900f-60a106f80e24",
   "metadata": {},
   "outputs": [
    {
     "data": {
      "text/plain": [
       "'worl'"
      ]
     },
     "execution_count": 17,
     "metadata": {},
     "output_type": "execute_result"
    }
   ],
   "source": [
    "spam[6:-1]"
   ]
  },
  {
   "cell_type": "code",
   "execution_count": 20,
   "id": "669ee9e0-4b8b-4bda-a4b1-82e3939a7134",
   "metadata": {},
   "outputs": [
    {
     "data": {
      "text/plain": [
       "'dlrow olleH'"
      ]
     },
     "execution_count": 20,
     "metadata": {},
     "output_type": "execute_result"
    }
   ],
   "source": [
    "spam[::-1]"
   ]
  },
  {
   "cell_type": "code",
   "execution_count": 23,
   "id": "f6eaae49-c805-401f-94ad-4131a004162f",
   "metadata": {},
   "outputs": [],
   "source": [
    "fizz = spam[0:5]"
   ]
  },
  {
   "cell_type": "code",
   "execution_count": 25,
   "id": "b8cbc3fa-ae48-4f33-b5eb-167d52106175",
   "metadata": {},
   "outputs": [
    {
     "data": {
      "text/plain": [
       "'Hello'"
      ]
     },
     "execution_count": 25,
     "metadata": {},
     "output_type": "execute_result"
    }
   ],
   "source": [
    "fizz"
   ]
  },
  {
   "cell_type": "markdown",
   "id": "21a1cde2-07d6-449d-bcfe-3180bff9763a",
   "metadata": {},
   "source": [
    "### The in and not in operators ###"
   ]
  },
  {
   "cell_type": "code",
   "execution_count": 27,
   "id": "9e14317b-a639-4a04-bfdd-eb50fcd7e72c",
   "metadata": {},
   "outputs": [
    {
     "data": {
      "text/plain": [
       "True"
      ]
     },
     "execution_count": 27,
     "metadata": {},
     "output_type": "execute_result"
    }
   ],
   "source": [
    "'Hello' in 'Hello'"
   ]
  },
  {
   "cell_type": "code",
   "execution_count": 29,
   "id": "2eb84f62-7469-4b48-97d3-8a1c8d975d4a",
   "metadata": {},
   "outputs": [
    {
     "data": {
      "text/plain": [
       "False"
      ]
     },
     "execution_count": 29,
     "metadata": {},
     "output_type": "execute_result"
    }
   ],
   "source": [
    "'HELLO' in  'Hello World'"
   ]
  },
  {
   "cell_type": "code",
   "execution_count": 31,
   "id": "39c96a31-8263-4a3c-a4f1-3431abad6a72",
   "metadata": {},
   "outputs": [
    {
     "data": {
      "text/plain": [
       "True"
      ]
     },
     "execution_count": 31,
     "metadata": {},
     "output_type": "execute_result"
    }
   ],
   "source": [
    "'' in 'spam'"
   ]
  },
  {
   "cell_type": "code",
   "execution_count": 33,
   "id": "72203f66-c183-46cd-97eb-4cb3aef73f0a",
   "metadata": {},
   "outputs": [
    {
     "data": {
      "text/plain": [
       "True"
      ]
     },
     "execution_count": 33,
     "metadata": {},
     "output_type": "execute_result"
    }
   ],
   "source": [
    "'cats' not in 'cat and dogs'"
   ]
  },
  {
   "cell_type": "markdown",
   "id": "2ca61dff-9f4f-435a-ad68-639dceaa6911",
   "metadata": {},
   "source": [
    "### upper,lower() and title() ###"
   ]
  },
  {
   "cell_type": "code",
   "execution_count": 35,
   "id": "faad635b-1b58-4dfe-aa8b-e230a276bfae",
   "metadata": {},
   "outputs": [
    {
     "data": {
      "text/plain": [
       "'Hello world !'"
      ]
     },
     "execution_count": 35,
     "metadata": {},
     "output_type": "execute_result"
    }
   ],
   "source": [
    "greet = 'Hello world !'\n",
    "greet"
   ]
  },
  {
   "cell_type": "code",
   "execution_count": 37,
   "id": "d4e56e4a-8130-4ac2-ad68-c60770d1ea8d",
   "metadata": {},
   "outputs": [
    {
     "data": {
      "text/plain": [
       "'HELLO WORLD !'"
      ]
     },
     "execution_count": 37,
     "metadata": {},
     "output_type": "execute_result"
    }
   ],
   "source": [
    "greet.upper()"
   ]
  },
  {
   "cell_type": "code",
   "execution_count": 39,
   "id": "ca61bdab-2765-4b47-959a-619a02083f55",
   "metadata": {},
   "outputs": [
    {
     "data": {
      "text/plain": [
       "'hello world !'"
      ]
     },
     "execution_count": 39,
     "metadata": {},
     "output_type": "execute_result"
    }
   ],
   "source": [
    "greet.lower()"
   ]
  },
  {
   "cell_type": "code",
   "execution_count": 41,
   "id": "fd0f3da7-0b2c-4f75-b872-8c6b592a1fc2",
   "metadata": {},
   "outputs": [
    {
     "data": {
      "text/plain": [
       "'Hello World !'"
      ]
     },
     "execution_count": 41,
     "metadata": {},
     "output_type": "execute_result"
    }
   ],
   "source": [
    "greet.title()"
   ]
  },
  {
   "cell_type": "code",
   "execution_count": null,
   "id": "6cb2f761-b819-4278-8fb0-ccb4509e0b6a",
   "metadata": {},
   "outputs": [],
   "source": [
    "isupper() and islower() methods"
   ]
  },
  {
   "cell_type": "code",
   "execution_count": 43,
   "id": "65e3fe3a-35eb-47af-9068-12e34af9a50e",
   "metadata": {},
   "outputs": [
    {
     "data": {
      "text/plain": [
       "'Hello world'"
      ]
     },
     "execution_count": 43,
     "metadata": {},
     "output_type": "execute_result"
    }
   ],
   "source": [
    "spam  = 'Hello world'\n",
    "spam"
   ]
  },
  {
   "cell_type": "code",
   "execution_count": 45,
   "id": "1e1a3374-90de-46b8-9506-ff3b1a1b1091",
   "metadata": {},
   "outputs": [
    {
     "data": {
      "text/plain": [
       "False"
      ]
     },
     "execution_count": 45,
     "metadata": {},
     "output_type": "execute_result"
    }
   ],
   "source": [
    "spam.islower()"
   ]
  },
  {
   "cell_type": "code",
   "execution_count": 47,
   "id": "0c775d66-cd9e-4984-9aee-d681f0aabcdb",
   "metadata": {},
   "outputs": [
    {
     "data": {
      "text/plain": [
       "False"
      ]
     },
     "execution_count": 47,
     "metadata": {},
     "output_type": "execute_result"
    }
   ],
   "source": [
    "spam.isupper()"
   ]
  },
  {
   "cell_type": "code",
   "execution_count": 48,
   "id": "bb7102f8-74b1-47c3-989f-dd8eb0810b14",
   "metadata": {},
   "outputs": [
    {
     "data": {
      "text/plain": [
       "True"
      ]
     },
     "execution_count": 48,
     "metadata": {},
     "output_type": "execute_result"
    }
   ],
   "source": [
    "'HELLO'.isupper()"
   ]
  },
  {
   "cell_type": "code",
   "execution_count": 50,
   "id": "575972ed-4d8a-4648-af3b-3aed01b32e89",
   "metadata": {},
   "outputs": [
    {
     "data": {
      "text/plain": [
       "True"
      ]
     },
     "execution_count": 50,
     "metadata": {},
     "output_type": "execute_result"
    }
   ],
   "source": [
    "'abc12345'.islower()"
   ]
  },
  {
   "cell_type": "code",
   "execution_count": null,
   "id": "f2d70a5b-fd09-44bb-97e5-cfdd14ab96f9",
   "metadata": {},
   "outputs": [],
   "source": []
  }
 ],
 "metadata": {
  "kernelspec": {
   "display_name": "Python 3 (ipykernel)",
   "language": "python",
   "name": "python3"
  },
  "language_info": {
   "codemirror_mode": {
    "name": "ipython",
    "version": 3
   },
   "file_extension": ".py",
   "mimetype": "text/x-python",
   "name": "python",
   "nbconvert_exporter": "python",
   "pygments_lexer": "ipython3",
   "version": "3.12.4"
  }
 },
 "nbformat": 4,
 "nbformat_minor": 5
}
