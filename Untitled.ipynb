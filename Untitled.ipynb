{
 "cells": [
  {
   "cell_type": "markdown",
   "id": "5f2c1554-27bc-47aa-9404-5c23dce290b5",
   "metadata": {},
   "source": [
    "### Printing result with some context ###"
   ]
  },
  {
   "cell_type": "code",
   "execution_count": 2,
   "id": "6dce0bc0-6ffa-40f0-a1c9-aecfa0e36ebb",
   "metadata": {},
   "outputs": [
    {
     "name": "stdout",
     "output_type": "stream",
     "text": [
      "Hi,my  name is Askshay and  I love Trading\n"
     ]
    }
   ],
   "source": [
    "a = 'Askshay'\n",
    "b='Trading'\n",
    "print('Hi,my  name is',a,'and  I love',b)"
   ]
  },
  {
   "cell_type": "markdown",
   "id": "ef8ea34e-7cd1-44d5-a1e2-05d2f69f3638",
   "metadata": {},
   "source": [
    "### Printing result using 'format' method  ###"
   ]
  },
  {
   "cell_type": "markdown",
   "id": "44cc10a4-87d3-4447-9353-f525006c753d",
   "metadata": {},
   "source": [
    "### Connecting 2 separate variable using 'end' method ###"
   ]
  },
  {
   "cell_type": "code",
   "execution_count": 3,
   "id": "fba27723-d734-4f53-ac54-502209373244",
   "metadata": {},
   "outputs": [
    {
     "name": "stdout",
     "output_type": "stream",
     "text": [
      "Hello"
     ]
    }
   ],
   "source": [
    "print('Hello',end='') # we are basically connecting the variabless a bit more better."
   ]
  },
  {
   "cell_type": "markdown",
   "id": "46e263d9-7a75-45f2-882d-3f37125f8ff5",
   "metadata": {},
   "source": [
    "### Connecting 2 Separate variables using 'end' method   ###"
   ]
  },
  {
   "cell_type": "code",
   "execution_count": 7,
   "id": "3f25aed5-53bd-4a1c-b1aa-c4878ada48f2",
   "metadata": {},
   "outputs": [
    {
     "name": "stdout",
     "output_type": "stream",
     "text": [
      "HelloGood Morning\n"
     ]
    }
   ],
   "source": [
    "print('Hello',end='')\n",
    "print('Good Morning') # we are basically connecting the 2  variables using(end='')"
   ]
  },
  {
   "cell_type": "code",
   "execution_count": 3,
   "id": "c66270a2-3361-4de9-83a6-74dfd13cc580",
   "metadata": {},
   "outputs": [],
   "source": [
    "import numpy as np"
   ]
  },
  {
   "cell_type": "code",
   "execution_count": 15,
   "id": "89173081-b73f-4f20-ac80-072b06149478",
   "metadata": {},
   "outputs": [
    {
     "data": {
      "text/plain": [
       "(19, (4, 4))"
      ]
     },
     "execution_count": 15,
     "metadata": {},
     "output_type": "execute_result"
    }
   ],
   "source": [
    "import random\n",
    "\n",
    "np.random.randint(10, 20),(4,4)"
   ]
  },
  {
   "cell_type": "code",
   "execution_count": 20,
   "id": "4ccfd8bf-c9bc-421f-8ece-fc4b138d8c84",
   "metadata": {},
   "outputs": [],
   "source": [
    "b=np.random.randint(10,20,(4,4))"
   ]
  },
  {
   "cell_type": "code",
   "execution_count": 1,
   "id": "f1b6e288-79bc-4747-a7ce-fef81426d6ab",
   "metadata": {},
   "outputs": [
    {
     "ename": "NameError",
     "evalue": "name 'b' is not defined",
     "output_type": "error",
     "traceback": [
      "\u001b[1;31m---------------------------------------------------------------------------\u001b[0m",
      "\u001b[1;31mNameError\u001b[0m                                 Traceback (most recent call last)",
      "Cell \u001b[1;32mIn[1], line 1\u001b[0m\n\u001b[1;32m----> 1\u001b[0m b[\u001b[38;5;241m-\u001b[39m\u001b[38;5;241m4\u001b[39m:\u001b[38;5;241m2\u001b[39m]\n",
      "\u001b[1;31mNameError\u001b[0m: name 'b' is not defined"
     ]
    }
   ],
   "source": [
    "b[-4:2]"
   ]
  },
  {
   "cell_type": "code",
   "execution_count": 5,
   "id": "65b60db6-a803-416b-b519-24f25f57ea0e",
   "metadata": {},
   "outputs": [
    {
     "data": {
      "text/plain": [
       "2"
      ]
     },
     "execution_count": 5,
     "metadata": {},
     "output_type": "execute_result"
    }
   ],
   "source": [
    "data = np.array([1,2,3])\n",
    "data[1]"
   ]
  },
  {
   "cell_type": "code",
   "execution_count": 8,
   "id": "5ade12ea-b93b-4c9b-8a7c-763200504d3d",
   "metadata": {},
   "outputs": [],
   "source": [
    "a=np.array([[1,2,3,4],[5,6,7,8],[9,10,11,12]])"
   ]
  },
  {
   "cell_type": "code",
   "execution_count": 12,
   "id": "1b9d661d-619e-4168-96fe-0bec5fa0333b",
   "metadata": {},
   "outputs": [
    {
     "name": "stdout",
     "output_type": "stream",
     "text": [
      "(array([0, 0, 0, 0], dtype=int64), array([0, 1, 2, 3], dtype=int64))\n"
     ]
    }
   ],
   "source": [
    "b=np.nonzero(a<5)\n",
    "print(b)"
   ]
  },
  {
   "cell_type": "code",
   "execution_count": 14,
   "id": "3360cbe8-e750-44b6-ae19-d4a871b71df5",
   "metadata": {},
   "outputs": [
    {
     "name": "stdout",
     "output_type": "stream",
     "text": [
      "(0, 0)\n",
      "(0, 1)\n",
      "(0, 2)\n",
      "(0, 3)\n"
     ]
    }
   ],
   "source": [
    "list_of_coordinates=list(zip(b[0],b[1]))\n",
    "for coord in list_of_coordinates:\n",
    "    print(coord)"
   ]
  },
  {
   "cell_type": "code",
   "execution_count": null,
   "id": "a4bdccfe-b19b-4b9f-a827-71c41dbe6db9",
   "metadata": {},
   "outputs": [],
   "source": []
  }
 ],
 "metadata": {
  "kernelspec": {
   "display_name": "Python 3 (ipykernel)",
   "language": "python",
   "name": "python3"
  },
  "language_info": {
   "codemirror_mode": {
    "name": "ipython",
    "version": 3
   },
   "file_extension": ".py",
   "mimetype": "text/x-python",
   "name": "python",
   "nbconvert_exporter": "python",
   "pygments_lexer": "ipython3",
   "version": "3.12.4"
  }
 },
 "nbformat": 4,
 "nbformat_minor": 5
}
