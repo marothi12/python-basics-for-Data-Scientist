{
 "cells": [
  {
   "cell_type": "code",
   "execution_count": 121,
   "id": "6c2ad850-f3e0-4245-bcc8-f85993c92280",
   "metadata": {},
   "outputs": [
    {
     "data": {
      "text/plain": [
       "'welcome to nit'"
      ]
     },
     "execution_count": 121,
     "metadata": {},
     "output_type": "execute_result"
    }
   ],
   "source": [
    "'welcome to nit'"
   ]
  },
  {
   "cell_type": "code",
   "execution_count": 122,
   "id": "2e0a558e-111f-4852-a882-e818a6eb9f5c",
   "metadata": {},
   "outputs": [
    {
     "data": {
      "text/plain": [
       "5"
      ]
     },
     "execution_count": 122,
     "metadata": {},
     "output_type": "execute_result"
    }
   ],
   "source": [
    "2 + 3"
   ]
  },
  {
   "cell_type": "code",
   "execution_count": 8,
   "id": "89669de7-6242-466a-9597-9c4ddfb73601",
   "metadata": {},
   "outputs": [
    {
     "ename": "ZeroDivisionError",
     "evalue": "division by zero",
     "output_type": "error",
     "traceback": [
      "\u001b[1;31m---------------------------------------------------------------------------\u001b[0m",
      "\u001b[1;31mZeroDivisionError\u001b[0m                         Traceback (most recent call last)",
      "Cell \u001b[1;32mIn[8], line 1\u001b[0m\n\u001b[1;32m----> 1\u001b[0m \u001b[38;5;241m1\u001b[39m\u001b[38;5;241m/\u001b[39m\u001b[38;5;241m0\u001b[39m\n",
      "\u001b[1;31mZeroDivisionError\u001b[0m: division by zero"
     ]
    }
   ],
   "source": [
    "1/0"
   ]
  },
  {
   "cell_type": "code",
   "execution_count": 9,
   "id": "ea1662b5-9f80-488a-8756-701c42c16f63",
   "metadata": {},
   "outputs": [
    {
     "data": {
      "text/plain": [
       "0.0"
      ]
     },
     "execution_count": 9,
     "metadata": {},
     "output_type": "execute_result"
    }
   ],
   "source": [
    "0/1"
   ]
  },
  {
   "cell_type": "code",
   "execution_count": 12,
   "id": "68a01515-c918-4a5c-ad8f-622032e94a44",
   "metadata": {},
   "outputs": [
    {
     "data": {
      "text/plain": [
       "'3.11.7 | packaged by Anaconda, Inc. | (main, Dec 15 2023, 18:05:47) [MSC v.1916 64 bit (AMD64)]'"
      ]
     },
     "execution_count": 12,
     "metadata": {},
     "output_type": "execute_result"
    }
   ],
   "source": [
    "import sys\n",
    "sys.version"
   ]
  },
  {
   "cell_type": "markdown",
   "id": "886a5b5c-ea64-4f1b-8422-b686843306cf",
   "metadata": {},
   "source": [
    "# 2nd Nov "
   ]
  },
  {
   "cell_type": "code",
   "execution_count": 5,
   "id": "e0240f2f-5878-474a-b2ef-89b2507d40e6",
   "metadata": {},
   "outputs": [
    {
     "data": {
      "text/plain": [
       "str"
      ]
     },
     "execution_count": 5,
     "metadata": {},
     "output_type": "execute_result"
    }
   ],
   "source": [
    "a = '5.5'\n",
    "type(a)"
   ]
  },
  {
   "cell_type": "code",
   "execution_count": 10,
   "id": "33ca08f4-f1e5-4498-bc2d-c56fa76a81f2",
   "metadata": {},
   "outputs": [
    {
     "name": "stdout",
     "output_type": "stream",
     "text": [
      "hello\n",
      "hello\n",
      "hello\n",
      "hello\n"
     ]
    }
   ],
   "source": [
    "def greet():\n",
    "    print('hello')\n",
    "greet();\n",
    "\n",
    "def greet():\n",
    "    print('hello')\n",
    "greet();\n",
    "\n",
    "def greet():\n",
    "    print('hello')\n",
    "greet();\n",
    "\n",
    "def greet():\n",
    "    print('hello')\n",
    "greet();"
   ]
  },
  {
   "cell_type": "code",
   "execution_count": 11,
   "id": "c44ebafe-37a7-4999-912f-cce53eea67df",
   "metadata": {},
   "outputs": [
    {
     "name": "stdout",
     "output_type": "stream",
     "text": [
      "hello\n",
      "hello\n",
      "hello\n",
      "hello\n"
     ]
    }
   ],
   "source": [
    "def greet():\n",
    "    print('hello')\n",
    "greet();\n",
    "\n",
    "greet();\n",
    "\n",
    "greet();\n",
    "\n",
    "greet();"
   ]
  },
  {
   "cell_type": "markdown",
   "id": "4b2df882-1271-4246-9bad-08bfb570deb2",
   "metadata": {},
   "source": [
    "# python identifier or python variable or python object"
   ]
  },
  {
   "cell_type": "code",
   "execution_count": 3,
   "id": "2d4d1ccb-7b34-4782-b2c1-de48056e94c9",
   "metadata": {},
   "outputs": [
    {
     "data": {
      "text/plain": [
       "5.5"
      ]
     },
     "execution_count": 3,
     "metadata": {},
     "output_type": "execute_result"
    }
   ],
   "source": [
    "a = 5.5\n",
    "a"
   ]
  },
  {
   "cell_type": "code",
   "execution_count": 4,
   "id": "a7f25439-f6eb-46ba-ac05-c8f7c77e6940",
   "metadata": {},
   "outputs": [
    {
     "data": {
      "text/plain": [
       "float"
      ]
     },
     "execution_count": 4,
     "metadata": {},
     "output_type": "execute_result"
    }
   ],
   "source": [
    "type(a)"
   ]
  },
  {
   "cell_type": "code",
   "execution_count": 14,
   "id": "4dafc7ec-b336-4379-9849-07aadb18fc65",
   "metadata": {},
   "outputs": [
    {
     "data": {
      "text/plain": [
       "140708443177896"
      ]
     },
     "execution_count": 14,
     "metadata": {},
     "output_type": "execute_result"
    }
   ],
   "source": [
    "id(a)"
   ]
  },
  {
   "cell_type": "code",
   "execution_count": 15,
   "id": "ee62b35d-8567-4045-bd30-0f505f02f54f",
   "metadata": {},
   "outputs": [
    {
     "data": {
      "text/plain": [
       "6"
      ]
     },
     "execution_count": 15,
     "metadata": {},
     "output_type": "execute_result"
    }
   ],
   "source": [
    "a = 6\n",
    "a"
   ]
  },
  {
   "cell_type": "code",
   "execution_count": 16,
   "id": "0ac394cd-ecd3-4b02-9230-e37801f91b1b",
   "metadata": {},
   "outputs": [
    {
     "data": {
      "text/plain": [
       "140708443177928"
      ]
     },
     "execution_count": 16,
     "metadata": {},
     "output_type": "execute_result"
    }
   ],
   "source": [
    "id(a)"
   ]
  },
  {
   "cell_type": "markdown",
   "id": "4e627990-d557-486e-9980-8f35b5eb363c",
   "metadata": {},
   "source": [
    "# 4th NOV"
   ]
  },
  {
   "cell_type": "code",
   "execution_count": 5,
   "id": "93b861b9-dda1-4713-b85c-aaed940ff52a",
   "metadata": {},
   "outputs": [
    {
     "data": {
      "text/plain": [
       "5"
      ]
     },
     "execution_count": 5,
     "metadata": {},
     "output_type": "execute_result"
    }
   ],
   "source": [
    "v = 5\n",
    "v"
   ]
  },
  {
   "cell_type": "code",
   "execution_count": 6,
   "id": "5f9e04c9-5924-48f8-bcc9-5ce5d2ed19a0",
   "metadata": {},
   "outputs": [
    {
     "ename": "SyntaxError",
     "evalue": "cannot assign to literal here. Maybe you meant '==' instead of '='? (3239474762.py, line 1)",
     "output_type": "error",
     "traceback": [
      "\u001b[1;36m  Cell \u001b[1;32mIn[6], line 1\u001b[1;36m\u001b[0m\n\u001b[1;33m    5 = v\u001b[0m\n\u001b[1;37m    ^\u001b[0m\n\u001b[1;31mSyntaxError\u001b[0m\u001b[1;31m:\u001b[0m cannot assign to literal here. Maybe you meant '==' instead of '='?\n"
     ]
    }
   ],
   "source": [
    "5 = v "
   ]
  },
  {
   "cell_type": "code",
   "execution_count": 14,
   "id": "9310075a-b0fa-4500-a955-961ac7f7b913",
   "metadata": {},
   "outputs": [
    {
     "data": {
      "text/plain": [
       "140725538112424"
      ]
     },
     "execution_count": 14,
     "metadata": {},
     "output_type": "execute_result"
    }
   ],
   "source": [
    "id(v)"
   ]
  },
  {
   "cell_type": "code",
   "execution_count": 15,
   "id": "08ffc995-a090-4526-8fd8-0b3d7cc0ede0",
   "metadata": {},
   "outputs": [
    {
     "data": {
      "text/plain": [
       "5"
      ]
     },
     "execution_count": 15,
     "metadata": {},
     "output_type": "execute_result"
    }
   ],
   "source": [
    "v"
   ]
  },
  {
   "cell_type": "code",
   "execution_count": 16,
   "id": "95f29c27-fc85-48ba-b34b-43cc52ed1eed",
   "metadata": {},
   "outputs": [
    {
     "data": {
      "text/plain": [
       "5"
      ]
     },
     "execution_count": 16,
     "metadata": {},
     "output_type": "execute_result"
    }
   ],
   "source": [
    "i = 5\n",
    "i"
   ]
  },
  {
   "cell_type": "code",
   "execution_count": 17,
   "id": "e9f39b36-c304-41ad-849d-6cb5e516182c",
   "metadata": {},
   "outputs": [
    {
     "name": "stdout",
     "output_type": "stream",
     "text": [
      "5\n",
      "5\n"
     ]
    }
   ],
   "source": [
    "print(v)\n",
    "print(i)"
   ]
  },
  {
   "cell_type": "code",
   "execution_count": 18,
   "id": "a7615da4-1b1f-4764-92bd-8ee3cb22c033",
   "metadata": {},
   "outputs": [
    {
     "name": "stdout",
     "output_type": "stream",
     "text": [
      "140725538112424\n",
      "140725538112424\n"
     ]
    }
   ],
   "source": [
    "print(id(v))\n",
    "print(id(i))"
   ]
  },
  {
   "cell_type": "code",
   "execution_count": 19,
   "id": "40f6f167-e480-4f4c-8fd1-0f567622195e",
   "metadata": {},
   "outputs": [
    {
     "data": {
      "text/plain": [
       "6"
      ]
     },
     "execution_count": 19,
     "metadata": {},
     "output_type": "execute_result"
    }
   ],
   "source": [
    "o = 6\n",
    "o"
   ]
  },
  {
   "cell_type": "code",
   "execution_count": 25,
   "id": "9d2c8508-f563-41a8-bcda-3ea93f33059f",
   "metadata": {},
   "outputs": [
    {
     "name": "stdout",
     "output_type": "stream",
     "text": [
      "140725538112424\n",
      "140725538112424\n",
      "140725538112456\n"
     ]
    }
   ],
   "source": [
    "print(id(v)) # addres of v variable \n",
    "print(id(i)) # address of i variable or\n",
    "print(id(o))"
   ]
  },
  {
   "cell_type": "code",
   "execution_count": null,
   "id": "5f86a056-aa5c-4e75-811c-02a9bdd0e7ef",
   "metadata": {},
   "outputs": [],
   "source": [
    "write python program to add 2 variabel and i should get of  10 ? "
   ]
  },
  {
   "cell_type": "code",
   "execution_count": 23,
   "id": "9660e4fa-2fd7-4c5d-9941-f6ea53002046",
   "metadata": {},
   "outputs": [
    {
     "data": {
      "text/plain": [
       "10"
      ]
     },
     "execution_count": 23,
     "metadata": {},
     "output_type": "execute_result"
    }
   ],
   "source": [
    "a = 5\n",
    "b = 5\n",
    "a + b"
   ]
  },
  {
   "cell_type": "code",
   "execution_count": 26,
   "id": "a26a9ed3-4866-4509-bbab-a0c249d6f6ac",
   "metadata": {},
   "outputs": [
    {
     "data": {
      "text/plain": [
       "5"
      ]
     },
     "execution_count": 26,
     "metadata": {},
     "output_type": "execute_result"
    }
   ],
   "source": [
    "v"
   ]
  },
  {
   "cell_type": "markdown",
   "id": "3962f17b-9067-41cc-a82e-7def11a2f976",
   "metadata": {},
   "source": [
    "# Rule to define python identifer "
   ]
  },
  {
   "cell_type": "code",
   "execution_count": 32,
   "id": "1a1bb8be-1f77-47f1-8896-f394aba10b4e",
   "metadata": {},
   "outputs": [
    {
     "ename": "NameError",
     "evalue": "name 'niT' is not defined",
     "output_type": "error",
     "traceback": [
      "\u001b[1;31m---------------------------------------------------------------------------\u001b[0m",
      "\u001b[1;31mNameError\u001b[0m                                 Traceback (most recent call last)",
      "Cell \u001b[1;32mIn[32], line 2\u001b[0m\n\u001b[0;32m      1\u001b[0m nit \u001b[38;5;241m=\u001b[39m \u001b[38;5;241m21\u001b[39m\n\u001b[1;32m----> 2\u001b[0m niT\n",
      "\u001b[1;31mNameError\u001b[0m: name 'niT' is not defined"
     ]
    }
   ],
   "source": [
    "nit = 21\n",
    "NIT"
   ]
  },
  {
   "cell_type": "code",
   "execution_count": 29,
   "id": "11773a39-7760-4436-abda-8aad0018cebd",
   "metadata": {},
   "outputs": [
    {
     "data": {
      "text/plain": [
       "21"
      ]
     },
     "execution_count": 29,
     "metadata": {},
     "output_type": "execute_result"
    }
   ],
   "source": [
    "nit"
   ]
  },
  {
   "cell_type": "code",
   "execution_count": 33,
   "id": "9f07d4bf-89e5-464a-b505-09deb4601243",
   "metadata": {},
   "outputs": [
    {
     "ename": "SyntaxError",
     "evalue": "invalid decimal literal (3634445868.py, line 1)",
     "output_type": "error",
     "traceback": [
      "\u001b[1;36m  Cell \u001b[1;32mIn[33], line 1\u001b[1;36m\u001b[0m\n\u001b[1;33m    2v = 50\u001b[0m\n\u001b[1;37m    ^\u001b[0m\n\u001b[1;31mSyntaxError\u001b[0m\u001b[1;31m:\u001b[0m invalid decimal literal\n"
     ]
    }
   ],
   "source": [
    "2v = 50\n",
    "2v"
   ]
  },
  {
   "cell_type": "code",
   "execution_count": 34,
   "id": "4e9503e8-a0b6-4103-b6de-0d455a8b9c04",
   "metadata": {},
   "outputs": [
    {
     "data": {
      "text/plain": [
       "50"
      ]
     },
     "execution_count": 34,
     "metadata": {},
     "output_type": "execute_result"
    }
   ],
   "source": [
    "v2 = 50\n",
    "v2"
   ]
  },
  {
   "cell_type": "code",
   "execution_count": 37,
   "id": "adaa90b8-1d52-417d-8816-35963368958f",
   "metadata": {},
   "outputs": [
    {
     "ename": "SyntaxError",
     "evalue": "invalid syntax (2835880555.py, line 1)",
     "output_type": "error",
     "traceback": [
      "\u001b[1;36m  Cell \u001b[1;32mIn[37], line 1\u001b[1;36m\u001b[0m\n\u001b[1;33m    v3* = 78\u001b[0m\n\u001b[1;37m        ^\u001b[0m\n\u001b[1;31mSyntaxError\u001b[0m\u001b[1;31m:\u001b[0m invalid syntax\n"
     ]
    }
   ],
   "source": [
    "v3* = 78"
   ]
  },
  {
   "cell_type": "code",
   "execution_count": 40,
   "id": "a395202d-d244-4b36-8d8f-de8fed330aab",
   "metadata": {},
   "outputs": [
    {
     "data": {
      "text/plain": [
       "67"
      ]
     },
     "execution_count": 40,
     "metadata": {},
     "output_type": "execute_result"
    }
   ],
   "source": [
    "v3_ = 67\n",
    "v3_"
   ]
  },
  {
   "cell_type": "code",
   "execution_count": 43,
   "id": "1ea9a758-e254-4eaf-bfa0-2b211d7a67ec",
   "metadata": {},
   "outputs": [
    {
     "data": {
      "text/plain": [
       "35"
      ]
     },
     "execution_count": 43,
     "metadata": {},
     "output_type": "execute_result"
    }
   ],
   "source": [
    "import keyword\n",
    "len(keyword.kwlist)"
   ]
  },
  {
   "cell_type": "code",
   "execution_count": 44,
   "id": "981137f9-8c50-4381-96ae-3bb86b23dfcd",
   "metadata": {},
   "outputs": [
    {
     "ename": "SyntaxError",
     "evalue": "invalid syntax (3076455996.py, line 1)",
     "output_type": "error",
     "traceback": [
      "\u001b[1;36m  Cell \u001b[1;32mIn[44], line 1\u001b[1;36m\u001b[0m\n\u001b[1;33m    and = 78\u001b[0m\n\u001b[1;37m    ^\u001b[0m\n\u001b[1;31mSyntaxError\u001b[0m\u001b[1;31m:\u001b[0m invalid syntax\n"
     ]
    }
   ],
   "source": [
    "and = 78"
   ]
  },
  {
   "cell_type": "code",
   "execution_count": 55,
   "id": "fe431fd2-ecd1-4306-bce4-63438a2e6f36",
   "metadata": {},
   "outputs": [
    {
     "ename": "SyntaxError",
     "evalue": "invalid syntax (514723562.py, line 1)",
     "output_type": "error",
     "traceback": [
      "\u001b[1;36m  Cell \u001b[1;32mIn[55], line 1\u001b[1;36m\u001b[0m\n\u001b[1;33m    continue = 7\u001b[0m\n\u001b[1;37m             ^\u001b[0m\n\u001b[1;31mSyntaxError\u001b[0m\u001b[1;31m:\u001b[0m invalid syntax\n"
     ]
    }
   ],
   "source": [
    "continue = 7"
   ]
  },
  {
   "cell_type": "code",
   "execution_count": 56,
   "id": "90186c7a-d59b-471f-8def-4d61f14aecc9",
   "metadata": {},
   "outputs": [
    {
     "ename": "SyntaxError",
     "evalue": "cannot assign to True (3093263138.py, line 1)",
     "output_type": "error",
     "traceback": [
      "\u001b[1;36m  Cell \u001b[1;32mIn[56], line 1\u001b[1;36m\u001b[0m\n\u001b[1;33m    True = 45\u001b[0m\n\u001b[1;37m    ^\u001b[0m\n\u001b[1;31mSyntaxError\u001b[0m\u001b[1;31m:\u001b[0m cannot assign to True\n"
     ]
    }
   ],
   "source": [
    "True = 45"
   ]
  },
  {
   "cell_type": "code",
   "execution_count": 59,
   "id": "c19e4073-66b1-4722-82a7-4595bfda83ad",
   "metadata": {},
   "outputs": [
    {
     "data": {
      "text/plain": [
       "100"
      ]
     },
     "execution_count": 59,
     "metadata": {},
     "output_type": "execute_result"
    }
   ],
   "source": [
    "vvvvvvvvvvvvvvvvvvvvvvvvvvvvvvvvvvvvvvvvvvvvvvvvvvvvvvvvvvvvvvvv = 100\n",
    "vvvvvvvvvvvvvvvvvvvvvvvvvvvvvvvvvvvvvvvvvvvvvvvvvvvvvvvvvvvvvvvv"
   ]
  },
  {
   "cell_type": "code",
   "execution_count": 13,
   "id": "06b37d9b-2d23-48d9-a84b-a49840c7614c",
   "metadata": {},
   "outputs": [
    {
     "name": "stdout",
     "output_type": "stream",
     "text": [
      "10.3\n",
      "nit\n"
     ]
    }
   ],
   "source": [
    "name = 'nit'\n",
    "student = 10.30\n",
    "\n",
    "print(student)\n",
    "print(name)"
   ]
  },
  {
   "cell_type": "markdown",
   "id": "f9324723-6f51-4463-9e0b-c8ef7b68f778",
   "metadata": {},
   "source": [
    "* Q & A for valid / Invalid identifier - \n",
    "1>123AMX\n",
    "2>Amx123\n",
    "3>ml2ai\n",
    "4>_abc_def_gef \n",
    "5>def\n",
    "6>else\n",
    "7>ELSE\n",
    "\n",
    "* ----- RULES OF PYTHON IDENTIFIER ------\n",
    "1> A to Z, a to z, 0 - 9\n",
    "2> Doesnot starts with digit\n",
    "3> Case sensitive\n",
    "4> Reserved words or keywords cannot be a identifier\n",
    "5> Identifier cannot have a lenght limit\n",
    "6> _ only allowed\n",
    "7> NO special character is allowed \n",
    "\n",
    "* ========================= WE LEARNT ABOUT PYTHON IDENTIFIER IN DETAILS ============================"
   ]
  },
  {
   "cell_type": "code",
   "execution_count": 62,
   "id": "4da5302a-ea24-41a3-86f1-ebb0e99ff7d3",
   "metadata": {},
   "outputs": [
    {
     "ename": "SyntaxError",
     "evalue": "invalid syntax (1235973109.py, line 1)",
     "output_type": "error",
     "traceback": [
      "\u001b[1;36m  Cell \u001b[1;32mIn[62], line 1\u001b[1;36m\u001b[0m\n\u001b[1;33m    else = 56\u001b[0m\n\u001b[1;37m    ^\u001b[0m\n\u001b[1;31mSyntaxError\u001b[0m\u001b[1;31m:\u001b[0m invalid syntax\n"
     ]
    }
   ],
   "source": [
    "else = 56\n",
    "else"
   ]
  },
  {
   "cell_type": "markdown",
   "id": "b48ea8cd-dc7e-45eb-9aba-9cc732a57879",
   "metadata": {},
   "source": [
    "# 5th NOv"
   ]
  },
  {
   "cell_type": "markdown",
   "id": "43e8fd6d-c83e-4439-8f51-3f0d3b4c0884",
   "metadata": {},
   "source": [
    "# python identifier = values\n",
    "    values = int value or int datatype = value without decimal ( i = 5)\n",
    "             float value or float datatype = value with decimal ( f = 5.3)\n",
    "             string value or string datatype = value define with '' | \"\" | ''' ''' ( multiline comment)\n",
    "             bool value or bool data type = True or False\n",
    "             complex value or complex datatype  ( java dont have )"
   ]
  },
  {
   "cell_type": "code",
   "execution_count": 63,
   "id": "62b662d3-4d8a-4f5e-8259-ef55a34088d5",
   "metadata": {},
   "outputs": [
    {
     "data": {
      "text/plain": [
       "3"
      ]
     },
     "execution_count": 63,
     "metadata": {},
     "output_type": "execute_result"
    }
   ],
   "source": [
    "i = 3\n",
    "i"
   ]
  },
  {
   "cell_type": "code",
   "execution_count": 64,
   "id": "aa68cf4e-7e9c-4b82-8b8f-1a8d9dac5918",
   "metadata": {},
   "outputs": [
    {
     "data": {
      "text/plain": [
       "int"
      ]
     },
     "execution_count": 64,
     "metadata": {},
     "output_type": "execute_result"
    }
   ],
   "source": [
    "type(i)"
   ]
  },
  {
   "cell_type": "code",
   "execution_count": 65,
   "id": "10b7b3bd-310c-461b-85ca-7763f91d5e14",
   "metadata": {},
   "outputs": [
    {
     "data": {
      "text/plain": [
       "300"
      ]
     },
     "execution_count": 65,
     "metadata": {},
     "output_type": "execute_result"
    }
   ],
   "source": [
    "i1 = 300\n",
    "i1"
   ]
  },
  {
   "cell_type": "code",
   "execution_count": 66,
   "id": "eefdeaeb-7938-4792-a5bd-12c15098efdd",
   "metadata": {},
   "outputs": [
    {
     "data": {
      "text/plain": [
       "int"
      ]
     },
     "execution_count": 66,
     "metadata": {},
     "output_type": "execute_result"
    }
   ],
   "source": [
    "type(i1)"
   ]
  },
  {
   "cell_type": "markdown",
   "id": "0b90b4f3-9baa-4ab9-9ff7-6a1db06f541f",
   "metadata": {},
   "source": [
    "# float"
   ]
  },
  {
   "cell_type": "code",
   "execution_count": 70,
   "id": "b7566fae-4545-45eb-888e-d0d4c06b3fa5",
   "metadata": {},
   "outputs": [
    {
     "data": {
      "text/plain": [
       "110.45"
      ]
     },
     "execution_count": 70,
     "metadata": {},
     "output_type": "execute_result"
    }
   ],
   "source": [
    "petrol = 110.45\n",
    "petrol "
   ]
  },
  {
   "cell_type": "code",
   "execution_count": 71,
   "id": "257af7b7-c469-4de1-8a08-5b1b05abb5a8",
   "metadata": {},
   "outputs": [
    {
     "data": {
      "text/plain": [
       "float"
      ]
     },
     "execution_count": 71,
     "metadata": {},
     "output_type": "execute_result"
    }
   ],
   "source": [
    "type(petrol)"
   ]
  },
  {
   "cell_type": "code",
   "execution_count": 72,
   "id": "7a348f30-9c0f-4111-9bdc-ea01104a79b4",
   "metadata": {},
   "outputs": [
    {
     "data": {
      "text/plain": [
       "2.3"
      ]
     },
     "execution_count": 72,
     "metadata": {},
     "output_type": "execute_result"
    }
   ],
   "source": [
    "f1 = 2.3\n",
    "f1"
   ]
  },
  {
   "cell_type": "code",
   "execution_count": 73,
   "id": "e299fec9-391c-447a-90d8-d3b09f1a2276",
   "metadata": {},
   "outputs": [
    {
     "data": {
      "text/plain": [
       "2.0"
      ]
     },
     "execution_count": 73,
     "metadata": {},
     "output_type": "execute_result"
    }
   ],
   "source": [
    "f2 = 2e0\n",
    "f2"
   ]
  },
  {
   "cell_type": "code",
   "execution_count": 74,
   "id": "2991698b-e75b-4e59-8fdf-3c63ec3574a9",
   "metadata": {},
   "outputs": [
    {
     "data": {
      "text/plain": [
       "30.0"
      ]
     },
     "execution_count": 74,
     "metadata": {},
     "output_type": "execute_result"
    }
   ],
   "source": [
    "f3 = 3e1\n",
    "f3"
   ]
  },
  {
   "cell_type": "code",
   "execution_count": 75,
   "id": "e6a4cd99-4c66-491b-9e3e-c6afb9a5fd00",
   "metadata": {},
   "outputs": [
    {
     "data": {
      "text/plain": [
       "300.0"
      ]
     },
     "execution_count": 75,
     "metadata": {},
     "output_type": "execute_result"
    }
   ],
   "source": [
    "f4 = 3e2\n",
    "f4"
   ]
  },
  {
   "cell_type": "code",
   "execution_count": 76,
   "id": "9e2d501b-c868-4cb6-a757-a87dc3c24084",
   "metadata": {},
   "outputs": [
    {
     "data": {
      "text/plain": [
       "3000.0"
      ]
     },
     "execution_count": 76,
     "metadata": {},
     "output_type": "execute_result"
    }
   ],
   "source": [
    "f5 = 3e3\n",
    "f5"
   ]
  },
  {
   "cell_type": "markdown",
   "id": "49b37857-b74e-44db-9ac2-0f9bef984b89",
   "metadata": {},
   "source": [
    "f6 = 2.4e3\n",
    "f6"
   ]
  },
  {
   "cell_type": "code",
   "execution_count": 78,
   "id": "a460ff0e-65c4-4bdb-8c8b-5b699b32b60d",
   "metadata": {},
   "outputs": [
    {
     "data": {
      "text/plain": [
       "float"
      ]
     },
     "execution_count": 78,
     "metadata": {},
     "output_type": "execute_result"
    }
   ],
   "source": [
    "type(f6)"
   ]
  },
  {
   "cell_type": "markdown",
   "id": "e9cd07dd-cfdb-4f62-ad6d-259dfe0c550a",
   "metadata": {},
   "source": [
    "# string"
   ]
  },
  {
   "cell_type": "code",
   "execution_count": 86,
   "id": "f2394942-f6c7-425a-a797-6d32e4fe26b9",
   "metadata": {},
   "outputs": [
    {
     "data": {
      "text/plain": [
       "'nit'"
      ]
     },
     "execution_count": 86,
     "metadata": {},
     "output_type": "execute_result"
    }
   ],
   "source": [
    "s = 'nit'\n",
    "s"
   ]
  },
  {
   "cell_type": "code",
   "execution_count": 87,
   "id": "d9f065d2-da38-4dc9-9177-1677c6a1ef4d",
   "metadata": {},
   "outputs": [
    {
     "data": {
      "text/plain": [
       "'nit tech'"
      ]
     },
     "execution_count": 87,
     "metadata": {},
     "output_type": "execute_result"
    }
   ],
   "source": [
    "s1 = \"nit tech\"\n",
    "s1"
   ]
  },
  {
   "cell_type": "code",
   "execution_count": 88,
   "id": "9a2c765e-f1dd-4972-9f84-d66c7d105d5a",
   "metadata": {},
   "outputs": [
    {
     "data": {
      "text/plain": [
       "' nit tech '"
      ]
     },
     "execution_count": 88,
     "metadata": {},
     "output_type": "execute_result"
    }
   ],
   "source": [
    "s2 = ''' nit tech '''\n",
    "s2"
   ]
  },
  {
   "cell_type": "code",
   "execution_count": 89,
   "id": "6b210c7d-e296-437c-92f5-a26b071cdc48",
   "metadata": {},
   "outputs": [
    {
     "ename": "SyntaxError",
     "evalue": "unterminated string literal (detected at line 1) (3291476304.py, line 1)",
     "output_type": "error",
     "traceback": [
      "\u001b[1;36m  Cell \u001b[1;32mIn[89], line 1\u001b[1;36m\u001b[0m\n\u001b[1;33m    s3 = 'nit\u001b[0m\n\u001b[1;37m         ^\u001b[0m\n\u001b[1;31mSyntaxError\u001b[0m\u001b[1;31m:\u001b[0m unterminated string literal (detected at line 1)\n"
     ]
    }
   ],
   "source": [
    "s3 = 'nit \n",
    "        technology'\n",
    "s3"
   ]
  },
  {
   "cell_type": "code",
   "execution_count": 90,
   "id": "9d1249dd-f773-4200-be28-7f8cae466519",
   "metadata": {},
   "outputs": [
    {
     "ename": "SyntaxError",
     "evalue": "unterminated string literal (detected at line 1) (1030491427.py, line 1)",
     "output_type": "error",
     "traceback": [
      "\u001b[1;36m  Cell \u001b[1;32mIn[90], line 1\u001b[1;36m\u001b[0m\n\u001b[1;33m    s4 = \"nit\u001b[0m\n\u001b[1;37m         ^\u001b[0m\n\u001b[1;31mSyntaxError\u001b[0m\u001b[1;31m:\u001b[0m unterminated string literal (detected at line 1)\n"
     ]
    }
   ],
   "source": [
    "s4 = \"nit \n",
    "        technology\"\n",
    "s4"
   ]
  },
  {
   "cell_type": "code",
   "execution_count": 91,
   "id": "6c268a9a-66b1-43ca-a838-cb346380cea1",
   "metadata": {},
   "outputs": [
    {
     "data": {
      "text/plain": [
       "'nit \\n        technology'"
      ]
     },
     "execution_count": 91,
     "metadata": {},
     "output_type": "execute_result"
    }
   ],
   "source": [
    "s5 = '''nit \n",
    "        technology'''\n",
    "s5"
   ]
  },
  {
   "cell_type": "markdown",
   "id": "2a64972f-ca65-46a2-8227-5f1ffd7951fc",
   "metadata": {},
   "source": [
    "# BOOL"
   ]
  },
  {
   "cell_type": "code",
   "execution_count": 95,
   "id": "49998b08-11aa-4a35-a51e-6d13ed82f677",
   "metadata": {},
   "outputs": [
    {
     "data": {
      "text/plain": [
       "['False',\n",
       " 'None',\n",
       " 'True',\n",
       " 'and',\n",
       " 'as',\n",
       " 'assert',\n",
       " 'async',\n",
       " 'await',\n",
       " 'break',\n",
       " 'class',\n",
       " 'continue',\n",
       " 'def',\n",
       " 'del',\n",
       " 'elif',\n",
       " 'else',\n",
       " 'except',\n",
       " 'finally',\n",
       " 'for',\n",
       " 'from',\n",
       " 'global',\n",
       " 'if',\n",
       " 'import',\n",
       " 'in',\n",
       " 'is',\n",
       " 'lambda',\n",
       " 'nonlocal',\n",
       " 'not',\n",
       " 'or',\n",
       " 'pass',\n",
       " 'raise',\n",
       " 'return',\n",
       " 'try',\n",
       " 'while',\n",
       " 'with',\n",
       " 'yield']"
      ]
     },
     "execution_count": 95,
     "metadata": {},
     "output_type": "execute_result"
    }
   ],
   "source": [
    "import keyword\n",
    "keyword.kwlist"
   ]
  },
  {
   "cell_type": "code",
   "execution_count": 97,
   "id": "c5c155e5-1a3e-4000-b26f-937608c993c2",
   "metadata": {},
   "outputs": [
    {
     "data": {
      "text/plain": [
       "True"
      ]
     },
     "execution_count": 97,
     "metadata": {},
     "output_type": "execute_result"
    }
   ],
   "source": [
    "b = True\n",
    "b"
   ]
  },
  {
   "cell_type": "code",
   "execution_count": 98,
   "id": "b33b3a0d-910e-40ea-9c4d-0c72b3f0c6b8",
   "metadata": {},
   "outputs": [
    {
     "data": {
      "text/plain": [
       "bool"
      ]
     },
     "execution_count": 98,
     "metadata": {},
     "output_type": "execute_result"
    }
   ],
   "source": [
    "type(b)"
   ]
  },
  {
   "cell_type": "code",
   "execution_count": 99,
   "id": "e23f8edb-90f6-4964-8ff4-06f7919c8cae",
   "metadata": {},
   "outputs": [
    {
     "data": {
      "text/plain": [
       "False"
      ]
     },
     "execution_count": 99,
     "metadata": {},
     "output_type": "execute_result"
    }
   ],
   "source": [
    "b1 = False\n",
    "b1"
   ]
  },
  {
   "cell_type": "code",
   "execution_count": 102,
   "id": "5941d8c5-faae-4d1b-b820-ec81cabe2b5f",
   "metadata": {},
   "outputs": [
    {
     "data": {
      "text/plain": [
       "1"
      ]
     },
     "execution_count": 102,
     "metadata": {},
     "output_type": "execute_result"
    }
   ],
   "source": [
    "True + False"
   ]
  },
  {
   "cell_type": "code",
   "execution_count": 103,
   "id": "08705319-0934-4d22-aa62-f7d4e5206579",
   "metadata": {},
   "outputs": [
    {
     "data": {
      "text/plain": [
       "1"
      ]
     },
     "execution_count": 103,
     "metadata": {},
     "output_type": "execute_result"
    }
   ],
   "source": [
    "True-False"
   ]
  },
  {
   "cell_type": "code",
   "execution_count": 104,
   "id": "8fab09f4-58cd-45da-947f-c7a68360bbd3",
   "metadata": {},
   "outputs": [
    {
     "data": {
      "text/plain": [
       "1"
      ]
     },
     "execution_count": 104,
     "metadata": {},
     "output_type": "execute_result"
    }
   ],
   "source": [
    "True * True - False + False * True"
   ]
  },
  {
   "cell_type": "code",
   "execution_count": 105,
   "id": "7addd062-009b-4832-bc09-b1ef8833ba64",
   "metadata": {},
   "outputs": [
    {
     "data": {
      "text/plain": [
       "0"
      ]
     },
     "execution_count": 105,
     "metadata": {},
     "output_type": "execute_result"
    }
   ],
   "source": [
    "False * True "
   ]
  },
  {
   "cell_type": "code",
   "execution_count": 106,
   "id": "45e1c1a7-e794-404a-a694-3e95d4fc6cab",
   "metadata": {},
   "outputs": [
    {
     "data": {
      "text/plain": [
       "0.0"
      ]
     },
     "execution_count": 106,
     "metadata": {},
     "output_type": "execute_result"
    }
   ],
   "source": [
    "False / True"
   ]
  },
  {
   "cell_type": "code",
   "execution_count": 107,
   "id": "ea56b822-2f52-46da-a6cf-9546d0c06b38",
   "metadata": {},
   "outputs": [
    {
     "data": {
      "text/plain": [
       "0"
      ]
     },
     "execution_count": 107,
     "metadata": {},
     "output_type": "execute_result"
    }
   ],
   "source": [
    "False // True"
   ]
  },
  {
   "cell_type": "code",
   "execution_count": 111,
   "id": "88371e07-c4ac-4968-bd2e-80d1ed06f5ee",
   "metadata": {},
   "outputs": [
    {
     "ename": "ZeroDivisionError",
     "evalue": "division by zero",
     "output_type": "error",
     "traceback": [
      "\u001b[1;31m---------------------------------------------------------------------------\u001b[0m",
      "\u001b[1;31mZeroDivisionError\u001b[0m                         Traceback (most recent call last)",
      "Cell \u001b[1;32mIn[111], line 1\u001b[0m\n\u001b[1;32m----> 1\u001b[0m \u001b[38;5;28;01mTrue\u001b[39;00m \u001b[38;5;241m/\u001b[39m \u001b[38;5;28;01mFalse\u001b[39;00m\n",
      "\u001b[1;31mZeroDivisionError\u001b[0m: division by zero"
     ]
    }
   ],
   "source": [
    "True / False "
   ]
  },
  {
   "cell_type": "markdown",
   "id": "04e96358-c2c3-4d1c-9062-e2928963a73a",
   "metadata": {},
   "source": [
    "# complex  - a + bj \n",
    "    a- real part & b - imainary part & j - squre root of -1"
   ]
  },
  {
   "cell_type": "code",
   "execution_count": 112,
   "id": "f71a559a-2944-4552-b318-21668c196f1d",
   "metadata": {},
   "outputs": [
    {
     "data": {
      "text/plain": [
       "(1+2j)"
      ]
     },
     "execution_count": 112,
     "metadata": {},
     "output_type": "execute_result"
    }
   ],
   "source": [
    "c = 1 + 2j \n",
    "c"
   ]
  },
  {
   "cell_type": "code",
   "execution_count": 114,
   "id": "eca8b19e-8486-4d11-9144-cf27b44dd930",
   "metadata": {},
   "outputs": [
    {
     "data": {
      "text/plain": [
       "complex"
      ]
     },
     "execution_count": 114,
     "metadata": {},
     "output_type": "execute_result"
    }
   ],
   "source": [
    "type(c)"
   ]
  },
  {
   "cell_type": "code",
   "execution_count": 115,
   "id": "cfd0576b-f087-4f09-9947-dbcb7f759a7f",
   "metadata": {},
   "outputs": [
    {
     "data": {
      "text/plain": [
       "1.0"
      ]
     },
     "execution_count": 115,
     "metadata": {},
     "output_type": "execute_result"
    }
   ],
   "source": [
    "c.real"
   ]
  },
  {
   "cell_type": "code",
   "execution_count": 116,
   "id": "433e800d-ecb6-48e6-8aba-17abd1f10363",
   "metadata": {},
   "outputs": [
    {
     "data": {
      "text/plain": [
       "2.0"
      ]
     },
     "execution_count": 116,
     "metadata": {},
     "output_type": "execute_result"
    }
   ],
   "source": [
    "c.imag"
   ]
  },
  {
   "cell_type": "code",
   "execution_count": 117,
   "id": "e2dc710d-6e6b-4297-a2f5-b0e82c817111",
   "metadata": {},
   "outputs": [
    {
     "data": {
      "text/plain": [
       "(1+2j)"
      ]
     },
     "execution_count": 117,
     "metadata": {},
     "output_type": "execute_result"
    }
   ],
   "source": [
    "c"
   ]
  },
  {
   "cell_type": "code",
   "execution_count": 118,
   "id": "f2d03254-5a6f-4215-b517-205b07630fbd",
   "metadata": {},
   "outputs": [
    {
     "data": {
      "text/plain": [
       "(2+3j)"
      ]
     },
     "execution_count": 118,
     "metadata": {},
     "output_type": "execute_result"
    }
   ],
   "source": [
    "d = 2+3j\n",
    "d"
   ]
  },
  {
   "cell_type": "code",
   "execution_count": 119,
   "id": "59642159-f0dd-431f-a7f6-0900bb670d70",
   "metadata": {},
   "outputs": [
    {
     "name": "stdout",
     "output_type": "stream",
     "text": [
      "(1+2j)\n",
      "(2+3j)\n"
     ]
    }
   ],
   "source": [
    "print(c)\n",
    "print(d)"
   ]
  },
  {
   "cell_type": "code",
   "execution_count": 120,
   "id": "19f4fc61-98c6-4441-a27c-c46a61dc584a",
   "metadata": {},
   "outputs": [
    {
     "data": {
      "text/plain": [
       "(3+5j)"
      ]
     },
     "execution_count": 120,
     "metadata": {},
     "output_type": "execute_result"
    }
   ],
   "source": [
    "c + d"
   ]
  },
  {
   "cell_type": "markdown",
   "id": "b0baa654-ad05-4302-9e09-1b41abe73b64",
   "metadata": {},
   "source": [
    "# python data type we are completed "
   ]
  },
  {
   "cell_type": "markdown",
   "id": "a3365512-c69d-41b4-b836-2e808266d263",
   "metadata": {},
   "source": [
    "# 6th  -->  type casting "
   ]
  },
  {
   "cell_type": "markdown",
   "id": "84b36be0-e5e5-4a22-b623-871b6f206682",
   "metadata": {},
   "source": [
    "#TYPE CAST FROM OTHER DATATYPE TO INTEGER"
   ]
  },
  {
   "cell_type": "code",
   "execution_count": 1,
   "id": "8343c9dc-e66b-499c-87b6-0d9576846838",
   "metadata": {},
   "outputs": [
    {
     "data": {
      "text/plain": [
       "3"
      ]
     },
     "execution_count": 1,
     "metadata": {},
     "output_type": "execute_result"
    }
   ],
   "source": [
    "int(3.4)"
   ]
  },
  {
   "cell_type": "code",
   "execution_count": 2,
   "id": "bc2a6f12-fd55-49fa-b7e2-f9c7a321a8bb",
   "metadata": {},
   "outputs": [
    {
     "data": {
      "text/plain": [
       "1"
      ]
     },
     "execution_count": 2,
     "metadata": {},
     "output_type": "execute_result"
    }
   ],
   "source": [
    "int(True)"
   ]
  },
  {
   "cell_type": "code",
   "execution_count": 3,
   "id": "7ab2066f-9619-45bd-8d15-18ce5d03c1ee",
   "metadata": {},
   "outputs": [
    {
     "data": {
      "text/plain": [
       "0"
      ]
     },
     "execution_count": 3,
     "metadata": {},
     "output_type": "execute_result"
    }
   ],
   "source": [
    "int(False)"
   ]
  },
  {
   "cell_type": "code",
   "execution_count": 4,
   "id": "8f5a9dfc-bb0b-4c50-a457-211bcc478b28",
   "metadata": {},
   "outputs": [
    {
     "data": {
      "text/plain": [
       "10"
      ]
     },
     "execution_count": 4,
     "metadata": {},
     "output_type": "execute_result"
    }
   ],
   "source": [
    "int('10')"
   ]
  },
  {
   "cell_type": "code",
   "execution_count": 5,
   "id": "c5d505b3-101f-4868-9a22-5254c3f58ce1",
   "metadata": {},
   "outputs": [
    {
     "ename": "ValueError",
     "evalue": "invalid literal for int() with base 10: 'ten'",
     "output_type": "error",
     "traceback": [
      "\u001b[1;31m---------------------------------------------------------------------------\u001b[0m",
      "\u001b[1;31mValueError\u001b[0m                                Traceback (most recent call last)",
      "Cell \u001b[1;32mIn[5], line 1\u001b[0m\n\u001b[1;32m----> 1\u001b[0m \u001b[38;5;28mint\u001b[39m(\u001b[38;5;124m'\u001b[39m\u001b[38;5;124mten\u001b[39m\u001b[38;5;124m'\u001b[39m)\n",
      "\u001b[1;31mValueError\u001b[0m: invalid literal for int() with base 10: 'ten'"
     ]
    }
   ],
   "source": [
    "int('ten')"
   ]
  },
  {
   "cell_type": "code",
   "execution_count": 6,
   "id": "c2c86f4e-fa8d-449b-ac19-9a0089fb9e9a",
   "metadata": {},
   "outputs": [
    {
     "ename": "TypeError",
     "evalue": "int() argument must be a string, a bytes-like object or a real number, not 'complex'",
     "output_type": "error",
     "traceback": [
      "\u001b[1;31m---------------------------------------------------------------------------\u001b[0m",
      "\u001b[1;31mTypeError\u001b[0m                                 Traceback (most recent call last)",
      "Cell \u001b[1;32mIn[6], line 1\u001b[0m\n\u001b[1;32m----> 1\u001b[0m \u001b[38;5;28mint\u001b[39m(\u001b[38;5;241m1\u001b[39m\u001b[38;5;241m+\u001b[39m\u001b[38;5;241m2\u001b[39mj)\n",
      "\u001b[1;31mTypeError\u001b[0m: int() argument must be a string, a bytes-like object or a real number, not 'complex'"
     ]
    }
   ],
   "source": [
    "int(1+2j)"
   ]
  },
  {
   "cell_type": "markdown",
   "id": "7a212f99-faee-459b-a7d7-0a60c820832b",
   "metadata": {},
   "source": [
    "# TYPE CAST FROM OTHER DATATYPE TO FLOAT"
   ]
  },
  {
   "cell_type": "code",
   "execution_count": 7,
   "id": "38278b9e-7e72-4af8-82f6-b83da2c16b22",
   "metadata": {},
   "outputs": [
    {
     "data": {
      "text/plain": [
       "34.0"
      ]
     },
     "execution_count": 7,
     "metadata": {},
     "output_type": "execute_result"
    }
   ],
   "source": [
    "float(34)"
   ]
  },
  {
   "cell_type": "code",
   "execution_count": 8,
   "id": "6c113126-0918-4a36-a4d1-79bd98538535",
   "metadata": {},
   "outputs": [
    {
     "data": {
      "text/plain": [
       "1.0"
      ]
     },
     "execution_count": 8,
     "metadata": {},
     "output_type": "execute_result"
    }
   ],
   "source": [
    "float(True)"
   ]
  },
  {
   "cell_type": "code",
   "execution_count": 9,
   "id": "cf5f34de-e942-4cda-85a4-89aa7d404e63",
   "metadata": {},
   "outputs": [
    {
     "data": {
      "text/plain": [
       "0.0"
      ]
     },
     "execution_count": 9,
     "metadata": {},
     "output_type": "execute_result"
    }
   ],
   "source": [
    "float(False)"
   ]
  },
  {
   "cell_type": "code",
   "execution_count": 10,
   "id": "ab03ed20-6e92-4b3e-9054-967917cbc0f2",
   "metadata": {},
   "outputs": [
    {
     "data": {
      "text/plain": [
       "10.0"
      ]
     },
     "execution_count": 10,
     "metadata": {},
     "output_type": "execute_result"
    }
   ],
   "source": [
    "float('10')"
   ]
  },
  {
   "cell_type": "code",
   "execution_count": 11,
   "id": "a4ea7a16-27db-41f6-a1b7-edbc1ce5ad80",
   "metadata": {},
   "outputs": [
    {
     "ename": "ValueError",
     "evalue": "could not convert string to float: 'ten'",
     "output_type": "error",
     "traceback": [
      "\u001b[1;31m---------------------------------------------------------------------------\u001b[0m",
      "\u001b[1;31mValueError\u001b[0m                                Traceback (most recent call last)",
      "Cell \u001b[1;32mIn[11], line 1\u001b[0m\n\u001b[1;32m----> 1\u001b[0m \u001b[38;5;28mfloat\u001b[39m(\u001b[38;5;124m'\u001b[39m\u001b[38;5;124mten\u001b[39m\u001b[38;5;124m'\u001b[39m)\n",
      "\u001b[1;31mValueError\u001b[0m: could not convert string to float: 'ten'"
     ]
    }
   ],
   "source": [
    "float('ten')"
   ]
  },
  {
   "cell_type": "code",
   "execution_count": 12,
   "id": "37ddec8b-d797-48c1-9fa9-2d834cce4f55",
   "metadata": {},
   "outputs": [
    {
     "ename": "TypeError",
     "evalue": "float() argument must be a string or a real number, not 'complex'",
     "output_type": "error",
     "traceback": [
      "\u001b[1;31m---------------------------------------------------------------------------\u001b[0m",
      "\u001b[1;31mTypeError\u001b[0m                                 Traceback (most recent call last)",
      "Cell \u001b[1;32mIn[12], line 1\u001b[0m\n\u001b[1;32m----> 1\u001b[0m \u001b[38;5;28mfloat\u001b[39m(\u001b[38;5;241m1\u001b[39m\u001b[38;5;241m+\u001b[39m\u001b[38;5;241m2\u001b[39mj)\n",
      "\u001b[1;31mTypeError\u001b[0m: float() argument must be a string or a real number, not 'complex'"
     ]
    }
   ],
   "source": [
    "float(1+2j)"
   ]
  },
  {
   "cell_type": "markdown",
   "id": "f58af631-51cc-476a-b38e-0f203780edd6",
   "metadata": {},
   "source": [
    "# TYPE CAST FROM OTHER DATATYPE TO BOOL"
   ]
  },
  {
   "cell_type": "code",
   "execution_count": 13,
   "id": "3f8f528d-18f7-444d-8791-5fa61871627a",
   "metadata": {},
   "outputs": [
    {
     "data": {
      "text/plain": [
       "True"
      ]
     },
     "execution_count": 13,
     "metadata": {},
     "output_type": "execute_result"
    }
   ],
   "source": [
    "bool(56)"
   ]
  },
  {
   "cell_type": "code",
   "execution_count": 14,
   "id": "e0e35bbb-1df4-4a9c-8693-c5f9b0dd4777",
   "metadata": {},
   "outputs": [
    {
     "data": {
      "text/plain": [
       "True"
      ]
     },
     "execution_count": 14,
     "metadata": {},
     "output_type": "execute_result"
    }
   ],
   "source": [
    "bool(5.6)"
   ]
  },
  {
   "cell_type": "code",
   "execution_count": 15,
   "id": "aa5b44c5-1770-40e6-8df2-941a21cc53b3",
   "metadata": {},
   "outputs": [
    {
     "data": {
      "text/plain": [
       "True"
      ]
     },
     "execution_count": 15,
     "metadata": {},
     "output_type": "execute_result"
    }
   ],
   "source": [
    "bool('nit')"
   ]
  },
  {
   "cell_type": "code",
   "execution_count": 16,
   "id": "57b0d875-17e5-4f25-90c3-0500874f3f95",
   "metadata": {},
   "outputs": [
    {
     "data": {
      "text/plain": [
       "False"
      ]
     },
     "execution_count": 16,
     "metadata": {},
     "output_type": "execute_result"
    }
   ],
   "source": [
    "bool( )"
   ]
  },
  {
   "cell_type": "code",
   "execution_count": 17,
   "id": "bc6720c7-88ed-46f7-a670-f65b57afbc53",
   "metadata": {},
   "outputs": [
    {
     "data": {
      "text/plain": [
       "True"
      ]
     },
     "execution_count": 17,
     "metadata": {},
     "output_type": "execute_result"
    }
   ],
   "source": [
    "bool(1+2j)"
   ]
  },
  {
   "cell_type": "code",
   "execution_count": 18,
   "id": "47450ce7-a5f5-4b01-9f62-3850880bd451",
   "metadata": {},
   "outputs": [
    {
     "data": {
      "text/plain": [
       "False"
      ]
     },
     "execution_count": 18,
     "metadata": {},
     "output_type": "execute_result"
    }
   ],
   "source": [
    "bool(0)"
   ]
  },
  {
   "cell_type": "markdown",
   "id": "9337010c-9f69-4795-934f-db596355eb6a",
   "metadata": {},
   "source": [
    "# TYPE CAST FROM OTHER DATATYPE TO STRING"
   ]
  },
  {
   "cell_type": "code",
   "execution_count": 19,
   "id": "9430d545-bd9c-43ac-879f-f18e7cff1b3c",
   "metadata": {},
   "outputs": [
    {
     "data": {
      "text/plain": [
       "'10'"
      ]
     },
     "execution_count": 19,
     "metadata": {},
     "output_type": "execute_result"
    }
   ],
   "source": [
    "str(10)"
   ]
  },
  {
   "cell_type": "code",
   "execution_count": 20,
   "id": "532b0fd3-76ca-480f-a708-0fc5a32a1d13",
   "metadata": {},
   "outputs": [
    {
     "data": {
      "text/plain": [
       "'10.1'"
      ]
     },
     "execution_count": 20,
     "metadata": {},
     "output_type": "execute_result"
    }
   ],
   "source": [
    "str(10.10)"
   ]
  },
  {
   "cell_type": "code",
   "execution_count": 21,
   "id": "99238908-6d6f-41ce-a85e-67b8940486f7",
   "metadata": {},
   "outputs": [
    {
     "data": {
      "text/plain": [
       "'10.101'"
      ]
     },
     "execution_count": 21,
     "metadata": {},
     "output_type": "execute_result"
    }
   ],
   "source": [
    "str(10.101)"
   ]
  },
  {
   "cell_type": "code",
   "execution_count": 22,
   "id": "b69ba8be-8157-4dfd-b66f-5b9f9693a2b7",
   "metadata": {},
   "outputs": [
    {
     "data": {
      "text/plain": [
       "'True'"
      ]
     },
     "execution_count": 22,
     "metadata": {},
     "output_type": "execute_result"
    }
   ],
   "source": [
    "str(True)"
   ]
  },
  {
   "cell_type": "code",
   "execution_count": 23,
   "id": "d085f8a3-55b7-4ad9-a7ec-25c2c2e6ddff",
   "metadata": {},
   "outputs": [
    {
     "data": {
      "text/plain": [
       "1"
      ]
     },
     "execution_count": 23,
     "metadata": {},
     "output_type": "execute_result"
    }
   ],
   "source": [
    "int(True)"
   ]
  },
  {
   "cell_type": "code",
   "execution_count": 24,
   "id": "247f5845-13f4-4762-a289-d6e448f8c4e3",
   "metadata": {},
   "outputs": [
    {
     "data": {
      "text/plain": [
       "'False'"
      ]
     },
     "execution_count": 24,
     "metadata": {},
     "output_type": "execute_result"
    }
   ],
   "source": [
    "str('False')"
   ]
  },
  {
   "cell_type": "code",
   "execution_count": 25,
   "id": "4769a516-8876-440d-bb00-552ef369f144",
   "metadata": {},
   "outputs": [
    {
     "data": {
      "text/plain": [
       "0"
      ]
     },
     "execution_count": 25,
     "metadata": {},
     "output_type": "execute_result"
    }
   ],
   "source": [
    "int(False)"
   ]
  },
  {
   "cell_type": "code",
   "execution_count": 26,
   "id": "a9276c7c-7f4b-4a43-bb8c-9d88d8e57896",
   "metadata": {},
   "outputs": [
    {
     "data": {
      "text/plain": [
       "'(1+2j)'"
      ]
     },
     "execution_count": 26,
     "metadata": {},
     "output_type": "execute_result"
    }
   ],
   "source": [
    "str(1+2j)"
   ]
  },
  {
   "cell_type": "markdown",
   "id": "5b51fbef-b837-48d3-bbb2-17e431d0be5c",
   "metadata": {},
   "source": [
    "# TYPE CAST FROM OTHER DATATYPE TO COMPLEX"
   ]
  },
  {
   "cell_type": "code",
   "execution_count": 27,
   "id": "256e575f-71aa-40f2-94fb-abb424e19bdb",
   "metadata": {},
   "outputs": [
    {
     "data": {
      "text/plain": [
       "(10+0j)"
      ]
     },
     "execution_count": 27,
     "metadata": {},
     "output_type": "execute_result"
    }
   ],
   "source": [
    "complex(10)"
   ]
  },
  {
   "cell_type": "code",
   "execution_count": 28,
   "id": "fb26526f-daea-49c9-910f-f789c3d757c3",
   "metadata": {},
   "outputs": [
    {
     "data": {
      "text/plain": [
       "(10+20j)"
      ]
     },
     "execution_count": 28,
     "metadata": {},
     "output_type": "execute_result"
    }
   ],
   "source": [
    "complex(10,20)"
   ]
  },
  {
   "cell_type": "code",
   "execution_count": 29,
   "id": "1df81704-9a3f-4a52-9e1e-c5f59e77cdec",
   "metadata": {},
   "outputs": [
    {
     "ename": "TypeError",
     "evalue": "complex() takes at most 2 arguments (3 given)",
     "output_type": "error",
     "traceback": [
      "\u001b[1;31m---------------------------------------------------------------------------\u001b[0m",
      "\u001b[1;31mTypeError\u001b[0m                                 Traceback (most recent call last)",
      "Cell \u001b[1;32mIn[29], line 1\u001b[0m\n\u001b[1;32m----> 1\u001b[0m \u001b[38;5;28mcomplex\u001b[39m(\u001b[38;5;241m10\u001b[39m,\u001b[38;5;241m20\u001b[39m,\u001b[38;5;241m30\u001b[39m)\n",
      "\u001b[1;31mTypeError\u001b[0m: complex() takes at most 2 arguments (3 given)"
     ]
    }
   ],
   "source": [
    "complex(10,20,30)"
   ]
  },
  {
   "cell_type": "code",
   "execution_count": 30,
   "id": "594cef1f-c7b6-42d9-8b40-3feedd01fc50",
   "metadata": {},
   "outputs": [
    {
     "data": {
      "text/plain": [
       "(1.2+3.4j)"
      ]
     },
     "execution_count": 30,
     "metadata": {},
     "output_type": "execute_result"
    }
   ],
   "source": [
    "complex(1.2, 3.4)"
   ]
  },
  {
   "cell_type": "code",
   "execution_count": 31,
   "id": "2949b880-306d-4928-87a7-71647b02ee1a",
   "metadata": {},
   "outputs": [
    {
     "data": {
      "text/plain": [
       "(1+5.6j)"
      ]
     },
     "execution_count": 31,
     "metadata": {},
     "output_type": "execute_result"
    }
   ],
   "source": [
    "complex(1, 5.6)"
   ]
  },
  {
   "cell_type": "code",
   "execution_count": 32,
   "id": "e114131f-d71e-4b6e-9a0b-595eff1feedd",
   "metadata": {},
   "outputs": [
    {
     "data": {
      "text/plain": [
       "(1+0j)"
      ]
     },
     "execution_count": 32,
     "metadata": {},
     "output_type": "execute_result"
    }
   ],
   "source": [
    "complex(True, False )"
   ]
  },
  {
   "cell_type": "code",
   "execution_count": 33,
   "id": "f8642a48-60ea-4f7d-949d-9a6e1265094b",
   "metadata": {},
   "outputs": [
    {
     "data": {
      "text/plain": [
       "0j"
      ]
     },
     "execution_count": 33,
     "metadata": {},
     "output_type": "execute_result"
    }
   ],
   "source": [
    "complex(False,False)"
   ]
  },
  {
   "cell_type": "code",
   "execution_count": 37,
   "id": "5cd71445-66d5-401f-afb3-9c972b5274ef",
   "metadata": {},
   "outputs": [
    {
     "ename": "TypeError",
     "evalue": "complex() can't take second arg if first is a string",
     "output_type": "error",
     "traceback": [
      "\u001b[1;31m---------------------------------------------------------------------------\u001b[0m",
      "\u001b[1;31mTypeError\u001b[0m                                 Traceback (most recent call last)",
      "Cell \u001b[1;32mIn[37], line 1\u001b[0m\n\u001b[1;32m----> 1\u001b[0m \u001b[38;5;28mcomplex\u001b[39m(\u001b[38;5;124m'\u001b[39m\u001b[38;5;124ma\u001b[39m\u001b[38;5;124m'\u001b[39m, \u001b[38;5;124m'\u001b[39m\u001b[38;5;124mb\u001b[39m\u001b[38;5;124m'\u001b[39m)\n",
      "\u001b[1;31mTypeError\u001b[0m: complex() can't take second arg if first is a string"
     ]
    }
   ],
   "source": [
    "complex('a', 'b')"
   ]
  },
  {
   "cell_type": "code",
   "execution_count": 38,
   "id": "f38a6fbf-fa81-41c6-ab5e-e98086d9fbbe",
   "metadata": {},
   "outputs": [
    {
     "data": {
      "text/plain": [
       "(10+0j)"
      ]
     },
     "execution_count": 38,
     "metadata": {},
     "output_type": "execute_result"
    }
   ],
   "source": [
    "complex('10')"
   ]
  },
  {
   "cell_type": "code",
   "execution_count": 39,
   "id": "7d8a7a8a-ff22-4284-8d99-b0e68749337e",
   "metadata": {},
   "outputs": [
    {
     "ename": "TypeError",
     "evalue": "complex() can't take second arg if first is a string",
     "output_type": "error",
     "traceback": [
      "\u001b[1;31m---------------------------------------------------------------------------\u001b[0m",
      "\u001b[1;31mTypeError\u001b[0m                                 Traceback (most recent call last)",
      "Cell \u001b[1;32mIn[39], line 1\u001b[0m\n\u001b[1;32m----> 1\u001b[0m \u001b[38;5;28mcomplex\u001b[39m(\u001b[38;5;124m'\u001b[39m\u001b[38;5;124m10\u001b[39m\u001b[38;5;124m'\u001b[39m, \u001b[38;5;124m'\u001b[39m\u001b[38;5;124m20\u001b[39m\u001b[38;5;124m'\u001b[39m)\n",
      "\u001b[1;31mTypeError\u001b[0m: complex() can't take second arg if first is a string"
     ]
    }
   ],
   "source": [
    "complex('10', '20')"
   ]
  },
  {
   "cell_type": "markdown",
   "id": "2e9f9828-56d8-41bd-9961-b2a7372b1f6e",
   "metadata": {},
   "source": [
    "# TYPE CASTING WE ARE COMPLETED"
   ]
  },
  {
   "cell_type": "code",
   "execution_count": 40,
   "id": "da97ef7f-3c02-42a9-9012-a51618ff8ea5",
   "metadata": {},
   "outputs": [],
   "source": [
    "x1, y1 = 10, 5"
   ]
  },
  {
   "cell_type": "code",
   "execution_count": 41,
   "id": "936b2d81-4b4f-4cf1-ac7e-381ca4ed6a00",
   "metadata": {},
   "outputs": [
    {
     "data": {
      "text/plain": [
       "10"
      ]
     },
     "execution_count": 41,
     "metadata": {},
     "output_type": "execute_result"
    }
   ],
   "source": [
    "x1"
   ]
  },
  {
   "cell_type": "code",
   "execution_count": 42,
   "id": "8358d8a9-a8b2-46b9-baa1-7ab3a448b9e2",
   "metadata": {},
   "outputs": [
    {
     "data": {
      "text/plain": [
       "5"
      ]
     },
     "execution_count": 42,
     "metadata": {},
     "output_type": "execute_result"
    }
   ],
   "source": [
    "y1"
   ]
  },
  {
   "cell_type": "markdown",
   "id": "695ac9db-93df-4585-9188-0a50b71ef440",
   "metadata": {},
   "source": [
    "=====\r\n",
    "PYTHON OPERATORS \r\n",
    "---\r\n",
    "ARITHMETIC OPERATOR (+, -, *, /, //,  %, ** )\r\n",
    "ASSIGNMENT OPERATOR (=, +=, -=, *=, /=, //=)\r\n",
    "RELATIONAL OPERATOR ( using this operator for comparing)\r\n",
    "\t> < >= <= == !=\r\n",
    "LOGICAL OPERATOR  and, or, not \r\n",
    "UNARY OPERATOR -"
   ]
  },
  {
   "cell_type": "markdown",
   "id": "3c7fb0de-7c14-4bcf-991d-45c8e029ad9b",
   "metadata": {},
   "source": [
    "# 7th -- basic python"
   ]
  },
  {
   "cell_type": "code",
   "execution_count": 4,
   "id": "710057f2-962f-437a-92bd-99f46eed8771",
   "metadata": {},
   "outputs": [
    {
     "data": {
      "text/plain": [
       "'hellopython'"
      ]
     },
     "execution_count": 4,
     "metadata": {},
     "output_type": "execute_result"
    }
   ],
   "source": [
    "st = 'hellopython'\n",
    "st"
   ]
  },
  {
   "cell_type": "code",
   "execution_count": 5,
   "id": "8ce86f04-6dfd-4bce-91f5-315e94b9aa0d",
   "metadata": {},
   "outputs": [
    {
     "data": {
      "text/plain": [
       "'h'"
      ]
     },
     "execution_count": 5,
     "metadata": {},
     "output_type": "execute_result"
    }
   ],
   "source": [
    "st[0]"
   ]
  },
  {
   "cell_type": "code",
   "execution_count": 6,
   "id": "3673b4f8-fba9-4802-890d-0a77e7aaf6a8",
   "metadata": {},
   "outputs": [
    {
     "data": {
      "text/plain": [
       "'n'"
      ]
     },
     "execution_count": 6,
     "metadata": {},
     "output_type": "execute_result"
    }
   ],
   "source": [
    "st[-1]"
   ]
  },
  {
   "cell_type": "code",
   "execution_count": 8,
   "id": "837b5d50-5f5f-463d-9de1-3a70a47a9302",
   "metadata": {},
   "outputs": [
    {
     "ename": "IndexError",
     "evalue": "string index out of range",
     "output_type": "error",
     "traceback": [
      "\u001b[1;31m---------------------------------------------------------------------------\u001b[0m",
      "\u001b[1;31mIndexError\u001b[0m                                Traceback (most recent call last)",
      "Cell \u001b[1;32mIn[8], line 1\u001b[0m\n\u001b[1;32m----> 1\u001b[0m st[\u001b[38;5;241m20\u001b[39m]\n",
      "\u001b[1;31mIndexError\u001b[0m: string index out of range"
     ]
    }
   ],
   "source": [
    "st[20]"
   ]
  },
  {
   "cell_type": "code",
   "execution_count": 10,
   "id": "9a0b5a0f-cd07-40d0-965e-1459951dd5c5",
   "metadata": {},
   "outputs": [
    {
     "data": {
      "text/plain": [
       "'n'"
      ]
     },
     "execution_count": 10,
     "metadata": {},
     "output_type": "execute_result"
    }
   ],
   "source": [
    "st[10]"
   ]
  },
  {
   "cell_type": "code",
   "execution_count": 7,
   "id": "c7cf888f-d428-47e3-823e-ecd1c23c7012",
   "metadata": {},
   "outputs": [
    {
     "data": {
      "text/plain": [
       "'hellopython'"
      ]
     },
     "execution_count": 7,
     "metadata": {},
     "output_type": "execute_result"
    }
   ],
   "source": [
    "st"
   ]
  },
  {
   "cell_type": "code",
   "execution_count": 11,
   "id": "a42408f1-f573-4b8b-9be8-c4062b2cd6f0",
   "metadata": {},
   "outputs": [
    {
     "data": {
      "text/plain": [
       "'y'"
      ]
     },
     "execution_count": 11,
     "metadata": {},
     "output_type": "execute_result"
    }
   ],
   "source": [
    "st[6]"
   ]
  },
  {
   "cell_type": "markdown",
   "id": "1b1479ad-dc35-4537-8f84-79a73ee15a04",
   "metadata": {},
   "source": [
    "# slicing "
   ]
  },
  {
   "cell_type": "code",
   "execution_count": 13,
   "id": "32e8b9c7-d0a5-4da8-a0d0-f6e0e7ccbbb9",
   "metadata": {},
   "outputs": [
    {
     "data": {
      "text/plain": [
       "'hellopython'"
      ]
     },
     "execution_count": 13,
     "metadata": {},
     "output_type": "execute_result"
    }
   ],
   "source": [
    "st"
   ]
  },
  {
   "cell_type": "code",
   "execution_count": 16,
   "id": "dac22015-eb32-46a7-8f47-bf25a30327b6",
   "metadata": {},
   "outputs": [
    {
     "data": {
      "text/plain": [
       "'hellopython'"
      ]
     },
     "execution_count": 16,
     "metadata": {},
     "output_type": "execute_result"
    }
   ],
   "source": [
    "st[:]"
   ]
  },
  {
   "cell_type": "code",
   "execution_count": 17,
   "id": "0064bfd9-b882-4d28-8dd4-a403ae6fe3c2",
   "metadata": {},
   "outputs": [
    {
     "data": {
      "text/plain": [
       "'pytho'"
      ]
     },
     "execution_count": 17,
     "metadata": {},
     "output_type": "execute_result"
    }
   ],
   "source": [
    "st[5:10]"
   ]
  },
  {
   "cell_type": "code",
   "execution_count": 18,
   "id": "1107fb54-5743-4913-9e48-ef53c3ace036",
   "metadata": {},
   "outputs": [
    {
     "data": {
      "text/plain": [
       "'python'"
      ]
     },
     "execution_count": 18,
     "metadata": {},
     "output_type": "execute_result"
    }
   ],
   "source": [
    "st[5:11]"
   ]
  },
  {
   "cell_type": "code",
   "execution_count": 19,
   "id": "4d69f4b0-a7c4-4f96-b4cd-93c7497c7afb",
   "metadata": {},
   "outputs": [
    {
     "data": {
      "text/plain": [
       "'hellopython'"
      ]
     },
     "execution_count": 19,
     "metadata": {},
     "output_type": "execute_result"
    }
   ],
   "source": [
    "st"
   ]
  },
  {
   "cell_type": "code",
   "execution_count": 20,
   "id": "eab14fcb-817c-4e06-bcad-47c8f3712cef",
   "metadata": {},
   "outputs": [
    {
     "data": {
      "text/plain": [
       "'hello'"
      ]
     },
     "execution_count": 20,
     "metadata": {},
     "output_type": "execute_result"
    }
   ],
   "source": [
    "st[0:5]"
   ]
  },
  {
   "cell_type": "code",
   "execution_count": 21,
   "id": "2837055d-9fc4-4033-8053-ae844545e2f6",
   "metadata": {},
   "outputs": [
    {
     "data": {
      "text/plain": [
       "'fine'"
      ]
     },
     "execution_count": 21,
     "metadata": {},
     "output_type": "execute_result"
    }
   ],
   "source": [
    "st1 = 'fine'\n",
    "st1"
   ]
  },
  {
   "cell_type": "code",
   "execution_count": 24,
   "id": "9e3149ba-f424-46af-b755-d060c91d2160",
   "metadata": {},
   "outputs": [
    {
     "data": {
      "text/plain": [
       "'dine'"
      ]
     },
     "execution_count": 24,
     "metadata": {},
     "output_type": "execute_result"
    }
   ],
   "source": [
    "'d' + st1[1:]"
   ]
  },
  {
   "cell_type": "code",
   "execution_count": 27,
   "id": "9e174367-6e0b-41cd-8648-77eb3d5f099b",
   "metadata": {},
   "outputs": [
    {
     "data": {
      "text/plain": [
       "'alexblurcat'"
      ]
     },
     "execution_count": 27,
     "metadata": {},
     "output_type": "execute_result"
    }
   ],
   "source": [
    "'alex' + 'blur' + 'cat'"
   ]
  },
  {
   "cell_type": "code",
   "execution_count": 28,
   "id": "fb8f8bc7-1b89-4dfb-a3bd-6400f5c1a078",
   "metadata": {},
   "outputs": [
    {
     "data": {
      "text/plain": [
       "'nareshit'"
      ]
     },
     "execution_count": 28,
     "metadata": {},
     "output_type": "execute_result"
    }
   ],
   "source": [
    "st2 = 'nareshit'\n",
    "st2"
   ]
  },
  {
   "cell_type": "code",
   "execution_count": 30,
   "id": "e22dfd4c-0b7f-4dbb-82bc-8c0d098f7a85",
   "metadata": {},
   "outputs": [
    {
     "data": {
      "text/plain": [
       "'nareshit'"
      ]
     },
     "execution_count": 30,
     "metadata": {},
     "output_type": "execute_result"
    }
   ],
   "source": [
    "st2[:]"
   ]
  },
  {
   "cell_type": "code",
   "execution_count": 31,
   "id": "3d73eda3-65d7-4010-b8d5-3f032b96fb3c",
   "metadata": {},
   "outputs": [
    {
     "data": {
      "text/plain": [
       "'ares'"
      ]
     },
     "execution_count": 31,
     "metadata": {},
     "output_type": "execute_result"
    }
   ],
   "source": [
    "st2[1:5]"
   ]
  },
  {
   "cell_type": "code",
   "execution_count": 32,
   "id": "16c3ef91-f466-4ac8-ac14-d2f1bec1451b",
   "metadata": {},
   "outputs": [
    {
     "data": {
      "text/plain": [
       "'nareshit'"
      ]
     },
     "execution_count": 32,
     "metadata": {},
     "output_type": "execute_result"
    }
   ],
   "source": [
    "st2"
   ]
  },
  {
   "cell_type": "code",
   "execution_count": 34,
   "id": "078919eb-0e7d-46a3-806c-3aafc6152bc9",
   "metadata": {},
   "outputs": [
    {
     "name": "stdout",
     "output_type": "stream",
     "text": [
      "nareshit\n"
     ]
    }
   ],
   "source": [
    "print(st2[:])"
   ]
  },
  {
   "cell_type": "code",
   "execution_count": 35,
   "id": "9b49e721-3d6d-4167-a740-9b8587923d3c",
   "metadata": {},
   "outputs": [
    {
     "name": "stdout",
     "output_type": "stream",
     "text": [
      "res\n"
     ]
    }
   ],
   "source": [
    "print(st2[2:5])"
   ]
  },
  {
   "cell_type": "code",
   "execution_count": 36,
   "id": "20e3cdc5-adbf-4f50-9be1-717d5478f268",
   "metadata": {},
   "outputs": [
    {
     "name": "stdout",
     "output_type": "stream",
     "text": [
      "nares\n"
     ]
    }
   ],
   "source": [
    "print(st2[:5])"
   ]
  },
  {
   "cell_type": "code",
   "execution_count": 37,
   "id": "1757d533-ae03-4770-ad94-b793296dc9e7",
   "metadata": {},
   "outputs": [
    {
     "data": {
      "text/plain": [
       "'nareshit'"
      ]
     },
     "execution_count": 37,
     "metadata": {},
     "output_type": "execute_result"
    }
   ],
   "source": [
    "st2"
   ]
  },
  {
   "cell_type": "code",
   "execution_count": 38,
   "id": "d619768c-0568-4df4-a8cd-72d55adc21e3",
   "metadata": {},
   "outputs": [
    {
     "name": "stdout",
     "output_type": "stream",
     "text": [
      "hit\n"
     ]
    }
   ],
   "source": [
    "print(st2[5:])"
   ]
  },
  {
   "cell_type": "code",
   "execution_count": 39,
   "id": "3e5347cb-1e8a-4833-96c8-a87508e2a2e4",
   "metadata": {},
   "outputs": [
    {
     "data": {
      "text/plain": [
       "'nareshit'"
      ]
     },
     "execution_count": 39,
     "metadata": {},
     "output_type": "execute_result"
    }
   ],
   "source": [
    "st2"
   ]
  },
  {
   "cell_type": "code",
   "execution_count": 40,
   "id": "e8821fdc-087d-4b1d-94da-4cb4ac944020",
   "metadata": {},
   "outputs": [
    {
     "data": {
      "text/plain": [
       "'eshi'"
      ]
     },
     "execution_count": 40,
     "metadata": {},
     "output_type": "execute_result"
    }
   ],
   "source": [
    "st2[-5:-1]"
   ]
  },
  {
   "cell_type": "code",
   "execution_count": 41,
   "id": "120be419-49c7-4262-b996-bd4f93a68493",
   "metadata": {},
   "outputs": [
    {
     "data": {
      "text/plain": [
       "'nareshit'"
      ]
     },
     "execution_count": 41,
     "metadata": {},
     "output_type": "execute_result"
    }
   ],
   "source": [
    "st2"
   ]
  },
  {
   "cell_type": "code",
   "execution_count": 42,
   "id": "4075a951-9bb5-4adc-a0ef-b6bf47c2d359",
   "metadata": {},
   "outputs": [
    {
     "data": {
      "text/plain": [
       "'tihseran'"
      ]
     },
     "execution_count": 42,
     "metadata": {},
     "output_type": "execute_result"
    }
   ],
   "source": [
    "st2[::-1]"
   ]
  },
  {
   "cell_type": "code",
   "execution_count": 43,
   "id": "ce4ccdd5-931e-4fcd-9f3d-dcdd9850fcab",
   "metadata": {},
   "outputs": [
    {
     "data": {
      "text/plain": [
       "'nareshit'"
      ]
     },
     "execution_count": 43,
     "metadata": {},
     "output_type": "execute_result"
    }
   ],
   "source": [
    "st2"
   ]
  },
  {
   "cell_type": "code",
   "execution_count": 44,
   "id": "a82ff1e8-6f7e-4719-9110-8d6f66f28ff0",
   "metadata": {},
   "outputs": [
    {
     "data": {
      "text/plain": [
       "'nrsi'"
      ]
     },
     "execution_count": 44,
     "metadata": {},
     "output_type": "execute_result"
    }
   ],
   "source": [
    "st2[0:8:2]"
   ]
  },
  {
   "cell_type": "code",
   "execution_count": 45,
   "id": "61dce95c-23c5-42d5-a56e-f49f179a4029",
   "metadata": {},
   "outputs": [
    {
     "data": {
      "text/plain": [
       "'hellopython'"
      ]
     },
     "execution_count": 45,
     "metadata": {},
     "output_type": "execute_result"
    }
   ],
   "source": [
    "st"
   ]
  },
  {
   "cell_type": "code",
   "execution_count": 46,
   "id": "9afab4b6-03ce-4cae-89c5-f77edffdaa1b",
   "metadata": {},
   "outputs": [
    {
     "data": {
      "text/plain": [
       "'hellopython'"
      ]
     },
     "execution_count": 46,
     "metadata": {},
     "output_type": "execute_result"
    }
   ],
   "source": [
    "st[:]"
   ]
  },
  {
   "cell_type": "code",
   "execution_count": 48,
   "id": "68cefaab-bbe2-4557-b163-5800c6db1db2",
   "metadata": {},
   "outputs": [
    {
     "data": {
      "text/plain": [
       "'hellopyth'"
      ]
     },
     "execution_count": 48,
     "metadata": {},
     "output_type": "execute_result"
    }
   ],
   "source": [
    "st[0:9]"
   ]
  },
  {
   "cell_type": "code",
   "execution_count": 49,
   "id": "b65b61ca-2d9c-48e9-adc1-01c31f737cd1",
   "metadata": {},
   "outputs": [
    {
     "data": {
      "text/plain": [
       "'hloyh'"
      ]
     },
     "execution_count": 49,
     "metadata": {},
     "output_type": "execute_result"
    }
   ],
   "source": [
    "st[0:9:2]"
   ]
  },
  {
   "cell_type": "code",
   "execution_count": 50,
   "id": "5bb90812-819e-4934-bef6-e6fc2eb976ef",
   "metadata": {},
   "outputs": [
    {
     "data": {
      "text/plain": [
       "'hellopython'"
      ]
     },
     "execution_count": 50,
     "metadata": {},
     "output_type": "execute_result"
    }
   ],
   "source": [
    "st"
   ]
  },
  {
   "cell_type": "code",
   "execution_count": 51,
   "id": "8da033db-bae5-498c-bc35-f1cce31958f5",
   "metadata": {},
   "outputs": [
    {
     "data": {
      "text/plain": [
       "'hly'"
      ]
     },
     "execution_count": 51,
     "metadata": {},
     "output_type": "execute_result"
    }
   ],
   "source": [
    "st[0:9:3]"
   ]
  },
  {
   "cell_type": "code",
   "execution_count": 52,
   "id": "9ca979a1-7a06-49f2-a5ee-8d095e51e86e",
   "metadata": {},
   "outputs": [
    {
     "data": {
      "text/plain": [
       "'hellopython'"
      ]
     },
     "execution_count": 52,
     "metadata": {},
     "output_type": "execute_result"
    }
   ],
   "source": [
    "st"
   ]
  },
  {
   "cell_type": "code",
   "execution_count": 53,
   "id": "24477cff-59a6-420d-bb4a-9e9d01bfa35c",
   "metadata": {},
   "outputs": [
    {
     "data": {
      "text/plain": [
       "'nohtypolleh'"
      ]
     },
     "execution_count": 53,
     "metadata": {},
     "output_type": "execute_result"
    }
   ],
   "source": [
    "st[::-1]"
   ]
  },
  {
   "cell_type": "code",
   "execution_count": 54,
   "id": "90c77e15-cd2b-4cce-91ea-21f941fa5d16",
   "metadata": {},
   "outputs": [
    {
     "data": {
      "text/plain": [
       "'hellopython'"
      ]
     },
     "execution_count": 54,
     "metadata": {},
     "output_type": "execute_result"
    }
   ],
   "source": [
    "st"
   ]
  },
  {
   "cell_type": "code",
   "execution_count": 55,
   "id": "c50a5b42-5225-49c6-8afa-de9061d22800",
   "metadata": {},
   "outputs": [
    {
     "data": {
      "text/plain": [
       "'nhyolh'"
      ]
     },
     "execution_count": 55,
     "metadata": {},
     "output_type": "execute_result"
    }
   ],
   "source": [
    "st[::-2]"
   ]
  },
  {
   "cell_type": "code",
   "execution_count": 56,
   "id": "d7890d8c-4686-4e27-9d3d-537becc48a62",
   "metadata": {},
   "outputs": [
    {
     "data": {
      "text/plain": [
       "'hellopython'"
      ]
     },
     "execution_count": 56,
     "metadata": {},
     "output_type": "execute_result"
    }
   ],
   "source": [
    "st"
   ]
  },
  {
   "cell_type": "code",
   "execution_count": 59,
   "id": "7a3dcba2-d242-4d2b-af07-a435105f0d53",
   "metadata": {},
   "outputs": [
    {
     "data": {
      "text/plain": [
       "11"
      ]
     },
     "execution_count": 59,
     "metadata": {},
     "output_type": "execute_result"
    }
   ],
   "source": [
    "len(st)"
   ]
  },
  {
   "cell_type": "code",
   "execution_count": 60,
   "id": "22eaa0bd-0107-43c5-95d7-39c6201509b2",
   "metadata": {},
   "outputs": [
    {
     "name": "stdout",
     "output_type": "stream",
     "text": [
      "h\n",
      "e\n",
      "l\n",
      "l\n",
      "o\n",
      "p\n",
      "y\n",
      "t\n",
      "h\n",
      "o\n",
      "n\n"
     ]
    }
   ],
   "source": [
    "for i in st:\n",
    "    print(i)"
   ]
  },
  {
   "cell_type": "markdown",
   "id": "d977297c-4bde-43df-81cd-b99b588619e0",
   "metadata": {},
   "source": [
    "# python data structure"
   ]
  },
  {
   "cell_type": "code",
   "execution_count": 62,
   "id": "7cb74c87-a18b-4624-b68d-386b383dff77",
   "metadata": {},
   "outputs": [
    {
     "data": {
      "text/plain": [
       "[]"
      ]
     },
     "execution_count": 62,
     "metadata": {},
     "output_type": "execute_result"
    }
   ],
   "source": [
    "l = []\n",
    "l"
   ]
  },
  {
   "cell_type": "code",
   "execution_count": 63,
   "id": "0d44fb2a-ed48-4912-aac3-fa4c1a8a6d63",
   "metadata": {},
   "outputs": [
    {
     "data": {
      "text/plain": [
       "[]"
      ]
     },
     "execution_count": 63,
     "metadata": {},
     "output_type": "execute_result"
    }
   ],
   "source": [
    "l1 = list()\n",
    "l1"
   ]
  },
  {
   "cell_type": "code",
   "execution_count": 64,
   "id": "cb084b06-c1ef-4608-914f-e09d3751b13a",
   "metadata": {},
   "outputs": [
    {
     "data": {
      "text/plain": [
       "0"
      ]
     },
     "execution_count": 64,
     "metadata": {},
     "output_type": "execute_result"
    }
   ],
   "source": [
    "len(l)"
   ]
  },
  {
   "cell_type": "code",
   "execution_count": 65,
   "id": "9d485343-d9ea-4d9b-bee8-9fdc5d788129",
   "metadata": {},
   "outputs": [
    {
     "data": {
      "text/plain": [
       "0"
      ]
     },
     "execution_count": 65,
     "metadata": {},
     "output_type": "execute_result"
    }
   ],
   "source": [
    "len(l1)"
   ]
  },
  {
   "cell_type": "code",
   "execution_count": 66,
   "id": "4c91afd1-c179-4c3f-9e22-b8aa9e320f0c",
   "metadata": {},
   "outputs": [
    {
     "data": {
      "text/plain": [
       "[]"
      ]
     },
     "execution_count": 66,
     "metadata": {},
     "output_type": "execute_result"
    }
   ],
   "source": [
    "l"
   ]
  },
  {
   "cell_type": "code",
   "execution_count": 67,
   "id": "be5563b1-43ba-423d-8d65-3fed3c963ff6",
   "metadata": {},
   "outputs": [],
   "source": [
    "l.append(10)\n",
    "l.append(20)\n",
    "l.append(30)"
   ]
  },
  {
   "cell_type": "code",
   "execution_count": 68,
   "id": "c7c8aeaa-1d2c-4142-b7d7-33eaa767de39",
   "metadata": {},
   "outputs": [
    {
     "data": {
      "text/plain": [
       "[10, 20, 30]"
      ]
     },
     "execution_count": 68,
     "metadata": {},
     "output_type": "execute_result"
    }
   ],
   "source": [
    "l"
   ]
  },
  {
   "cell_type": "code",
   "execution_count": 69,
   "id": "aa181306-4e03-4922-9391-a57b43363b4e",
   "metadata": {},
   "outputs": [
    {
     "data": {
      "text/plain": [
       "[]"
      ]
     },
     "execution_count": 69,
     "metadata": {},
     "output_type": "execute_result"
    }
   ],
   "source": [
    "l1"
   ]
  },
  {
   "cell_type": "code",
   "execution_count": 70,
   "id": "417b7442-e7b9-42e4-adba-4efb29cacf40",
   "metadata": {},
   "outputs": [],
   "source": [
    "l1.append(10)\n",
    "l1.append(1.2)\n",
    "l1.append('nit')\n",
    "l1.append(True)\n",
    "l1.append(1+2j)\n",
    "l1.append(10)"
   ]
  },
  {
   "cell_type": "code",
   "execution_count": 71,
   "id": "cc8277a3-19e6-4308-b81e-dbe9f3442848",
   "metadata": {},
   "outputs": [
    {
     "data": {
      "text/plain": [
       "[10, 1.2, 'nit', True, (1+2j), 10]"
      ]
     },
     "execution_count": 71,
     "metadata": {},
     "output_type": "execute_result"
    }
   ],
   "source": [
    "l1"
   ]
  },
  {
   "cell_type": "code",
   "execution_count": 72,
   "id": "764d804e-505d-4c26-89da-433c30633387",
   "metadata": {},
   "outputs": [],
   "source": [
    "l1.append(20)"
   ]
  },
  {
   "cell_type": "code",
   "execution_count": 73,
   "id": "ec90eadf-8e4c-45d5-8442-9289e48c3c31",
   "metadata": {},
   "outputs": [
    {
     "data": {
      "text/plain": [
       "[10, 1.2, 'nit', True, (1+2j), 10, 20]"
      ]
     },
     "execution_count": 73,
     "metadata": {},
     "output_type": "execute_result"
    }
   ],
   "source": [
    "l1"
   ]
  },
  {
   "cell_type": "code",
   "execution_count": 74,
   "id": "4c5df73f-6e06-44b6-9fd5-2035823bf0e6",
   "metadata": {},
   "outputs": [
    {
     "name": "stdout",
     "output_type": "stream",
     "text": [
      "3\n",
      "7\n"
     ]
    }
   ],
   "source": [
    "print(len(l))\n",
    "print(len(l1))"
   ]
  },
  {
   "cell_type": "code",
   "execution_count": 75,
   "id": "e7ef6991-3fd4-4d7b-943f-830c7440a6b3",
   "metadata": {},
   "outputs": [
    {
     "name": "stdout",
     "output_type": "stream",
     "text": [
      "1996058966336\n",
      "1996058608064\n"
     ]
    }
   ],
   "source": [
    "print(id(l))\n",
    "print(id(l1))"
   ]
  },
  {
   "cell_type": "code",
   "execution_count": 76,
   "id": "01b09d28-27a6-4eb3-b150-174b1075e493",
   "metadata": {},
   "outputs": [
    {
     "ename": "TypeError",
     "evalue": "list.append() takes exactly one argument (2 given)",
     "output_type": "error",
     "traceback": [
      "\u001b[1;31m---------------------------------------------------------------------------\u001b[0m",
      "\u001b[1;31mTypeError\u001b[0m                                 Traceback (most recent call last)",
      "Cell \u001b[1;32mIn[76], line 1\u001b[0m\n\u001b[1;32m----> 1\u001b[0m l\u001b[38;5;241m.\u001b[39mappend(\u001b[38;5;241m10\u001b[39m, \u001b[38;5;241m20\u001b[39m)\n",
      "\u001b[1;31mTypeError\u001b[0m: list.append() takes exactly one argument (2 given)"
     ]
    }
   ],
   "source": [
    "l.append(10, 20)"
   ]
  },
  {
   "cell_type": "code",
   "execution_count": 77,
   "id": "b1cc25d0-5647-4f31-839e-63af44a9e689",
   "metadata": {},
   "outputs": [
    {
     "data": {
      "text/plain": [
       "[10, 1.2, 'nit', True, (1+2j), 10, 20, [1, 2, 3]]"
      ]
     },
     "execution_count": 77,
     "metadata": {},
     "output_type": "execute_result"
    }
   ],
   "source": [
    "l1.append([1,2,3])\n",
    "l1"
   ]
  },
  {
   "cell_type": "code",
   "execution_count": 83,
   "id": "5cfb013c-a6ca-4ec5-ae7c-8172c8aed8ab",
   "metadata": {},
   "outputs": [
    {
     "name": "stdout",
     "output_type": "stream",
     "text": [
      "<class 'int'>\n"
     ]
    }
   ],
   "source": [
    "a= 5\n",
    "print(type(a))"
   ]
  },
  {
   "cell_type": "code",
   "execution_count": 80,
   "id": "d1cecf2e-faa3-4542-9c56-9b1f031dcda5",
   "metadata": {},
   "outputs": [
    {
     "name": "stdout",
     "output_type": "stream",
     "text": [
      "<class 'list'>\n",
      "<class 'list'>\n"
     ]
    }
   ],
   "source": [
    "print(type(l))\n",
    "print(type(l1))"
   ]
  },
  {
   "cell_type": "code",
   "execution_count": 84,
   "id": "4a1acd4a-2cf3-4b3a-b64d-ec82bdec8d3d",
   "metadata": {},
   "outputs": [
    {
     "data": {
      "text/plain": [
       "[10, 20, 30]"
      ]
     },
     "execution_count": 84,
     "metadata": {},
     "output_type": "execute_result"
    }
   ],
   "source": [
    "l"
   ]
  },
  {
   "cell_type": "code",
   "execution_count": 85,
   "id": "62563a9a-480f-4a65-b260-a3feb3a78399",
   "metadata": {},
   "outputs": [
    {
     "data": {
      "text/plain": [
       "[10, 1.2, 'nit', True, (1+2j), 10, 20, [1, 2, 3]]"
      ]
     },
     "execution_count": 85,
     "metadata": {},
     "output_type": "execute_result"
    }
   ],
   "source": [
    "l1"
   ]
  },
  {
   "cell_type": "code",
   "execution_count": 87,
   "id": "9880becc-296e-4187-b4d0-05119cdfded3",
   "metadata": {},
   "outputs": [],
   "source": [
    "l2 = l1.copy()"
   ]
  },
  {
   "cell_type": "code",
   "execution_count": 88,
   "id": "da6bd2a1-6fa7-4525-be61-688a8724668a",
   "metadata": {},
   "outputs": [
    {
     "data": {
      "text/plain": [
       "[10, 1.2, 'nit', True, (1+2j), 10, 20, [1, 2, 3]]"
      ]
     },
     "execution_count": 88,
     "metadata": {},
     "output_type": "execute_result"
    }
   ],
   "source": [
    "l2"
   ]
  },
  {
   "cell_type": "code",
   "execution_count": 89,
   "id": "ef777eb0-9b2e-4834-9344-a6c2fbb39b0d",
   "metadata": {},
   "outputs": [
    {
     "data": {
      "text/plain": [
       "True"
      ]
     },
     "execution_count": 89,
     "metadata": {},
     "output_type": "execute_result"
    }
   ],
   "source": [
    "l1 == l2"
   ]
  },
  {
   "cell_type": "code",
   "execution_count": 90,
   "id": "3c1c1fa0-deb2-4214-ac65-0807747c9cbe",
   "metadata": {},
   "outputs": [
    {
     "data": {
      "text/plain": [
       "False"
      ]
     },
     "execution_count": 90,
     "metadata": {},
     "output_type": "execute_result"
    }
   ],
   "source": [
    "id(l1) == id(l2)"
   ]
  },
  {
   "cell_type": "code",
   "execution_count": 91,
   "id": "dd103e61-5958-4d15-aeb8-323d52dec8bd",
   "metadata": {},
   "outputs": [
    {
     "data": {
      "text/plain": [
       "[10, 1.2, 'nit', True, (1+2j), 10, 20, [1, 2, 3]]"
      ]
     },
     "execution_count": 91,
     "metadata": {},
     "output_type": "execute_result"
    }
   ],
   "source": [
    "l2"
   ]
  },
  {
   "cell_type": "code",
   "execution_count": 92,
   "id": "bf4b4c61-fd79-46f2-8adc-82c787cf7931",
   "metadata": {},
   "outputs": [],
   "source": [
    "l3 = l2.copy()"
   ]
  },
  {
   "cell_type": "code",
   "execution_count": 93,
   "id": "51dc8745-a974-47a2-abba-2f0f5982309a",
   "metadata": {},
   "outputs": [
    {
     "data": {
      "text/plain": [
       "[10, 1.2, 'nit', True, (1+2j), 10, 20, [1, 2, 3]]"
      ]
     },
     "execution_count": 93,
     "metadata": {},
     "output_type": "execute_result"
    }
   ],
   "source": [
    "l3"
   ]
  },
  {
   "cell_type": "code",
   "execution_count": 94,
   "id": "6f29ac5c-58a4-4ba7-8e43-d48a838a25ac",
   "metadata": {},
   "outputs": [],
   "source": [
    "l3.clear()"
   ]
  },
  {
   "cell_type": "code",
   "execution_count": 95,
   "id": "4b2d168a-a7e1-4f89-8893-5f2a7eb56f38",
   "metadata": {},
   "outputs": [
    {
     "data": {
      "text/plain": [
       "[]"
      ]
     },
     "execution_count": 95,
     "metadata": {},
     "output_type": "execute_result"
    }
   ],
   "source": [
    "l3"
   ]
  },
  {
   "cell_type": "code",
   "execution_count": 96,
   "id": "2deae590-59fb-4164-a03a-885a274e9463",
   "metadata": {},
   "outputs": [],
   "source": [
    "del l3"
   ]
  },
  {
   "cell_type": "code",
   "execution_count": 97,
   "id": "9526432b-7283-4e10-933d-dbf0e8110de5",
   "metadata": {},
   "outputs": [
    {
     "ename": "NameError",
     "evalue": "name 'l3' is not defined",
     "output_type": "error",
     "traceback": [
      "\u001b[1;31m---------------------------------------------------------------------------\u001b[0m",
      "\u001b[1;31mNameError\u001b[0m                                 Traceback (most recent call last)",
      "Cell \u001b[1;32mIn[97], line 1\u001b[0m\n\u001b[1;32m----> 1\u001b[0m l3\n",
      "\u001b[1;31mNameError\u001b[0m: name 'l3' is not defined"
     ]
    }
   ],
   "source": [
    "l3"
   ]
  },
  {
   "cell_type": "code",
   "execution_count": 98,
   "id": "19e0b715-b226-48d8-90fe-c91ebdf22e59",
   "metadata": {},
   "outputs": [
    {
     "name": "stdout",
     "output_type": "stream",
     "text": [
      "[10, 20, 30]\n",
      "[10, 1.2, 'nit', True, (1+2j), 10, 20, [1, 2, 3]]\n",
      "[10, 1.2, 'nit', True, (1+2j), 10, 20, [1, 2, 3]]\n"
     ]
    }
   ],
   "source": [
    "print(l)\n",
    "print(l1)\n",
    "print(l2)"
   ]
  },
  {
   "cell_type": "code",
   "execution_count": 99,
   "id": "78f8b4c6-1d12-4463-affd-0d2cbdff4f52",
   "metadata": {},
   "outputs": [
    {
     "data": {
      "text/plain": [
       "[10, 1.2, 'nit', True, (1+2j), 10, 20, [1, 2, 3]]"
      ]
     },
     "execution_count": 99,
     "metadata": {},
     "output_type": "execute_result"
    }
   ],
   "source": [
    "l1"
   ]
  },
  {
   "cell_type": "code",
   "execution_count": 100,
   "id": "64066fa7-51b4-47c6-9d16-691ade74f2b6",
   "metadata": {},
   "outputs": [
    {
     "data": {
      "text/plain": [
       "[10, 1.2, 'nit', True, (1+2j), 10, 20, [1, 2, 3]]"
      ]
     },
     "execution_count": 100,
     "metadata": {},
     "output_type": "execute_result"
    }
   ],
   "source": [
    "l1[:]"
   ]
  },
  {
   "cell_type": "code",
   "execution_count": 101,
   "id": "3f754187-d681-4e88-b402-35f783a159e5",
   "metadata": {},
   "outputs": [
    {
     "data": {
      "text/plain": [
       "[1.2, 'nit', True, (1+2j), 10, 20]"
      ]
     },
     "execution_count": 101,
     "metadata": {},
     "output_type": "execute_result"
    }
   ],
   "source": [
    "l1[1:7]"
   ]
  },
  {
   "cell_type": "code",
   "execution_count": 102,
   "id": "5f7f00d3-9c7a-476d-a3e9-88bb9fbba8df",
   "metadata": {},
   "outputs": [
    {
     "data": {
      "text/plain": [
       "[10, 1.2, 'nit', True, (1+2j), 10, 20, [1, 2, 3]]"
      ]
     },
     "execution_count": 102,
     "metadata": {},
     "output_type": "execute_result"
    }
   ],
   "source": [
    "l1"
   ]
  },
  {
   "cell_type": "code",
   "execution_count": 103,
   "id": "d0558881-d3b7-4836-b7ac-58a82070a46e",
   "metadata": {},
   "outputs": [
    {
     "data": {
      "text/plain": [
       "[10, 'nit', (1+2j), 20]"
      ]
     },
     "execution_count": 103,
     "metadata": {},
     "output_type": "execute_result"
    }
   ],
   "source": [
    "l1[0:8:2]"
   ]
  },
  {
   "cell_type": "code",
   "execution_count": 104,
   "id": "49790e6e-be7f-47f7-952c-ae62f83ca84c",
   "metadata": {},
   "outputs": [
    {
     "data": {
      "text/plain": [
       "[10, 1.2, 'nit', True, (1+2j), 10, 20, [1, 2, 3]]"
      ]
     },
     "execution_count": 104,
     "metadata": {},
     "output_type": "execute_result"
    }
   ],
   "source": [
    "l1"
   ]
  },
  {
   "cell_type": "code",
   "execution_count": 105,
   "id": "3e04f13c-2da5-4f52-bffd-3c8b2319bd78",
   "metadata": {},
   "outputs": [
    {
     "data": {
      "text/plain": [
       "[[1, 2, 3], 20, 10, (1+2j), True, 'nit', 1.2, 10]"
      ]
     },
     "execution_count": 105,
     "metadata": {},
     "output_type": "execute_result"
    }
   ],
   "source": [
    "l1[::-1]"
   ]
  },
  {
   "cell_type": "code",
   "execution_count": 106,
   "id": "bb232203-5a2a-4e5f-b81e-7a959a315476",
   "metadata": {},
   "outputs": [
    {
     "data": {
      "text/plain": [
       "[10, 1.2, 'nit', True, (1+2j), 10, 20, [1, 2, 3]]"
      ]
     },
     "execution_count": 106,
     "metadata": {},
     "output_type": "execute_result"
    }
   ],
   "source": [
    "l1"
   ]
  },
  {
   "cell_type": "code",
   "execution_count": 107,
   "id": "7ff214af-6e67-4cef-ab95-e36273598af8",
   "metadata": {},
   "outputs": [
    {
     "data": {
      "text/plain": [
       "[[1, 2, 3], (1+2j), 1.2]"
      ]
     },
     "execution_count": 107,
     "metadata": {},
     "output_type": "execute_result"
    }
   ],
   "source": [
    "l1[::-3]"
   ]
  },
  {
   "cell_type": "code",
   "execution_count": 108,
   "id": "ab8615bd-cf7c-4caa-9fdf-4203f3c4b552",
   "metadata": {},
   "outputs": [
    {
     "name": "stdout",
     "output_type": "stream",
     "text": [
      "[10, 20, 30]\n",
      "[10, 1.2, 'nit', True, (1+2j), 10, 20, [1, 2, 3]]\n",
      "[10, 1.2, 'nit', True, (1+2j), 10, 20, [1, 2, 3]]\n"
     ]
    }
   ],
   "source": [
    "print(l)\n",
    "print(l1)\n",
    "print(l2)"
   ]
  },
  {
   "cell_type": "code",
   "execution_count": 109,
   "id": "c97a55ee-09a8-4a5c-aa42-afdabcfcaa99",
   "metadata": {},
   "outputs": [
    {
     "data": {
      "text/plain": [
       "['red', 'green', 'blue']"
      ]
     },
     "execution_count": 109,
     "metadata": {},
     "output_type": "execute_result"
    }
   ],
   "source": [
    "l3 = ['red', 'green', 'blue']\n",
    "l3"
   ]
  },
  {
   "cell_type": "code",
   "execution_count": 110,
   "id": "2e827743-11c6-4f45-af94-46249a70de14",
   "metadata": {},
   "outputs": [
    {
     "data": {
      "text/plain": [
       "['blue', 'green', 'red']"
      ]
     },
     "execution_count": 110,
     "metadata": {},
     "output_type": "execute_result"
    }
   ],
   "source": [
    "l3[::-1]"
   ]
  },
  {
   "cell_type": "code",
   "execution_count": 111,
   "id": "491220f8-3428-4bbc-ae04-940d6b59acbd",
   "metadata": {},
   "outputs": [
    {
     "data": {
      "text/plain": [
       "[10, 20, 30]"
      ]
     },
     "execution_count": 111,
     "metadata": {},
     "output_type": "execute_result"
    }
   ],
   "source": [
    "l"
   ]
  },
  {
   "cell_type": "code",
   "execution_count": 113,
   "id": "55c37131-499e-4374-bbd5-d5f18ddb8444",
   "metadata": {},
   "outputs": [
    {
     "data": {
      "text/plain": [
       "1"
      ]
     },
     "execution_count": 113,
     "metadata": {},
     "output_type": "execute_result"
    }
   ],
   "source": [
    "l.count(10)"
   ]
  },
  {
   "cell_type": "code",
   "execution_count": 114,
   "id": "719ad4a1-e563-4f37-8f55-e30549add65d",
   "metadata": {},
   "outputs": [
    {
     "data": {
      "text/plain": [
       "[10, 1.2, 'nit', True, (1+2j), 10, 20, [1, 2, 3]]"
      ]
     },
     "execution_count": 114,
     "metadata": {},
     "output_type": "execute_result"
    }
   ],
   "source": [
    "l1"
   ]
  },
  {
   "cell_type": "code",
   "execution_count": 115,
   "id": "2351b86f-23e4-4cfb-aae9-515b81c24ba7",
   "metadata": {},
   "outputs": [
    {
     "data": {
      "text/plain": [
       "2"
      ]
     },
     "execution_count": 115,
     "metadata": {},
     "output_type": "execute_result"
    }
   ],
   "source": [
    "l1.count(10)"
   ]
  },
  {
   "cell_type": "code",
   "execution_count": 116,
   "id": "5ca1fadc-93f0-475b-9eef-77a913d729fc",
   "metadata": {},
   "outputs": [
    {
     "data": {
      "text/plain": [
       "[10, 1.2, 'nit', True, (1+2j), 10, 20, [1, 2, 3]]"
      ]
     },
     "execution_count": 116,
     "metadata": {},
     "output_type": "execute_result"
    }
   ],
   "source": [
    "l1"
   ]
  },
  {
   "cell_type": "code",
   "execution_count": 117,
   "id": "f51f5f73-d067-4341-8e41-1991c96fa4c3",
   "metadata": {},
   "outputs": [],
   "source": [
    "l1.remove(1+2j)"
   ]
  },
  {
   "cell_type": "code",
   "execution_count": 118,
   "id": "2faceaa9-2c04-4103-b88e-47c1f2bb73cc",
   "metadata": {},
   "outputs": [
    {
     "data": {
      "text/plain": [
       "[10, 1.2, 'nit', True, 10, 20, [1, 2, 3]]"
      ]
     },
     "execution_count": 118,
     "metadata": {},
     "output_type": "execute_result"
    }
   ],
   "source": [
    "l1"
   ]
  },
  {
   "cell_type": "code",
   "execution_count": 119,
   "id": "723dce71-5013-485c-ab8f-f1db73a274e2",
   "metadata": {},
   "outputs": [
    {
     "data": {
      "text/plain": [
       "[10, 1.2, 'nit', True, 10, 20, [1, 2, 3]]"
      ]
     },
     "execution_count": 119,
     "metadata": {},
     "output_type": "execute_result"
    }
   ],
   "source": [
    "l1"
   ]
  },
  {
   "cell_type": "code",
   "execution_count": 120,
   "id": "785fe769-22ab-4c53-9221-6f492f0080d9",
   "metadata": {},
   "outputs": [],
   "source": [
    "l1.remove(10)"
   ]
  },
  {
   "cell_type": "code",
   "execution_count": 123,
   "id": "8cb0a424-f5f6-4dfd-afe7-7d1e2a13fe9f",
   "metadata": {},
   "outputs": [
    {
     "data": {
      "text/plain": [
       "[1.2, 'nit', True, 10, 20, [1, 2, 3]]"
      ]
     },
     "execution_count": 123,
     "metadata": {},
     "output_type": "execute_result"
    }
   ],
   "source": [
    "l1"
   ]
  },
  {
   "cell_type": "code",
   "execution_count": 124,
   "id": "e8690a37-8e6b-477f-ba1b-1a0f8684a0c5",
   "metadata": {},
   "outputs": [
    {
     "data": {
      "text/plain": [
       "[1.2, 'nit', True, 10, 20]"
      ]
     },
     "execution_count": 124,
     "metadata": {},
     "output_type": "execute_result"
    }
   ],
   "source": [
    "l1[-6:-1]"
   ]
  },
  {
   "cell_type": "code",
   "execution_count": 125,
   "id": "aa5fe500-c5f1-44ae-834b-3365365a541a",
   "metadata": {},
   "outputs": [
    {
     "data": {
      "text/plain": [
       "[1.2, 'nit', True, 10, 20, [1, 2, 3]]"
      ]
     },
     "execution_count": 125,
     "metadata": {},
     "output_type": "execute_result"
    }
   ],
   "source": [
    "l1"
   ]
  },
  {
   "cell_type": "code",
   "execution_count": 128,
   "id": "374adc4a-25b7-4c52-84f8-34945f5224cc",
   "metadata": {},
   "outputs": [
    {
     "data": {
      "text/plain": [
       "5"
      ]
     },
     "execution_count": 128,
     "metadata": {},
     "output_type": "execute_result"
    }
   ],
   "source": [
    "l1.index([1,2,3])"
   ]
  },
  {
   "cell_type": "code",
   "execution_count": 129,
   "id": "c8db6310-bd14-46d2-a7a5-bd37c2294e1e",
   "metadata": {},
   "outputs": [
    {
     "data": {
      "text/plain": [
       "[1.2, 'nit', True, 10, 20, [1, 2, 3]]"
      ]
     },
     "execution_count": 129,
     "metadata": {},
     "output_type": "execute_result"
    }
   ],
   "source": [
    "l1"
   ]
  },
  {
   "cell_type": "code",
   "execution_count": 130,
   "id": "450d3d39-92c2-49d3-b487-4211a693108e",
   "metadata": {},
   "outputs": [
    {
     "data": {
      "text/plain": [
       "'nit'"
      ]
     },
     "execution_count": 130,
     "metadata": {},
     "output_type": "execute_result"
    }
   ],
   "source": [
    "l1[1]"
   ]
  },
  {
   "cell_type": "code",
   "execution_count": 132,
   "id": "837b4764-d8a5-482a-b892-d69b694594c4",
   "metadata": {},
   "outputs": [
    {
     "name": "stdout",
     "output_type": "stream",
     "text": [
      "n\n",
      "i\n",
      "t\n"
     ]
    },
    {
     "ename": "IndexError",
     "evalue": "string index out of range",
     "output_type": "error",
     "traceback": [
      "\u001b[1;31m---------------------------------------------------------------------------\u001b[0m",
      "\u001b[1;31mIndexError\u001b[0m                                Traceback (most recent call last)",
      "Cell \u001b[1;32mIn[132], line 4\u001b[0m\n\u001b[0;32m      2\u001b[0m \u001b[38;5;28mprint\u001b[39m(l1[\u001b[38;5;241m1\u001b[39m][\u001b[38;5;241m1\u001b[39m])\n\u001b[0;32m      3\u001b[0m \u001b[38;5;28mprint\u001b[39m(l1[\u001b[38;5;241m1\u001b[39m][\u001b[38;5;241m2\u001b[39m])\n\u001b[1;32m----> 4\u001b[0m \u001b[38;5;28mprint\u001b[39m(l1[\u001b[38;5;241m1\u001b[39m][\u001b[38;5;241m3\u001b[39m])\n",
      "\u001b[1;31mIndexError\u001b[0m: string index out of range"
     ]
    }
   ],
   "source": [
    "print(l1[1][0])\n",
    "print(l1[1][1])\n",
    "print(l1[1][2])\n",
    "print(l1[1][3])"
   ]
  },
  {
   "cell_type": "code",
   "execution_count": 133,
   "id": "a93e2244-512c-4fdb-a99b-d20fa5ee192e",
   "metadata": {},
   "outputs": [
    {
     "ename": "IndexError",
     "evalue": "string index out of range",
     "output_type": "error",
     "traceback": [
      "\u001b[1;31m---------------------------------------------------------------------------\u001b[0m",
      "\u001b[1;31mIndexError\u001b[0m                                Traceback (most recent call last)",
      "Cell \u001b[1;32mIn[133], line 1\u001b[0m\n\u001b[1;32m----> 1\u001b[0m \u001b[38;5;28mprint\u001b[39m(l1[\u001b[38;5;241m1\u001b[39m][\u001b[38;5;241m3\u001b[39m])\n\u001b[0;32m      2\u001b[0m \u001b[38;5;28mprint\u001b[39m(l1[\u001b[38;5;241m1\u001b[39m][\u001b[38;5;241m0\u001b[39m])\n\u001b[0;32m      3\u001b[0m \u001b[38;5;28mprint\u001b[39m(l1[\u001b[38;5;241m1\u001b[39m][\u001b[38;5;241m1\u001b[39m])\n",
      "\u001b[1;31mIndexError\u001b[0m: string index out of range"
     ]
    }
   ],
   "source": [
    "print(l1[1][3])\n",
    "print(l1[1][0])\n",
    "print(l1[1][1])\n",
    "print(l1[1][2])"
   ]
  },
  {
   "cell_type": "code",
   "execution_count": 135,
   "id": "c0ef9e43-ea93-4b86-8fba-0f4ff7dcf48b",
   "metadata": {},
   "outputs": [
    {
     "name": "stdout",
     "output_type": "stream",
     "text": [
      "[1, 2, 3]\n"
     ]
    }
   ],
   "source": [
    "x = [1, 2, 3]\n",
    "y = x.copy()\n",
    "x.append(4)\n",
    "print(y) "
   ]
  },
  {
   "cell_type": "code",
   "execution_count": 136,
   "id": "feaebeaf-5e26-472d-9859-de57fb9956c2",
   "metadata": {},
   "outputs": [
    {
     "data": {
      "text/plain": [
       "3.14"
      ]
     },
     "execution_count": 136,
     "metadata": {},
     "output_type": "execute_result"
    }
   ],
   "source": [
    "pi = 3.14\n",
    "pi "
   ]
  },
  {
   "cell_type": "code",
   "execution_count": 137,
   "id": "6a0ffcf4-0e0b-4cd0-8651-538d0c072800",
   "metadata": {},
   "outputs": [
    {
     "data": {
      "text/plain": [
       "3.15"
      ]
     },
     "execution_count": 137,
     "metadata": {},
     "output_type": "execute_result"
    }
   ],
   "source": [
    "pi = 3.15\n",
    "pi"
   ]
  },
  {
   "cell_type": "markdown",
   "id": "dc14cfb6-7de2-496a-a86a-11e1bf30bb0f",
   "metadata": {},
   "source": [
    "# LIST "
   ]
  },
  {
   "cell_type": "code",
   "execution_count": 139,
   "id": "e498472c-0e96-4f45-b915-8b70a670dca0",
   "metadata": {},
   "outputs": [
    {
     "data": {
      "text/plain": [
       "[]"
      ]
     },
     "execution_count": 139,
     "metadata": {},
     "output_type": "execute_result"
    }
   ],
   "source": [
    "l5 = []\n",
    "l5"
   ]
  },
  {
   "cell_type": "code",
   "execution_count": 140,
   "id": "855c6cdf-0023-4833-8654-10c2636b989a",
   "metadata": {},
   "outputs": [
    {
     "data": {
      "text/plain": [
       "0"
      ]
     },
     "execution_count": 140,
     "metadata": {},
     "output_type": "execute_result"
    }
   ],
   "source": [
    "len(l5)"
   ]
  },
  {
   "cell_type": "code",
   "execution_count": 141,
   "id": "9ec79881-600f-4dfe-be25-b172f145e534",
   "metadata": {},
   "outputs": [],
   "source": [
    "l5.append(10)\n",
    "l5.append(20)\n",
    "l5.append(30)\n",
    "l5.append('nit')\n",
    "l5.append(True)\n",
    "l5.append(1+2j)"
   ]
  },
  {
   "cell_type": "code",
   "execution_count": 142,
   "id": "92a36981-4adc-4f4f-9942-ae9dfe89401f",
   "metadata": {},
   "outputs": [
    {
     "data": {
      "text/plain": [
       "[10, 20, 30, 'nit', True, (1+2j)]"
      ]
     },
     "execution_count": 142,
     "metadata": {},
     "output_type": "execute_result"
    }
   ],
   "source": [
    "l5"
   ]
  },
  {
   "cell_type": "code",
   "execution_count": 143,
   "id": "33156f51-548d-4d8d-98bf-c6998ac157b3",
   "metadata": {},
   "outputs": [
    {
     "data": {
      "text/plain": [
       "6"
      ]
     },
     "execution_count": 143,
     "metadata": {},
     "output_type": "execute_result"
    }
   ],
   "source": [
    "len(l5)"
   ]
  },
  {
   "cell_type": "code",
   "execution_count": 144,
   "id": "cd3b592f-7a06-4274-b400-e2f35c22cd88",
   "metadata": {},
   "outputs": [
    {
     "name": "stdout",
     "output_type": "stream",
     "text": [
      "10\n",
      "20\n",
      "30\n",
      "nit\n",
      "True\n",
      "(1+2j)\n"
     ]
    }
   ],
   "source": [
    "for i in l5:\n",
    "    print(i)"
   ]
  },
  {
   "cell_type": "code",
   "execution_count": 145,
   "id": "6d7975b4-22ee-486e-abe6-0e7c5675b4c3",
   "metadata": {},
   "outputs": [
    {
     "data": {
      "text/plain": [
       "[10, 20, 30, 'nit', True, (1+2j)]"
      ]
     },
     "execution_count": 145,
     "metadata": {},
     "output_type": "execute_result"
    }
   ],
   "source": [
    "l5"
   ]
  },
  {
   "cell_type": "code",
   "execution_count": 146,
   "id": "0b3d5e6e-de97-4f7d-9eda-cc219a9a639f",
   "metadata": {},
   "outputs": [],
   "source": [
    "l5.remove(True)"
   ]
  },
  {
   "cell_type": "code",
   "execution_count": 147,
   "id": "3d7eb84e-99c8-469c-bb85-1f3067710303",
   "metadata": {},
   "outputs": [
    {
     "data": {
      "text/plain": [
       "[10, 20, 30, 'nit', (1+2j)]"
      ]
     },
     "execution_count": 147,
     "metadata": {},
     "output_type": "execute_result"
    }
   ],
   "source": [
    "l5"
   ]
  },
  {
   "cell_type": "code",
   "execution_count": 148,
   "id": "10ce5186-e8bc-4fb0-b622-5aaf5129ff05",
   "metadata": {},
   "outputs": [],
   "source": [
    "l5.remove(1+2j)"
   ]
  },
  {
   "cell_type": "code",
   "execution_count": 149,
   "id": "66640463-a1a7-4046-9eb5-e0aa2668a48e",
   "metadata": {},
   "outputs": [
    {
     "data": {
      "text/plain": [
       "[10, 20, 30, 'nit']"
      ]
     },
     "execution_count": 149,
     "metadata": {},
     "output_type": "execute_result"
    }
   ],
   "source": [
    "l5"
   ]
  },
  {
   "cell_type": "code",
   "execution_count": 150,
   "id": "4bac5dc5-1674-47b3-b0c0-22bf6453109b",
   "metadata": {},
   "outputs": [],
   "source": [
    "l5.append(10)"
   ]
  },
  {
   "cell_type": "code",
   "execution_count": 151,
   "id": "b478e719-4987-4be3-9bad-f551ade74615",
   "metadata": {},
   "outputs": [
    {
     "data": {
      "text/plain": [
       "[10, 20, 30, 'nit', 10]"
      ]
     },
     "execution_count": 151,
     "metadata": {},
     "output_type": "execute_result"
    }
   ],
   "source": [
    "l5"
   ]
  },
  {
   "cell_type": "code",
   "execution_count": 152,
   "id": "2835de4f-e542-42bf-9add-94dadb52fabb",
   "metadata": {},
   "outputs": [],
   "source": [
    "l5.remove(10)"
   ]
  },
  {
   "cell_type": "code",
   "execution_count": 153,
   "id": "b2c145b1-eaf7-405d-8106-7007c94ec005",
   "metadata": {},
   "outputs": [
    {
     "data": {
      "text/plain": [
       "[20, 30, 'nit', 10]"
      ]
     },
     "execution_count": 153,
     "metadata": {},
     "output_type": "execute_result"
    }
   ],
   "source": [
    "l5"
   ]
  },
  {
   "cell_type": "code",
   "execution_count": 154,
   "id": "2ed04282-45bf-4d25-b4dc-3b8970fcde56",
   "metadata": {},
   "outputs": [
    {
     "data": {
      "text/plain": [
       "[20, 30, 'nit', 10]"
      ]
     },
     "execution_count": 154,
     "metadata": {},
     "output_type": "execute_result"
    }
   ],
   "source": [
    "l5"
   ]
  },
  {
   "cell_type": "code",
   "execution_count": 155,
   "id": "90ac6d1f-bf90-4f7f-909c-31bf7a1355c2",
   "metadata": {},
   "outputs": [],
   "source": [
    "l6 = l5.copy()"
   ]
  },
  {
   "cell_type": "code",
   "execution_count": 156,
   "id": "40caf961-f089-41f5-92e3-0154f77f9b60",
   "metadata": {},
   "outputs": [
    {
     "data": {
      "text/plain": [
       "[20, 30, 'nit', 10]"
      ]
     },
     "execution_count": 156,
     "metadata": {},
     "output_type": "execute_result"
    }
   ],
   "source": [
    "l6"
   ]
  },
  {
   "cell_type": "code",
   "execution_count": 157,
   "id": "52299fe4-e229-480f-b529-daa9dbcd8d05",
   "metadata": {},
   "outputs": [
    {
     "data": {
      "text/plain": [
       "[20, 30, 'nit', 10]"
      ]
     },
     "execution_count": 157,
     "metadata": {},
     "output_type": "execute_result"
    }
   ],
   "source": [
    "l5"
   ]
  },
  {
   "cell_type": "code",
   "execution_count": 158,
   "id": "7f444d42-4ccd-4ca8-9a29-6e9b37cefda5",
   "metadata": {},
   "outputs": [
    {
     "data": {
      "text/plain": [
       "10"
      ]
     },
     "execution_count": 158,
     "metadata": {},
     "output_type": "execute_result"
    }
   ],
   "source": [
    "l5.pop()"
   ]
  },
  {
   "cell_type": "code",
   "execution_count": 159,
   "id": "386b5721-97dc-407e-8258-96214ae0b896",
   "metadata": {},
   "outputs": [
    {
     "data": {
      "text/plain": [
       "[20, 30, 'nit']"
      ]
     },
     "execution_count": 159,
     "metadata": {},
     "output_type": "execute_result"
    }
   ],
   "source": [
    "l5"
   ]
  },
  {
   "cell_type": "code",
   "execution_count": 160,
   "id": "eb2259b4-e4e9-401f-98d3-6e3f6ee20f6d",
   "metadata": {},
   "outputs": [
    {
     "data": {
      "text/plain": [
       "[20, 30, 'nit', 10]"
      ]
     },
     "execution_count": 160,
     "metadata": {},
     "output_type": "execute_result"
    }
   ],
   "source": [
    "l6"
   ]
  },
  {
   "cell_type": "code",
   "execution_count": 161,
   "id": "0f94e0ae-9470-4891-a6f4-ff7e85dbd9da",
   "metadata": {},
   "outputs": [
    {
     "data": {
      "text/plain": [
       "'nit'"
      ]
     },
     "execution_count": 161,
     "metadata": {},
     "output_type": "execute_result"
    }
   ],
   "source": [
    "l6.pop(2)"
   ]
  },
  {
   "cell_type": "code",
   "execution_count": 162,
   "id": "33d30faf-9389-4c48-a8cf-6db52c8bb860",
   "metadata": {},
   "outputs": [
    {
     "data": {
      "text/plain": [
       "[20, 30, 10]"
      ]
     },
     "execution_count": 162,
     "metadata": {},
     "output_type": "execute_result"
    }
   ],
   "source": [
    "l6"
   ]
  },
  {
   "cell_type": "code",
   "execution_count": 163,
   "id": "a5df7c38-26ee-4a4b-8110-d2ad8ab8166b",
   "metadata": {},
   "outputs": [
    {
     "data": {
      "text/plain": [
       "[20, 30, 'nit']"
      ]
     },
     "execution_count": 163,
     "metadata": {},
     "output_type": "execute_result"
    }
   ],
   "source": [
    "l5"
   ]
  },
  {
   "cell_type": "code",
   "execution_count": 164,
   "id": "f90a483b-fc12-421e-a2a7-0f771ed82178",
   "metadata": {},
   "outputs": [
    {
     "data": {
      "text/plain": [
       "[20, 30, 10]"
      ]
     },
     "execution_count": 164,
     "metadata": {},
     "output_type": "execute_result"
    }
   ],
   "source": [
    "l6"
   ]
  },
  {
   "cell_type": "code",
   "execution_count": 165,
   "id": "7b400652-89af-4c69-9b97-3126b418e9eb",
   "metadata": {},
   "outputs": [],
   "source": [
    "l6.append(5.6)\n",
    "l6.append('nit')\n",
    "l6.append(True)\n",
    "l6.append(False)\n",
    "l6.append(1+5j)"
   ]
  },
  {
   "cell_type": "code",
   "execution_count": 167,
   "id": "efcb8cef-55d7-43ad-b8e2-75b5479c9232",
   "metadata": {},
   "outputs": [
    {
     "data": {
      "text/plain": [
       "[20, 30, 10, 5.6, 'nit', True, False, (1+5j)]"
      ]
     },
     "execution_count": 167,
     "metadata": {},
     "output_type": "execute_result"
    }
   ],
   "source": [
    "l6"
   ]
  },
  {
   "cell_type": "code",
   "execution_count": 168,
   "id": "4c4dd413-9432-4719-a200-6c396638575a",
   "metadata": {},
   "outputs": [
    {
     "data": {
      "text/plain": [
       "[20, 30, 10, 5.6, 'nit', True, False, (1+5j)]"
      ]
     },
     "execution_count": 168,
     "metadata": {},
     "output_type": "execute_result"
    }
   ],
   "source": [
    "l6[:]"
   ]
  },
  {
   "cell_type": "code",
   "execution_count": 169,
   "id": "d3803942-6617-46cf-b5f9-f82af1bbc9fb",
   "metadata": {},
   "outputs": [
    {
     "data": {
      "text/plain": [
       "[(1+5j), False, True, 'nit', 5.6, 10, 30, 20]"
      ]
     },
     "execution_count": 169,
     "metadata": {},
     "output_type": "execute_result"
    }
   ],
   "source": [
    "l6[::-1]"
   ]
  },
  {
   "cell_type": "code",
   "execution_count": 170,
   "id": "02f6b5df-8329-448a-b0ff-8f106078a5d2",
   "metadata": {},
   "outputs": [
    {
     "data": {
      "text/plain": [
       "[20, 30, 10, 5.6, 'nit', True, False, (1+5j)]"
      ]
     },
     "execution_count": 170,
     "metadata": {},
     "output_type": "execute_result"
    }
   ],
   "source": [
    "l6"
   ]
  },
  {
   "cell_type": "code",
   "execution_count": 171,
   "id": "f4d31433-63de-4f6c-9b45-46788030cd28",
   "metadata": {},
   "outputs": [
    {
     "data": {
      "text/plain": [
       "20"
      ]
     },
     "execution_count": 171,
     "metadata": {},
     "output_type": "execute_result"
    }
   ],
   "source": [
    "l6[0] "
   ]
  },
  {
   "cell_type": "code",
   "execution_count": 172,
   "id": "b55aedb7-cc10-4420-a9fc-37d079177404",
   "metadata": {},
   "outputs": [
    {
     "data": {
      "text/plain": [
       "[20, 30, 10, 5.6, 'nit', True, False, (1+5j)]"
      ]
     },
     "execution_count": 172,
     "metadata": {},
     "output_type": "execute_result"
    }
   ],
   "source": [
    "l6"
   ]
  },
  {
   "cell_type": "code",
   "execution_count": 173,
   "id": "66262bdf-ed44-494c-b0c4-0b803ccb46fa",
   "metadata": {},
   "outputs": [],
   "source": [
    "l6[0] = 100"
   ]
  },
  {
   "cell_type": "code",
   "execution_count": 174,
   "id": "21a857c4-c2f5-429f-8bdf-b8dbc3172244",
   "metadata": {},
   "outputs": [
    {
     "data": {
      "text/plain": [
       "[100, 30, 10, 5.6, 'nit', True, False, (1+5j)]"
      ]
     },
     "execution_count": 174,
     "metadata": {},
     "output_type": "execute_result"
    }
   ],
   "source": [
    "l6"
   ]
  },
  {
   "cell_type": "code",
   "execution_count": 175,
   "id": "88e96938-a400-459f-b609-80c76a7d1e92",
   "metadata": {},
   "outputs": [],
   "source": [
    "l6[-1] = 200"
   ]
  },
  {
   "cell_type": "code",
   "execution_count": 176,
   "id": "026e08fe-1ba6-4dc9-9c8e-f2a956b19f2f",
   "metadata": {},
   "outputs": [
    {
     "data": {
      "text/plain": [
       "[100, 30, 10, 5.6, 'nit', True, False, 200]"
      ]
     },
     "execution_count": 176,
     "metadata": {},
     "output_type": "execute_result"
    }
   ],
   "source": [
    "l6"
   ]
  },
  {
   "cell_type": "code",
   "execution_count": 178,
   "id": "dca78c8c-6cd2-4ef3-bdab-449fe4beee01",
   "metadata": {},
   "outputs": [
    {
     "data": {
      "text/plain": [
       "[100, 30, 10, 5.6, 'nit', True, False, 200]"
      ]
     },
     "execution_count": 178,
     "metadata": {},
     "output_type": "execute_result"
    }
   ],
   "source": [
    "l6"
   ]
  },
  {
   "cell_type": "code",
   "execution_count": 180,
   "id": "f6476588-f46d-4c15-8841-bd84fa311b56",
   "metadata": {},
   "outputs": [
    {
     "ename": "IndexError",
     "evalue": "list index out of range",
     "output_type": "error",
     "traceback": [
      "\u001b[1;31m---------------------------------------------------------------------------\u001b[0m",
      "\u001b[1;31mIndexError\u001b[0m                                Traceback (most recent call last)",
      "Cell \u001b[1;32mIn[180], line 1\u001b[0m\n\u001b[1;32m----> 1\u001b[0m l6[\u001b[38;5;241m10\u001b[39m]\n",
      "\u001b[1;31mIndexError\u001b[0m: list index out of range"
     ]
    }
   ],
   "source": [
    "l6[10]"
   ]
  },
  {
   "cell_type": "code",
   "execution_count": 179,
   "id": "529799f0-7589-497e-bf29-adcfd56f70ce",
   "metadata": {},
   "outputs": [
    {
     "data": {
      "text/plain": [
       "[100, 10, 'nit', False]"
      ]
     },
     "execution_count": 179,
     "metadata": {},
     "output_type": "execute_result"
    }
   ],
   "source": [
    "l6[0:10:2]"
   ]
  },
  {
   "cell_type": "code",
   "execution_count": 184,
   "id": "b6fbd007-cf65-44d1-af5b-e37f3c739b96",
   "metadata": {},
   "outputs": [
    {
     "data": {
      "text/plain": [
       "[100, 30, 10, 5.6, 'nit', True, False, 200]"
      ]
     },
     "execution_count": 184,
     "metadata": {},
     "output_type": "execute_result"
    }
   ],
   "source": [
    "l6"
   ]
  },
  {
   "cell_type": "code",
   "execution_count": 185,
   "id": "944515b0-4791-41a5-aead-40c33429f2bf",
   "metadata": {},
   "outputs": [
    {
     "data": {
      "text/plain": [
       "1"
      ]
     },
     "execution_count": 185,
     "metadata": {},
     "output_type": "execute_result"
    }
   ],
   "source": [
    "l6.count(10)"
   ]
  },
  {
   "cell_type": "code",
   "execution_count": 186,
   "id": "40712f57-b192-40cc-812e-f5925b9c6e4c",
   "metadata": {},
   "outputs": [
    {
     "data": {
      "text/plain": [
       "0"
      ]
     },
     "execution_count": 186,
     "metadata": {},
     "output_type": "execute_result"
    }
   ],
   "source": [
    "l6.count(5)"
   ]
  },
  {
   "cell_type": "code",
   "execution_count": 187,
   "id": "c850fa35-3d43-49e2-a8aa-3590a08fb52b",
   "metadata": {},
   "outputs": [],
   "source": [
    "l6.append(10)"
   ]
  },
  {
   "cell_type": "code",
   "execution_count": 188,
   "id": "f6c2a2a8-d94c-4624-bcee-73b8a6be5739",
   "metadata": {},
   "outputs": [
    {
     "data": {
      "text/plain": [
       "[100, 30, 10, 5.6, 'nit', True, False, 200, 10]"
      ]
     },
     "execution_count": 188,
     "metadata": {},
     "output_type": "execute_result"
    }
   ],
   "source": [
    "l6"
   ]
  },
  {
   "cell_type": "code",
   "execution_count": 189,
   "id": "f4008bc5-c223-4c6f-bafa-94e27f2c60ea",
   "metadata": {},
   "outputs": [
    {
     "data": {
      "text/plain": [
       "2"
      ]
     },
     "execution_count": 189,
     "metadata": {},
     "output_type": "execute_result"
    }
   ],
   "source": [
    "l6.count(10)"
   ]
  },
  {
   "cell_type": "code",
   "execution_count": 191,
   "id": "ceb842ff-d458-4006-b184-287320d95185",
   "metadata": {},
   "outputs": [
    {
     "data": {
      "text/plain": [
       "[20, 30, 'nit']"
      ]
     },
     "execution_count": 191,
     "metadata": {},
     "output_type": "execute_result"
    }
   ],
   "source": [
    "l5"
   ]
  },
  {
   "cell_type": "code",
   "execution_count": 198,
   "id": "e515edbe-3678-4f61-8df2-68eb2b0ead93",
   "metadata": {},
   "outputs": [
    {
     "data": {
      "text/plain": [
       "[100, 30, 10, 5.6, 'nit', True, False, 200, 10]"
      ]
     },
     "execution_count": 198,
     "metadata": {},
     "output_type": "execute_result"
    }
   ],
   "source": [
    "l6"
   ]
  },
  {
   "cell_type": "code",
   "execution_count": 199,
   "id": "2543607c-0d7c-4928-89c1-3ce0590e248a",
   "metadata": {},
   "outputs": [],
   "source": [
    "l7 = []"
   ]
  },
  {
   "cell_type": "code",
   "execution_count": 200,
   "id": "9999a040-b758-405b-ac04-e180d9571c56",
   "metadata": {},
   "outputs": [],
   "source": [
    "l7 = l7.extend(l6)"
   ]
  },
  {
   "cell_type": "code",
   "execution_count": 201,
   "id": "6307d6dd-3052-4429-9c3b-682db4947426",
   "metadata": {},
   "outputs": [],
   "source": [
    "l7"
   ]
  },
  {
   "cell_type": "code",
   "execution_count": 202,
   "id": "9e716076-6ec8-4a35-82bc-d0ed6078449d",
   "metadata": {},
   "outputs": [],
   "source": [
    "l5.extend(l6)"
   ]
  },
  {
   "cell_type": "code",
   "execution_count": 203,
   "id": "f7f2851a-46bc-4800-9b77-9568a135b47c",
   "metadata": {},
   "outputs": [
    {
     "data": {
      "text/plain": [
       "[20, 30, 'nit', 100, 30, 10, 5.6, 'nit', True, False, 200, 10]"
      ]
     },
     "execution_count": 203,
     "metadata": {},
     "output_type": "execute_result"
    }
   ],
   "source": [
    "l5"
   ]
  },
  {
   "cell_type": "code",
   "execution_count": 204,
   "id": "5bda7e74-3f39-45c7-9468-e7860732e98b",
   "metadata": {},
   "outputs": [],
   "source": [
    " l5.extend(l6)"
   ]
  },
  {
   "cell_type": "code",
   "execution_count": 205,
   "id": "0754c92a-c71e-4180-be1e-e4a4fed8084c",
   "metadata": {},
   "outputs": [],
   "source": [
    "l7"
   ]
  },
  {
   "cell_type": "code",
   "execution_count": 206,
   "id": "0cbdc847-072f-49ce-b135-2f1bd81d49d6",
   "metadata": {},
   "outputs": [],
   "source": [
    "l8 = [1,2,3]"
   ]
  },
  {
   "cell_type": "code",
   "execution_count": 207,
   "id": "574cc638-ac05-4214-9391-1127d62fea8d",
   "metadata": {},
   "outputs": [],
   "source": [
    "l9 = [4,5,6]"
   ]
  },
  {
   "cell_type": "code",
   "execution_count": 208,
   "id": "3812e47d-0704-45f1-aaab-6602da9d35dc",
   "metadata": {},
   "outputs": [],
   "source": [
    "l8.extend(l9)"
   ]
  },
  {
   "cell_type": "code",
   "execution_count": 209,
   "id": "f2d9f22e-2b70-4990-b246-87910b8a2306",
   "metadata": {},
   "outputs": [
    {
     "data": {
      "text/plain": [
       "[1, 2, 3, 4, 5, 6]"
      ]
     },
     "execution_count": 209,
     "metadata": {},
     "output_type": "execute_result"
    }
   ],
   "source": [
    "l8"
   ]
  },
  {
   "cell_type": "code",
   "execution_count": 210,
   "id": "0c2aba91-a0f1-44fd-9351-430728d5cf68",
   "metadata": {},
   "outputs": [
    {
     "data": {
      "text/plain": [
       "[4, 5, 6]"
      ]
     },
     "execution_count": 210,
     "metadata": {},
     "output_type": "execute_result"
    }
   ],
   "source": [
    "l9"
   ]
  },
  {
   "cell_type": "code",
   "execution_count": 211,
   "id": "91451f37-1b5d-4284-920c-eada4dc39b57",
   "metadata": {},
   "outputs": [],
   "source": [
    "l9.extend(l8)"
   ]
  },
  {
   "cell_type": "code",
   "execution_count": 212,
   "id": "817c4ef3-dd83-44a2-bb4a-1d106f0758e9",
   "metadata": {},
   "outputs": [
    {
     "data": {
      "text/plain": [
       "[4, 5, 6, 1, 2, 3, 4, 5, 6]"
      ]
     },
     "execution_count": 212,
     "metadata": {},
     "output_type": "execute_result"
    }
   ],
   "source": [
    "l9"
   ]
  },
  {
   "cell_type": "code",
   "execution_count": 213,
   "id": "8eab4fa4-7eba-436b-b9e3-bde107bb833b",
   "metadata": {},
   "outputs": [
    {
     "data": {
      "text/plain": [
       "[100, 30, 10, 5.6, 'nit', True, False, 200, 10]"
      ]
     },
     "execution_count": 213,
     "metadata": {},
     "output_type": "execute_result"
    }
   ],
   "source": [
    "l6"
   ]
  },
  {
   "cell_type": "code",
   "execution_count": 214,
   "id": "e3693ddd-5e6b-442e-b92b-8e4b4bff0d26",
   "metadata": {},
   "outputs": [
    {
     "data": {
      "text/plain": [
       "0"
      ]
     },
     "execution_count": 214,
     "metadata": {},
     "output_type": "execute_result"
    }
   ],
   "source": [
    "l6.index(100)"
   ]
  },
  {
   "cell_type": "code",
   "execution_count": 215,
   "id": "bc784463-603b-4623-82ae-9eb98de68ad8",
   "metadata": {},
   "outputs": [
    {
     "data": {
      "text/plain": [
       "7"
      ]
     },
     "execution_count": 215,
     "metadata": {},
     "output_type": "execute_result"
    }
   ],
   "source": [
    "l6.index(200)"
   ]
  },
  {
   "cell_type": "code",
   "execution_count": 216,
   "id": "a3e28ca2-2e53-4461-ba95-5566e4154dd6",
   "metadata": {},
   "outputs": [
    {
     "data": {
      "text/plain": [
       "[100, 30, 10, 5.6, 'nit', True, False, 200, 10]"
      ]
     },
     "execution_count": 216,
     "metadata": {},
     "output_type": "execute_result"
    }
   ],
   "source": [
    "l6"
   ]
  },
  {
   "cell_type": "code",
   "execution_count": 217,
   "id": "33dbb950-865b-4c03-a0c1-f1a0c5b0c5b2",
   "metadata": {},
   "outputs": [
    {
     "data": {
      "text/plain": [
       "200"
      ]
     },
     "execution_count": 217,
     "metadata": {},
     "output_type": "execute_result"
    }
   ],
   "source": [
    "l6[-2]"
   ]
  },
  {
   "cell_type": "code",
   "execution_count": 218,
   "id": "d01326e0-07aa-4194-9079-dea960da689e",
   "metadata": {},
   "outputs": [
    {
     "data": {
      "text/plain": [
       "[100, 30, 10, 5.6, 'nit', True, False, 200, 10]"
      ]
     },
     "execution_count": 218,
     "metadata": {},
     "output_type": "execute_result"
    }
   ],
   "source": [
    "l6"
   ]
  },
  {
   "cell_type": "code",
   "execution_count": 219,
   "id": "3241f826-7351-47ce-ad39-9340e0eceb3d",
   "metadata": {},
   "outputs": [],
   "source": [
    "l6.reverse()"
   ]
  },
  {
   "cell_type": "code",
   "execution_count": 220,
   "id": "d8d411f9-b32e-4f9c-8b76-298093a8bb63",
   "metadata": {},
   "outputs": [
    {
     "data": {
      "text/plain": [
       "[10, 200, False, True, 'nit', 5.6, 10, 30, 100]"
      ]
     },
     "execution_count": 220,
     "metadata": {},
     "output_type": "execute_result"
    }
   ],
   "source": [
    "l6"
   ]
  },
  {
   "cell_type": "code",
   "execution_count": 228,
   "id": "1f09a09d-28bb-4b90-9a24-390a721c25de",
   "metadata": {},
   "outputs": [
    {
     "data": {
      "text/plain": [
       "[1, 2, 3]"
      ]
     },
     "execution_count": 228,
     "metadata": {},
     "output_type": "execute_result"
    }
   ],
   "source": [
    "l9 = [1,2,3]\n",
    "l9"
   ]
  },
  {
   "cell_type": "code",
   "execution_count": 229,
   "id": "4a772a68-8e5c-4a67-8404-e9c66bd88a5d",
   "metadata": {},
   "outputs": [],
   "source": [
    "l9.reverse()"
   ]
  },
  {
   "cell_type": "code",
   "execution_count": 230,
   "id": "48344f31-aa78-422f-a271-d8616f859098",
   "metadata": {},
   "outputs": [
    {
     "data": {
      "text/plain": [
       "[3, 2, 1]"
      ]
     },
     "execution_count": 230,
     "metadata": {},
     "output_type": "execute_result"
    }
   ],
   "source": [
    "l9"
   ]
  },
  {
   "cell_type": "code",
   "execution_count": 231,
   "id": "bb4c4822-1049-448b-b145-627ad4d7467e",
   "metadata": {},
   "outputs": [],
   "source": [
    "l10 = [10, 30, 40]"
   ]
  },
  {
   "cell_type": "code",
   "execution_count": 232,
   "id": "dadc31ce-bd96-4c35-b1b5-20a75346f317",
   "metadata": {},
   "outputs": [
    {
     "data": {
      "text/plain": [
       "[10, 30, 40]"
      ]
     },
     "execution_count": 232,
     "metadata": {},
     "output_type": "execute_result"
    }
   ],
   "source": [
    "l10"
   ]
  },
  {
   "cell_type": "code",
   "execution_count": 233,
   "id": "f615bb1c-593e-4cb5-a11d-9288aa0eefd3",
   "metadata": {},
   "outputs": [],
   "source": [
    "l10.insert(1,20)"
   ]
  },
  {
   "cell_type": "code",
   "execution_count": 234,
   "id": "d215282b-4675-47ab-a11a-61a4301c242b",
   "metadata": {},
   "outputs": [
    {
     "data": {
      "text/plain": [
       "[10, 20, 30, 40]"
      ]
     },
     "execution_count": 234,
     "metadata": {},
     "output_type": "execute_result"
    }
   ],
   "source": [
    "l10"
   ]
  },
  {
   "cell_type": "code",
   "execution_count": 235,
   "id": "d4b5cbfd-0a43-4e94-ae85-d33ed8d56b7a",
   "metadata": {},
   "outputs": [
    {
     "ename": "TypeError",
     "evalue": "insert expected 2 arguments, got 1",
     "output_type": "error",
     "traceback": [
      "\u001b[1;31m---------------------------------------------------------------------------\u001b[0m",
      "\u001b[1;31mTypeError\u001b[0m                                 Traceback (most recent call last)",
      "Cell \u001b[1;32mIn[235], line 1\u001b[0m\n\u001b[1;32m----> 1\u001b[0m l10\u001b[38;5;241m.\u001b[39minsert(\u001b[38;5;241m0\u001b[39m)\n",
      "\u001b[1;31mTypeError\u001b[0m: insert expected 2 arguments, got 1"
     ]
    }
   ],
   "source": [
    "l10.insert(0)"
   ]
  },
  {
   "cell_type": "code",
   "execution_count": 237,
   "id": "35370e34-fe01-4fe0-b1bf-ca18953b95ca",
   "metadata": {},
   "outputs": [
    {
     "data": {
      "text/plain": [
       "[10, 200, False, True, 'nit', 5.6, 10, 30, 100]"
      ]
     },
     "execution_count": 237,
     "metadata": {},
     "output_type": "execute_result"
    }
   ],
   "source": [
    "l6"
   ]
  },
  {
   "cell_type": "code",
   "execution_count": 238,
   "id": "1041f3b7-4e28-49a7-bfbd-05a10a2a6c23",
   "metadata": {},
   "outputs": [
    {
     "data": {
      "text/plain": [
       "[20,\n",
       " 30,\n",
       " 'nit',\n",
       " 100,\n",
       " 30,\n",
       " 10,\n",
       " 5.6,\n",
       " 'nit',\n",
       " True,\n",
       " False,\n",
       " 200,\n",
       " 10,\n",
       " 100,\n",
       " 30,\n",
       " 10,\n",
       " 5.6,\n",
       " 'nit',\n",
       " True,\n",
       " False,\n",
       " 200,\n",
       " 10]"
      ]
     },
     "execution_count": 238,
     "metadata": {},
     "output_type": "execute_result"
    }
   ],
   "source": [
    "l5"
   ]
  },
  {
   "cell_type": "code",
   "execution_count": 239,
   "id": "13ebb267-a50e-42ab-8646-ac1c8a457a92",
   "metadata": {},
   "outputs": [
    {
     "data": {
      "text/plain": [
       "[3, 2, 1]"
      ]
     },
     "execution_count": 239,
     "metadata": {},
     "output_type": "execute_result"
    }
   ],
   "source": [
    "l9"
   ]
  },
  {
   "cell_type": "code",
   "execution_count": 240,
   "id": "1199d9a5-47cb-4ada-bccc-7be87832289a",
   "metadata": {},
   "outputs": [
    {
     "data": {
      "text/plain": [
       "[1, 2, 3, 4, 5, 6]"
      ]
     },
     "execution_count": 240,
     "metadata": {},
     "output_type": "execute_result"
    }
   ],
   "source": [
    "l8"
   ]
  },
  {
   "cell_type": "code",
   "execution_count": 241,
   "id": "19db7cf1-68bb-4fda-95d9-93fd10479429",
   "metadata": {},
   "outputs": [],
   "source": [
    "l8.reverse()"
   ]
  },
  {
   "cell_type": "code",
   "execution_count": 242,
   "id": "c0fd0d88-a413-43d0-b958-4b71db386ff7",
   "metadata": {},
   "outputs": [
    {
     "data": {
      "text/plain": [
       "[6, 5, 4, 3, 2, 1]"
      ]
     },
     "execution_count": 242,
     "metadata": {},
     "output_type": "execute_result"
    }
   ],
   "source": [
    "l8"
   ]
  },
  {
   "cell_type": "code",
   "execution_count": 243,
   "id": "dcb6bdc7-4939-4826-8489-7a82d8f8d489",
   "metadata": {},
   "outputs": [
    {
     "data": {
      "text/plain": [
       "[4, 70, 3, 100]"
      ]
     },
     "execution_count": 243,
     "metadata": {},
     "output_type": "execute_result"
    }
   ],
   "source": [
    "l1_ = [4,70,3, 100]\n",
    "l1_"
   ]
  },
  {
   "cell_type": "code",
   "execution_count": 244,
   "id": "66f4b441-6e41-442a-85a5-089118115df3",
   "metadata": {},
   "outputs": [],
   "source": [
    "l1_.sort()"
   ]
  },
  {
   "cell_type": "code",
   "execution_count": 246,
   "id": "3f256a4a-ebe2-4546-a6d0-fa0778de765d",
   "metadata": {},
   "outputs": [
    {
     "data": {
      "text/plain": [
       "[3, 4, 70, 100]"
      ]
     },
     "execution_count": 246,
     "metadata": {},
     "output_type": "execute_result"
    }
   ],
   "source": [
    "l1_"
   ]
  },
  {
   "cell_type": "code",
   "execution_count": 247,
   "id": "4b5fd551-3486-4c3a-b8a5-2a7ecc1e26a6",
   "metadata": {},
   "outputs": [
    {
     "data": {
      "text/plain": [
       "[3, 4, 70, 100]"
      ]
     },
     "execution_count": 247,
     "metadata": {},
     "output_type": "execute_result"
    }
   ],
   "source": [
    "l1_"
   ]
  },
  {
   "cell_type": "code",
   "execution_count": 253,
   "id": "bc6af1a2-0c94-46bb-a610-417a5ee3d8ea",
   "metadata": {},
   "outputs": [],
   "source": [
    "l1_.sort(reverse=True)"
   ]
  },
  {
   "cell_type": "code",
   "execution_count": 254,
   "id": "bc4423ec-bb08-40e4-aa05-abb9babb1467",
   "metadata": {},
   "outputs": [
    {
     "data": {
      "text/plain": [
       "[100, 70, 4, 3]"
      ]
     },
     "execution_count": 254,
     "metadata": {},
     "output_type": "execute_result"
    }
   ],
   "source": [
    "l1_"
   ]
  },
  {
   "cell_type": "markdown",
   "id": "8e57e925-c038-482b-b869-c077d3937eeb",
   "metadata": {},
   "source": [
    "# 12 th day TUPLE "
   ]
  },
  {
   "cell_type": "code",
   "execution_count": 258,
   "id": "3ea05630-b140-4680-a50c-104bb6dc2eb3",
   "metadata": {},
   "outputs": [
    {
     "data": {
      "text/plain": [
       "()"
      ]
     },
     "execution_count": 258,
     "metadata": {},
     "output_type": "execute_result"
    }
   ],
   "source": [
    "t = ()\n",
    "t"
   ]
  },
  {
   "cell_type": "code",
   "execution_count": 260,
   "id": "4a4eeb0c-a7c1-4b32-bba2-1a621a2900a8",
   "metadata": {},
   "outputs": [
    {
     "data": {
      "text/plain": [
       "()"
      ]
     },
     "execution_count": 260,
     "metadata": {},
     "output_type": "execute_result"
    }
   ],
   "source": [
    "t1 = tuple()\n",
    "t1"
   ]
  },
  {
   "cell_type": "code",
   "execution_count": 261,
   "id": "9c143fc6-bf64-4c6b-ada3-05e32c4f9e6a",
   "metadata": {},
   "outputs": [
    {
     "data": {
      "text/plain": [
       "tuple"
      ]
     },
     "execution_count": 261,
     "metadata": {},
     "output_type": "execute_result"
    }
   ],
   "source": [
    "type(t)"
   ]
  },
  {
   "cell_type": "code",
   "execution_count": null,
   "id": "76dc9a78-d90e-4cc7-a73e-5b9492d2867d",
   "metadata": {},
   "outputs": [],
   "source": [
    "t."
   ]
  },
  {
   "cell_type": "code",
   "execution_count": 262,
   "id": "fed25a13-4230-426e-9b20-a190e078b25d",
   "metadata": {},
   "outputs": [],
   "source": [
    "l=[1,2,3]"
   ]
  },
  {
   "cell_type": "code",
   "execution_count": 263,
   "id": "9a835fcb-39c3-415c-b378-00321aa083da",
   "metadata": {},
   "outputs": [
    {
     "data": {
      "text/plain": [
       "list"
      ]
     },
     "execution_count": 263,
     "metadata": {},
     "output_type": "execute_result"
    }
   ],
   "source": [
    "type(l)"
   ]
  },
  {
   "cell_type": "code",
   "execution_count": 264,
   "id": "afbb607e-dfdc-444f-b267-5305c2e7f091",
   "metadata": {},
   "outputs": [
    {
     "data": {
      "text/plain": [
       "(10, 20, 30, 40)"
      ]
     },
     "execution_count": 264,
     "metadata": {},
     "output_type": "execute_result"
    }
   ],
   "source": [
    "t1 = (10,20,30,40)\n",
    "t1"
   ]
  },
  {
   "cell_type": "code",
   "execution_count": 265,
   "id": "6360de58-b192-41ff-a389-a612a46ea2a9",
   "metadata": {},
   "outputs": [
    {
     "data": {
      "text/plain": [
       "(10, 2.3, (1+2j), 'nit', True)"
      ]
     },
     "execution_count": 265,
     "metadata": {},
     "output_type": "execute_result"
    }
   ],
   "source": [
    "t2=(10, 2.3, 1+2j, 'nit', True)\n",
    "t2"
   ]
  },
  {
   "cell_type": "code",
   "execution_count": 267,
   "id": "7e46e2c2-e202-421a-a08e-97595f7c55f1",
   "metadata": {},
   "outputs": [
    {
     "ename": "AttributeError",
     "evalue": "'tuple' object has no attribute 'append'",
     "output_type": "error",
     "traceback": [
      "\u001b[1;31m---------------------------------------------------------------------------\u001b[0m",
      "\u001b[1;31mAttributeError\u001b[0m                            Traceback (most recent call last)",
      "Cell \u001b[1;32mIn[267], line 1\u001b[0m\n\u001b[1;32m----> 1\u001b[0m t2\u001b[38;5;241m.\u001b[39mappend()\n",
      "\u001b[1;31mAttributeError\u001b[0m: 'tuple' object has no attribute 'append'"
     ]
    }
   ],
   "source": [
    "t2.append()"
   ]
  },
  {
   "cell_type": "code",
   "execution_count": 269,
   "id": "5a1d7ef0-fd55-4ecd-8710-169117c82e6a",
   "metadata": {},
   "outputs": [
    {
     "data": {
      "text/plain": [
       "(10, 20, 30, 40)"
      ]
     },
     "execution_count": 269,
     "metadata": {},
     "output_type": "execute_result"
    }
   ],
   "source": [
    "t1"
   ]
  },
  {
   "cell_type": "code",
   "execution_count": 271,
   "id": "2e4a1416-6b76-4ae2-9f84-4b5ba7a2b204",
   "metadata": {},
   "outputs": [
    {
     "data": {
      "text/plain": [
       "10"
      ]
     },
     "execution_count": 271,
     "metadata": {},
     "output_type": "execute_result"
    }
   ],
   "source": [
    "t1[0]"
   ]
  },
  {
   "cell_type": "code",
   "execution_count": 272,
   "id": "a23ae782-73f6-45b0-97e9-14a62490707c",
   "metadata": {},
   "outputs": [
    {
     "ename": "TypeError",
     "evalue": "'tuple' object does not support item assignment",
     "output_type": "error",
     "traceback": [
      "\u001b[1;31m---------------------------------------------------------------------------\u001b[0m",
      "\u001b[1;31mTypeError\u001b[0m                                 Traceback (most recent call last)",
      "Cell \u001b[1;32mIn[272], line 1\u001b[0m\n\u001b[1;32m----> 1\u001b[0m t1[\u001b[38;5;241m0\u001b[39m] \u001b[38;5;241m=\u001b[39m \u001b[38;5;241m100\u001b[39m\n",
      "\u001b[1;31mTypeError\u001b[0m: 'tuple' object does not support item assignment"
     ]
    }
   ],
   "source": [
    "t1[0] = 100"
   ]
  },
  {
   "cell_type": "code",
   "execution_count": 273,
   "id": "35bb298e-ac19-4e02-85c4-6221aed8250e",
   "metadata": {},
   "outputs": [
    {
     "data": {
      "text/plain": [
       "[1, 2, 3]"
      ]
     },
     "execution_count": 273,
     "metadata": {},
     "output_type": "execute_result"
    }
   ],
   "source": [
    "l"
   ]
  },
  {
   "cell_type": "code",
   "execution_count": 274,
   "id": "588d96f6-732b-435f-8409-6d7007fc3aee",
   "metadata": {},
   "outputs": [
    {
     "data": {
      "text/plain": [
       "[1, 100, 3]"
      ]
     },
     "execution_count": 274,
     "metadata": {},
     "output_type": "execute_result"
    }
   ],
   "source": [
    "l[1] = 100\n",
    "l"
   ]
  },
  {
   "cell_type": "code",
   "execution_count": 275,
   "id": "79677e68-2293-45f0-b78b-e4d7fac3fac3",
   "metadata": {},
   "outputs": [
    {
     "data": {
      "text/plain": [
       "(10, 10, 20, 50)"
      ]
     },
     "execution_count": 275,
     "metadata": {},
     "output_type": "execute_result"
    }
   ],
   "source": [
    "t2 = (10,10,20,50)\n",
    "t2"
   ]
  },
  {
   "cell_type": "code",
   "execution_count": 276,
   "id": "dd708f79-13c2-4db4-b846-703810fc3d75",
   "metadata": {},
   "outputs": [
    {
     "data": {
      "text/plain": [
       "(10, 20, 30, 40)"
      ]
     },
     "execution_count": 276,
     "metadata": {},
     "output_type": "execute_result"
    }
   ],
   "source": [
    "t1"
   ]
  },
  {
   "cell_type": "code",
   "execution_count": 277,
   "id": "f9975544-9dc1-4c1c-af96-0342ead3c8c8",
   "metadata": {},
   "outputs": [
    {
     "data": {
      "text/plain": [
       "(10, 20, 30, 40)"
      ]
     },
     "execution_count": 277,
     "metadata": {},
     "output_type": "execute_result"
    }
   ],
   "source": [
    "t1[:]"
   ]
  },
  {
   "cell_type": "code",
   "execution_count": 278,
   "id": "a98a2583-b62a-4e4e-b3f4-4aeeafc9a470",
   "metadata": {},
   "outputs": [
    {
     "data": {
      "text/plain": [
       "(20, 30, 40)"
      ]
     },
     "execution_count": 278,
     "metadata": {},
     "output_type": "execute_result"
    }
   ],
   "source": [
    "t1[1:]"
   ]
  },
  {
   "cell_type": "code",
   "execution_count": 280,
   "id": "cc0fbfe7-2378-4e8d-932d-df9fb7e9dce5",
   "metadata": {},
   "outputs": [
    {
     "data": {
      "text/plain": [
       "(10, 20, 30, 40)"
      ]
     },
     "execution_count": 280,
     "metadata": {},
     "output_type": "execute_result"
    }
   ],
   "source": [
    "t1"
   ]
  },
  {
   "cell_type": "code",
   "execution_count": 282,
   "id": "a7db5621-3c65-4b5b-a337-4d5f600e6611",
   "metadata": {},
   "outputs": [
    {
     "data": {
      "text/plain": [
       "1"
      ]
     },
     "execution_count": 282,
     "metadata": {},
     "output_type": "execute_result"
    }
   ],
   "source": [
    "t1.count(40)"
   ]
  },
  {
   "cell_type": "code",
   "execution_count": 283,
   "id": "3f1d790f-cabb-4d23-be95-d68a31d2386c",
   "metadata": {},
   "outputs": [
    {
     "data": {
      "text/plain": [
       "1"
      ]
     },
     "execution_count": 283,
     "metadata": {},
     "output_type": "execute_result"
    }
   ],
   "source": [
    "t1.index(20)"
   ]
  },
  {
   "cell_type": "code",
   "execution_count": 284,
   "id": "502be14f-7716-425d-91e5-45a0ddbc43af",
   "metadata": {},
   "outputs": [
    {
     "data": {
      "text/plain": [
       "(1235, 'cizp545465', '7th mar')"
      ]
     },
     "execution_count": 284,
     "metadata": {},
     "output_type": "execute_result"
    }
   ],
   "source": [
    "icic = (1235, 'cizp545465', '7th mar')\n",
    "icic"
   ]
  },
  {
   "cell_type": "code",
   "execution_count": 285,
   "id": "4aea0026-31fc-43ef-a0f2-aff1de140801",
   "metadata": {},
   "outputs": [
    {
     "data": {
      "text/plain": [
       "[1, 100, 3]"
      ]
     },
     "execution_count": 285,
     "metadata": {},
     "output_type": "execute_result"
    }
   ],
   "source": [
    "l"
   ]
  },
  {
   "cell_type": "code",
   "execution_count": 286,
   "id": "3ea69f53-93df-420c-bb54-8d39508c067e",
   "metadata": {},
   "outputs": [
    {
     "name": "stdout",
     "output_type": "stream",
     "text": [
      "1\n",
      "100\n",
      "3\n"
     ]
    }
   ],
   "source": [
    "for i in l:\n",
    "    print(i)"
   ]
  },
  {
   "cell_type": "code",
   "execution_count": 287,
   "id": "ca6677df-38d5-41ab-a814-3039085b835c",
   "metadata": {},
   "outputs": [
    {
     "name": "stdout",
     "output_type": "stream",
     "text": [
      "(0, 1)\n",
      "(1, 100)\n",
      "(2, 3)\n"
     ]
    }
   ],
   "source": [
    "for i in enumerate(l):\n",
    "    print(i)"
   ]
  },
  {
   "cell_type": "code",
   "execution_count": 288,
   "id": "bdef8663-a18e-4fbc-97c4-e24669bf52a8",
   "metadata": {},
   "outputs": [
    {
     "data": {
      "text/plain": [
       "(10, 20, 30, 40)"
      ]
     },
     "execution_count": 288,
     "metadata": {},
     "output_type": "execute_result"
    }
   ],
   "source": [
    "t1"
   ]
  },
  {
   "cell_type": "code",
   "execution_count": 289,
   "id": "7647b6e8-4150-442c-8cc5-c60ad3de5884",
   "metadata": {},
   "outputs": [
    {
     "name": "stdout",
     "output_type": "stream",
     "text": [
      "10\n",
      "20\n",
      "30\n",
      "40\n"
     ]
    }
   ],
   "source": [
    "for i in t1:\n",
    "    print(i)"
   ]
  },
  {
   "cell_type": "code",
   "execution_count": 290,
   "id": "dfcbe09d-30b3-49e6-bd2b-89db8ec74c26",
   "metadata": {},
   "outputs": [
    {
     "name": "stdout",
     "output_type": "stream",
     "text": [
      "(0, 10)\n",
      "(1, 20)\n",
      "(2, 30)\n",
      "(3, 40)\n"
     ]
    }
   ],
   "source": [
    "for i in enumerate(t1):\n",
    "    print(i)"
   ]
  },
  {
   "cell_type": "code",
   "execution_count": null,
   "id": "f383dd9a-b93c-4bed-9105-787519054e4c",
   "metadata": {},
   "outputs": [],
   "source": [
    "l."
   ]
  },
  {
   "cell_type": "code",
   "execution_count": 292,
   "id": "0e62c90b-0cd1-490b-843a-50738edbb811",
   "metadata": {},
   "outputs": [
    {
     "data": {
      "text/plain": [
       "(10, 20, 30, 40)"
      ]
     },
     "execution_count": 292,
     "metadata": {},
     "output_type": "execute_result"
    }
   ],
   "source": [
    "t1"
   ]
  },
  {
   "cell_type": "code",
   "execution_count": 293,
   "id": "f6a56abd-6528-4fa0-abfd-bfd88cb7f2cf",
   "metadata": {},
   "outputs": [
    {
     "data": {
      "text/plain": [
       "(1235, 'cizp545465', '7th mar')"
      ]
     },
     "execution_count": 293,
     "metadata": {},
     "output_type": "execute_result"
    }
   ],
   "source": [
    "icic"
   ]
  },
  {
   "cell_type": "code",
   "execution_count": 294,
   "id": "196193f3-cb9e-4eb9-a372-2add4e230259",
   "metadata": {},
   "outputs": [
    {
     "ename": "AttributeError",
     "evalue": "'tuple' object has no attribute 'remove'",
     "output_type": "error",
     "traceback": [
      "\u001b[1;31m---------------------------------------------------------------------------\u001b[0m",
      "\u001b[1;31mAttributeError\u001b[0m                            Traceback (most recent call last)",
      "Cell \u001b[1;32mIn[294], line 1\u001b[0m\n\u001b[1;32m----> 1\u001b[0m icic\u001b[38;5;241m.\u001b[39mremove(\u001b[38;5;241m1235\u001b[39m)\n",
      "\u001b[1;31mAttributeError\u001b[0m: 'tuple' object has no attribute 'remove'"
     ]
    }
   ],
   "source": [
    "icic.remove(1235)"
   ]
  },
  {
   "cell_type": "markdown",
   "id": "f3caf23c-98f0-4a5b-998e-bedd0bf08380",
   "metadata": {},
   "source": [
    "# set "
   ]
  },
  {
   "cell_type": "code",
   "execution_count": 295,
   "id": "77a69d01-378f-410d-bdb7-867a5053d218",
   "metadata": {},
   "outputs": [
    {
     "data": {
      "text/plain": [
       "{}"
      ]
     },
     "execution_count": 295,
     "metadata": {},
     "output_type": "execute_result"
    }
   ],
   "source": [
    "s = {}\n",
    "s"
   ]
  },
  {
   "cell_type": "code",
   "execution_count": 296,
   "id": "d05e7e9f-c0fa-481a-9bec-65f630e40967",
   "metadata": {},
   "outputs": [
    {
     "data": {
      "text/plain": [
       "dict"
      ]
     },
     "execution_count": 296,
     "metadata": {},
     "output_type": "execute_result"
    }
   ],
   "source": [
    "type(s)"
   ]
  },
  {
   "cell_type": "code",
   "execution_count": 297,
   "id": "9ba891af-a5a8-4488-a4fc-87c9f32581c7",
   "metadata": {},
   "outputs": [
    {
     "data": {
      "text/plain": [
       "set"
      ]
     },
     "execution_count": 297,
     "metadata": {},
     "output_type": "execute_result"
    }
   ],
   "source": [
    "s1 = set()\n",
    "type(s1)"
   ]
  },
  {
   "cell_type": "code",
   "execution_count": 298,
   "id": "5bb9148e-331b-48d0-906f-58d51e4cc0a7",
   "metadata": {},
   "outputs": [
    {
     "data": {
      "text/plain": [
       "set()"
      ]
     },
     "execution_count": 298,
     "metadata": {},
     "output_type": "execute_result"
    }
   ],
   "source": [
    "s1"
   ]
  },
  {
   "cell_type": "code",
   "execution_count": 299,
   "id": "eadbd871-362b-4c4e-a3df-793ba73e1ca7",
   "metadata": {},
   "outputs": [
    {
     "data": {
      "text/plain": [
       "{3, 5, 20, 59, 100}"
      ]
     },
     "execution_count": 299,
     "metadata": {},
     "output_type": "execute_result"
    }
   ],
   "source": [
    "s1= {5,3,100,59,20}\n",
    "s1"
   ]
  },
  {
   "cell_type": "code",
   "execution_count": 300,
   "id": "f3306b8e-cc6c-4827-a30d-08407ec375d9",
   "metadata": {},
   "outputs": [
    {
     "data": {
      "text/plain": [
       "{'a', 'c', 'e', 'm', 'z'}"
      ]
     },
     "execution_count": 300,
     "metadata": {},
     "output_type": "execute_result"
    }
   ],
   "source": [
    "s2 = {'z', 'm', 'a', 'c', 'e'}\n",
    "s2"
   ]
  },
  {
   "cell_type": "code",
   "execution_count": 301,
   "id": "0a3e6671-0905-45b9-8a2e-c35717e93360",
   "metadata": {},
   "outputs": [
    {
     "data": {
      "text/plain": [
       "{(1+2j), 2, 4.5, True, 'a'}"
      ]
     },
     "execution_count": 301,
     "metadata": {},
     "output_type": "execute_result"
    }
   ],
   "source": [
    "s3 = { 2, 'a', 4.5, 1+2j, True}\n",
    "s3"
   ]
  },
  {
   "cell_type": "code",
   "execution_count": 302,
   "id": "0c8b2eb0-6a18-4882-a740-9fb59106d5f2",
   "metadata": {},
   "outputs": [
    {
     "name": "stdout",
     "output_type": "stream",
     "text": [
      "{3, 100, 5, 20, 59}\n",
      "{'z', 'a', 'e', 'c', 'm'}\n",
      "{True, 2, 4.5, 'a', (1+2j)}\n"
     ]
    }
   ],
   "source": [
    "print(s1)\n",
    "print(s2)\n",
    "print(s3)"
   ]
  },
  {
   "cell_type": "code",
   "execution_count": null,
   "id": "e438a8f9-3eba-4601-b032-390576c68322",
   "metadata": {},
   "outputs": [],
   "source": [
    "s"
   ]
  },
  {
   "cell_type": "code",
   "execution_count": 305,
   "id": "e127536a-a0f8-4748-b526-cac77184747f",
   "metadata": {},
   "outputs": [
    {
     "data": {
      "text/plain": [
       "{}"
      ]
     },
     "execution_count": 305,
     "metadata": {},
     "output_type": "execute_result"
    }
   ],
   "source": [
    "s ={}\n",
    "s"
   ]
  },
  {
   "cell_type": "code",
   "execution_count": 306,
   "id": "0ed0bb7b-7f82-4a12-b135-fc550c3e5eb8",
   "metadata": {},
   "outputs": [
    {
     "data": {
      "text/plain": [
       "dict"
      ]
     },
     "execution_count": 306,
     "metadata": {},
     "output_type": "execute_result"
    }
   ],
   "source": [
    "type(s)"
   ]
  },
  {
   "cell_type": "code",
   "execution_count": 308,
   "id": "4ab5a0f5-5712-4004-a80e-c9c61f37c90a",
   "metadata": {},
   "outputs": [
    {
     "name": "stdout",
     "output_type": "stream",
     "text": [
      "{3, 100, 5, 20, 59}\n",
      "{'z', 'a', 'e', 'c', 'm'}\n",
      "{True, 2, 4.5, 'a', (1+2j)}\n"
     ]
    }
   ],
   "source": [
    "print(s1)\n",
    "print(s2)\n",
    "print(s3)"
   ]
  },
  {
   "cell_type": "code",
   "execution_count": 310,
   "id": "5fd69379-23fc-4fc3-abb5-3674729beba4",
   "metadata": {},
   "outputs": [
    {
     "name": "stdout",
     "output_type": "stream",
     "text": [
      "<class 'set'>\n",
      "<class 'set'>\n",
      "<class 'set'>\n"
     ]
    }
   ],
   "source": [
    "print(type(s1))\n",
    "print(type(s2))\n",
    "print(type(s3))"
   ]
  },
  {
   "cell_type": "code",
   "execution_count": 311,
   "id": "a243b0ec-7f80-4d9d-8ca5-39078e902497",
   "metadata": {},
   "outputs": [
    {
     "data": {
      "text/plain": [
       "{3, 5, 20, 59, 100}"
      ]
     },
     "execution_count": 311,
     "metadata": {},
     "output_type": "execute_result"
    }
   ],
   "source": [
    "s1"
   ]
  },
  {
   "cell_type": "code",
   "execution_count": 312,
   "id": "d24fc0d5-2275-481c-b61b-6b93e1fa417e",
   "metadata": {},
   "outputs": [],
   "source": [
    "s1.add(200)"
   ]
  },
  {
   "cell_type": "code",
   "execution_count": 313,
   "id": "773c8b72-c061-4a4d-b882-3d7de124a4ea",
   "metadata": {},
   "outputs": [
    {
     "data": {
      "text/plain": [
       "{3, 5, 20, 59, 100, 200}"
      ]
     },
     "execution_count": 313,
     "metadata": {},
     "output_type": "execute_result"
    }
   ],
   "source": [
    "s1"
   ]
  },
  {
   "cell_type": "code",
   "execution_count": 314,
   "id": "c7756b04-ad9d-4d16-adc1-62e2b27f7552",
   "metadata": {},
   "outputs": [
    {
     "ename": "TypeError",
     "evalue": "set.add() takes exactly one argument (2 given)",
     "output_type": "error",
     "traceback": [
      "\u001b[1;31m---------------------------------------------------------------------------\u001b[0m",
      "\u001b[1;31mTypeError\u001b[0m                                 Traceback (most recent call last)",
      "Cell \u001b[1;32mIn[314], line 1\u001b[0m\n\u001b[1;32m----> 1\u001b[0m s1\u001b[38;5;241m.\u001b[39madd(\u001b[38;5;241m200\u001b[39m, \u001b[38;5;241m300\u001b[39m)\n",
      "\u001b[1;31mTypeError\u001b[0m: set.add() takes exactly one argument (2 given)"
     ]
    }
   ],
   "source": [
    "s1.add(200, 300)"
   ]
  },
  {
   "cell_type": "code",
   "execution_count": 315,
   "id": "211464d7-fa51-4aa4-9570-a3f12a23fa5a",
   "metadata": {},
   "outputs": [],
   "source": [
    "s1.add(200)"
   ]
  },
  {
   "cell_type": "code",
   "execution_count": 316,
   "id": "b85dfab6-f255-4f95-b0ec-fae200cf5106",
   "metadata": {},
   "outputs": [
    {
     "data": {
      "text/plain": [
       "{3, 5, 20, 59, 100, 200}"
      ]
     },
     "execution_count": 316,
     "metadata": {},
     "output_type": "execute_result"
    }
   ],
   "source": [
    "s1"
   ]
  },
  {
   "cell_type": "code",
   "execution_count": 317,
   "id": "78e17121-1b39-42d9-a3a9-25f6deb6a67d",
   "metadata": {},
   "outputs": [],
   "source": [
    "s4 = s1.copy()"
   ]
  },
  {
   "cell_type": "code",
   "execution_count": 318,
   "id": "92c93c83-241b-497d-9444-ab1c538d8d77",
   "metadata": {},
   "outputs": [
    {
     "data": {
      "text/plain": [
       "{3, 5, 20, 59, 100, 200}"
      ]
     },
     "execution_count": 318,
     "metadata": {},
     "output_type": "execute_result"
    }
   ],
   "source": [
    "s4"
   ]
  },
  {
   "cell_type": "code",
   "execution_count": 319,
   "id": "e9602959-5359-406b-8bd8-c844b6fc3730",
   "metadata": {},
   "outputs": [
    {
     "data": {
      "text/plain": [
       "{3, 5, 20, 59, 100, 200}"
      ]
     },
     "execution_count": 319,
     "metadata": {},
     "output_type": "execute_result"
    }
   ],
   "source": [
    "s1"
   ]
  },
  {
   "cell_type": "code",
   "execution_count": 320,
   "id": "484ddded-49e7-4eb0-b3a1-a0a7b15f5b43",
   "metadata": {},
   "outputs": [
    {
     "ename": "TypeError",
     "evalue": "'set' object is not subscriptable",
     "output_type": "error",
     "traceback": [
      "\u001b[1;31m---------------------------------------------------------------------------\u001b[0m",
      "\u001b[1;31mTypeError\u001b[0m                                 Traceback (most recent call last)",
      "Cell \u001b[1;32mIn[320], line 1\u001b[0m\n\u001b[1;32m----> 1\u001b[0m s1[\u001b[38;5;241m0\u001b[39m]\n",
      "\u001b[1;31mTypeError\u001b[0m: 'set' object is not subscriptable"
     ]
    }
   ],
   "source": [
    "s1[0]"
   ]
  },
  {
   "cell_type": "code",
   "execution_count": 321,
   "id": "ace4d2f2-4530-44d5-b4c9-423c7aaaa4e1",
   "metadata": {},
   "outputs": [
    {
     "data": {
      "text/plain": [
       "{3, 5, 20, 59, 100, 200}"
      ]
     },
     "execution_count": 321,
     "metadata": {},
     "output_type": "execute_result"
    }
   ],
   "source": [
    "s1"
   ]
  },
  {
   "cell_type": "code",
   "execution_count": 322,
   "id": "3f43d26e-c5f1-4218-88de-bf5b96f5562b",
   "metadata": {},
   "outputs": [
    {
     "ename": "TypeError",
     "evalue": "'set' object is not subscriptable",
     "output_type": "error",
     "traceback": [
      "\u001b[1;31m---------------------------------------------------------------------------\u001b[0m",
      "\u001b[1;31mTypeError\u001b[0m                                 Traceback (most recent call last)",
      "Cell \u001b[1;32mIn[322], line 1\u001b[0m\n\u001b[1;32m----> 1\u001b[0m s1[:]\n",
      "\u001b[1;31mTypeError\u001b[0m: 'set' object is not subscriptable"
     ]
    }
   ],
   "source": [
    "s1[:]"
   ]
  },
  {
   "cell_type": "code",
   "execution_count": 323,
   "id": "50b6ece4-3d91-4c55-acab-932773b97b3b",
   "metadata": {},
   "outputs": [
    {
     "data": {
      "text/plain": [
       "{3, 5, 20, 59, 100, 200}"
      ]
     },
     "execution_count": 323,
     "metadata": {},
     "output_type": "execute_result"
    }
   ],
   "source": [
    "s4"
   ]
  },
  {
   "cell_type": "code",
   "execution_count": null,
   "id": "11907b57-42b7-46c6-b3e5-c071af817ddd",
   "metadata": {},
   "outputs": [],
   "source": [
    "s4.clear()"
   ]
  },
  {
   "cell_type": "code",
   "execution_count": 324,
   "id": "fe1fa1ed-30ce-4623-bd54-027d7e6f1b6b",
   "metadata": {},
   "outputs": [
    {
     "data": {
      "text/plain": [
       "6"
      ]
     },
     "execution_count": 324,
     "metadata": {},
     "output_type": "execute_result"
    }
   ],
   "source": [
    "len(s4)"
   ]
  },
  {
   "cell_type": "code",
   "execution_count": 325,
   "id": "f8f64a8c-27df-4130-b88e-8d8d10900035",
   "metadata": {},
   "outputs": [
    {
     "data": {
      "text/plain": [
       "1996062122816"
      ]
     },
     "execution_count": 325,
     "metadata": {},
     "output_type": "execute_result"
    }
   ],
   "source": [
    "id(s4)"
   ]
  },
  {
   "cell_type": "code",
   "execution_count": 326,
   "id": "4176c54b-f853-4f4b-9465-df04800b3695",
   "metadata": {},
   "outputs": [],
   "source": [
    "s4.clear()"
   ]
  },
  {
   "cell_type": "code",
   "execution_count": 327,
   "id": "806f532a-c402-47f6-a26a-ed52682134fa",
   "metadata": {},
   "outputs": [
    {
     "data": {
      "text/plain": [
       "0"
      ]
     },
     "execution_count": 327,
     "metadata": {},
     "output_type": "execute_result"
    }
   ],
   "source": [
    "len(s4)"
   ]
  },
  {
   "cell_type": "code",
   "execution_count": 328,
   "id": "c6b33633-263c-4b64-9232-9e05a64fefd0",
   "metadata": {},
   "outputs": [
    {
     "data": {
      "text/plain": [
       "1996062122816"
      ]
     },
     "execution_count": 328,
     "metadata": {},
     "output_type": "execute_result"
    }
   ],
   "source": [
    "id(s4)"
   ]
  },
  {
   "cell_type": "code",
   "execution_count": 329,
   "id": "b747b05f-428b-4336-8f40-e3e72bd4c11b",
   "metadata": {},
   "outputs": [
    {
     "data": {
      "text/plain": [
       "set()"
      ]
     },
     "execution_count": 329,
     "metadata": {},
     "output_type": "execute_result"
    }
   ],
   "source": [
    "s4"
   ]
  },
  {
   "cell_type": "code",
   "execution_count": 330,
   "id": "783f784d-4806-4afc-abbe-0325fe6915a2",
   "metadata": {},
   "outputs": [],
   "source": [
    "del s4"
   ]
  },
  {
   "cell_type": "code",
   "execution_count": 331,
   "id": "4e9b54e6-36eb-4b50-bd24-bf249514a5da",
   "metadata": {},
   "outputs": [
    {
     "ename": "NameError",
     "evalue": "name 's4' is not defined",
     "output_type": "error",
     "traceback": [
      "\u001b[1;31m---------------------------------------------------------------------------\u001b[0m",
      "\u001b[1;31mNameError\u001b[0m                                 Traceback (most recent call last)",
      "Cell \u001b[1;32mIn[331], line 1\u001b[0m\n\u001b[1;32m----> 1\u001b[0m s4\n",
      "\u001b[1;31mNameError\u001b[0m: name 's4' is not defined"
     ]
    }
   ],
   "source": [
    "s4"
   ]
  },
  {
   "cell_type": "code",
   "execution_count": 332,
   "id": "153d7e10-c814-4223-bbd1-6219f33b0d67",
   "metadata": {},
   "outputs": [
    {
     "data": {
      "text/plain": [
       "set"
      ]
     },
     "execution_count": 332,
     "metadata": {},
     "output_type": "execute_result"
    }
   ],
   "source": [
    "s4 = {1,2,3}\n",
    "type(s4)"
   ]
  },
  {
   "cell_type": "code",
   "execution_count": 333,
   "id": "e9d9fd21-372f-4e20-a7c6-dabbeead9f80",
   "metadata": {},
   "outputs": [
    {
     "data": {
      "text/plain": [
       "1996062751680"
      ]
     },
     "execution_count": 333,
     "metadata": {},
     "output_type": "execute_result"
    }
   ],
   "source": [
    "id(s4)"
   ]
  },
  {
   "cell_type": "code",
   "execution_count": 334,
   "id": "06aa4c06-6678-4e04-8152-6c3a5401a91e",
   "metadata": {},
   "outputs": [
    {
     "data": {
      "text/plain": [
       "{(1+2j), 2, 4.5, True, 'a'}"
      ]
     },
     "execution_count": 334,
     "metadata": {},
     "output_type": "execute_result"
    }
   ],
   "source": [
    "s3"
   ]
  },
  {
   "cell_type": "code",
   "execution_count": 335,
   "id": "663c638b-8c00-495c-9fbb-3a22bd01f0a3",
   "metadata": {},
   "outputs": [],
   "source": [
    "s3.remove(1+2j)"
   ]
  },
  {
   "cell_type": "code",
   "execution_count": 336,
   "id": "4ac41058-86ca-48e4-b0ce-54404ec3150b",
   "metadata": {},
   "outputs": [
    {
     "data": {
      "text/plain": [
       "{2, 4.5, True, 'a'}"
      ]
     },
     "execution_count": 336,
     "metadata": {},
     "output_type": "execute_result"
    }
   ],
   "source": [
    "s3"
   ]
  },
  {
   "cell_type": "code",
   "execution_count": 337,
   "id": "915b41c8-8b7e-4038-9da7-21e80e3cbd3b",
   "metadata": {},
   "outputs": [
    {
     "data": {
      "text/plain": [
       "True"
      ]
     },
     "execution_count": 337,
     "metadata": {},
     "output_type": "execute_result"
    }
   ],
   "source": [
    "s3.pop()"
   ]
  },
  {
   "cell_type": "code",
   "execution_count": 338,
   "id": "7c045374-1a54-45d1-9535-1f78a8315681",
   "metadata": {},
   "outputs": [
    {
     "data": {
      "text/plain": [
       "{2, 4.5, 'a'}"
      ]
     },
     "execution_count": 338,
     "metadata": {},
     "output_type": "execute_result"
    }
   ],
   "source": [
    "s3"
   ]
  },
  {
   "cell_type": "code",
   "execution_count": 339,
   "id": "605df0d2-e284-44fd-9cc3-3dae7ad1eb87",
   "metadata": {},
   "outputs": [
    {
     "data": {
      "text/plain": [
       "2"
      ]
     },
     "execution_count": 339,
     "metadata": {},
     "output_type": "execute_result"
    }
   ],
   "source": [
    "s3.pop()"
   ]
  },
  {
   "cell_type": "code",
   "execution_count": 340,
   "id": "8b03fc5b-d25f-48a2-ba24-e3c16c0fb2e2",
   "metadata": {},
   "outputs": [
    {
     "data": {
      "text/plain": [
       "{4.5, 'a'}"
      ]
     },
     "execution_count": 340,
     "metadata": {},
     "output_type": "execute_result"
    }
   ],
   "source": [
    "s3"
   ]
  },
  {
   "cell_type": "code",
   "execution_count": 341,
   "id": "8feaebc0-fa25-4c82-99b6-0089035d548d",
   "metadata": {},
   "outputs": [
    {
     "ename": "TypeError",
     "evalue": "set.pop() takes no arguments (1 given)",
     "output_type": "error",
     "traceback": [
      "\u001b[1;31m---------------------------------------------------------------------------\u001b[0m",
      "\u001b[1;31mTypeError\u001b[0m                                 Traceback (most recent call last)",
      "Cell \u001b[1;32mIn[341], line 1\u001b[0m\n\u001b[1;32m----> 1\u001b[0m s3\u001b[38;5;241m.\u001b[39mpop(\u001b[38;5;241m0\u001b[39m)\n",
      "\u001b[1;31mTypeError\u001b[0m: set.pop() takes no arguments (1 given)"
     ]
    }
   ],
   "source": [
    "s3.pop(0)"
   ]
  },
  {
   "cell_type": "code",
   "execution_count": 342,
   "id": "c08058da-729c-4ed3-9891-184b682166f3",
   "metadata": {},
   "outputs": [
    {
     "data": {
      "text/plain": [
       "[1, 100, 3]"
      ]
     },
     "execution_count": 342,
     "metadata": {},
     "output_type": "execute_result"
    }
   ],
   "source": [
    "l"
   ]
  },
  {
   "cell_type": "code",
   "execution_count": 343,
   "id": "7339eb9c-1f04-44c2-90cb-b80b134ba6ca",
   "metadata": {},
   "outputs": [
    {
     "data": {
      "text/plain": [
       "1"
      ]
     },
     "execution_count": 343,
     "metadata": {},
     "output_type": "execute_result"
    }
   ],
   "source": [
    "l.pop(0)"
   ]
  },
  {
   "cell_type": "code",
   "execution_count": 344,
   "id": "5caa8595-ee59-4947-80c2-e1f784aec862",
   "metadata": {},
   "outputs": [
    {
     "data": {
      "text/plain": [
       "[100, 3]"
      ]
     },
     "execution_count": 344,
     "metadata": {},
     "output_type": "execute_result"
    }
   ],
   "source": [
    "l"
   ]
  },
  {
   "cell_type": "code",
   "execution_count": null,
   "id": "a3e952d9-e686-47c8-a98a-5f1ab3c89989",
   "metadata": {},
   "outputs": [],
   "source": []
  }
 ],
 "metadata": {
  "kernelspec": {
   "display_name": "Python 3 (ipykernel)",
   "language": "python",
   "name": "python3"
  },
  "language_info": {
   "codemirror_mode": {
    "name": "ipython",
    "version": 3
   },
   "file_extension": ".py",
   "mimetype": "text/x-python",
   "name": "python",
   "nbconvert_exporter": "python",
   "pygments_lexer": "ipython3",
   "version": "3.12.4"
  }
 },
 "nbformat": 4,
 "nbformat_minor": 5
}
