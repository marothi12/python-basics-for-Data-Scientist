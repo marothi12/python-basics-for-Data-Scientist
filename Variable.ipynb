{
 "cells": [
  {
   "cell_type": "code",
   "execution_count": 1,
   "id": "8e40de3b-0a16-449f-9d6d-bb21bb41c3c0",
   "metadata": {},
   "outputs": [
    {
     "data": {
      "text/plain": [
       "5"
      ]
     },
     "execution_count": 1,
     "metadata": {},
     "output_type": "execute_result"
    }
   ],
   "source": [
    " v = 5\n",
    "v"
   ]
  },
  {
   "cell_type": "code",
   "execution_count": 2,
   "id": "5260d5ab-5e3d-4ad4-b86e-c4d0060dc000",
   "metadata": {},
   "outputs": [
    {
     "data": {
      "text/plain": [
       "5"
      ]
     },
     "execution_count": 2,
     "metadata": {},
     "output_type": "execute_result"
    }
   ],
   "source": [
    "a = 5\n",
    "a"
   ]
  },
  {
   "cell_type": "code",
   "execution_count": 3,
   "id": "45f8d87e-f326-4203-b7f9-c2879e1c0dbe",
   "metadata": {},
   "outputs": [
    {
     "data": {
      "text/plain": [
       "int"
      ]
     },
     "execution_count": 3,
     "metadata": {},
     "output_type": "execute_result"
    }
   ],
   "source": [
    "type(a)"
   ]
  },
  {
   "cell_type": "code",
   "execution_count": 4,
   "id": "74ec7b92-a90e-4706-8d43-e5477b06c5eb",
   "metadata": {},
   "outputs": [],
   "source": [
    "a= 5.5"
   ]
  },
  {
   "cell_type": "code",
   "execution_count": 5,
   "id": "f8582fbd-1c80-429c-91dd-a6cd466c4fb9",
   "metadata": {},
   "outputs": [
    {
     "data": {
      "text/plain": [
       "'welcome   nit'"
      ]
     },
     "execution_count": 5,
     "metadata": {},
     "output_type": "execute_result"
    }
   ],
   "source": [
    "'welcome   nit'"
   ]
  },
  {
   "cell_type": "code",
   "execution_count": 6,
   "id": "4689c38f-507d-4686-9408-5218bce95ed0",
   "metadata": {},
   "outputs": [
    {
     "data": {
      "text/plain": [
       "5"
      ]
     },
     "execution_count": 6,
     "metadata": {},
     "output_type": "execute_result"
    }
   ],
   "source": [
    "2 + 3"
   ]
  },
  {
   "cell_type": "code",
   "execution_count": 7,
   "id": "7a9b3a76-eee7-4419-a150-4a29018e4309",
   "metadata": {},
   "outputs": [
    {
     "data": {
      "text/plain": [
       "0.0"
      ]
     },
     "execution_count": 7,
     "metadata": {},
     "output_type": "execute_result"
    }
   ],
   "source": [
    " 0 / 1"
   ]
  },
  {
   "cell_type": "code",
   "execution_count": 8,
   "id": "eca5ac50-bcf6-4566-afbe-19c021b0e7ad",
   "metadata": {},
   "outputs": [
    {
     "data": {
      "text/plain": [
       "'3.12.4 | packaged by Anaconda, Inc. | (main, Jun 18 2024, 15:03:56) [MSC v.1929 64 bit (AMD64)]'"
      ]
     },
     "execution_count": 8,
     "metadata": {},
     "output_type": "execute_result"
    }
   ],
   "source": [
    "import sys\n",
    "sys.version"
   ]
  },
  {
   "cell_type": "code",
   "execution_count": 9,
   "id": "908000c2-c034-4283-b37d-2bc55a4ae060",
   "metadata": {},
   "outputs": [
    {
     "data": {
      "text/plain": [
       "str"
      ]
     },
     "execution_count": 9,
     "metadata": {},
     "output_type": "execute_result"
    }
   ],
   "source": [
    " a = '5.5'\n",
    "type(a)"
   ]
  },
  {
   "cell_type": "code",
   "execution_count": null,
   "id": "1f35c3af-9674-4f81-92a1-f89086109b33",
   "metadata": {},
   "outputs": [],
   "source": []
  },
  {
   "cell_type": "code",
   "execution_count": null,
   "id": "b8cc8ecb-db3c-4602-a5cd-2435a04302b3",
   "metadata": {},
   "outputs": [],
   "source": []
  },
  {
   "cell_type": "code",
   "execution_count": 10,
   "id": "d8da19a4-a2ac-4376-9c67-cc912e7354d4",
   "metadata": {},
   "outputs": [],
   "source": [
    "def greet():\n",
    "    print('hello')\n",
    "    greet();\n",
    "def greet():\n",
    "    print('hello')\n",
    "    greet();\n",
    "def greet():\n",
    "    print('hello')\n",
    "    greet();\n",
    "def greet():\n",
    "    print('hello')\n",
    "    greet();\n",
    "    \n",
    "    \n",
    "    \n",
    "    "
   ]
  },
  {
   "cell_type": "markdown",
   "id": "884b92f2-2fcb-4191-a2ba-affa4fe9044c",
   "metadata": {},
   "source": [
    "## python identifier or python  varible or python object ##"
   ]
  },
  {
   "cell_type": "code",
   "execution_count": 11,
   "id": "e10721a3-fe7d-4964-812d-5c61417a0ffd",
   "metadata": {},
   "outputs": [
    {
     "data": {
      "text/plain": [
       "5.5"
      ]
     },
     "execution_count": 11,
     "metadata": {},
     "output_type": "execute_result"
    }
   ],
   "source": [
    " a =5.5\n",
    "a"
   ]
  },
  {
   "cell_type": "code",
   "execution_count": 12,
   "id": "0f7aab11-1ad1-41d9-a688-22d1e2085f16",
   "metadata": {},
   "outputs": [
    {
     "data": {
      "text/plain": [
       "float"
      ]
     },
     "execution_count": 12,
     "metadata": {},
     "output_type": "execute_result"
    }
   ],
   "source": [
    "type(a)"
   ]
  },
  {
   "cell_type": "code",
   "execution_count": 13,
   "id": "b3621a9c-8f77-40bd-b54c-af7f0c252fa1",
   "metadata": {},
   "outputs": [
    {
     "data": {
      "text/plain": [
       "2265707207856"
      ]
     },
     "execution_count": 13,
     "metadata": {},
     "output_type": "execute_result"
    }
   ],
   "source": [
    "id(a)"
   ]
  },
  {
   "cell_type": "code",
   "execution_count": 14,
   "id": "4afac3b6-fd54-405b-a5ca-219714a5326f",
   "metadata": {},
   "outputs": [
    {
     "data": {
      "text/plain": [
       "6"
      ]
     },
     "execution_count": 14,
     "metadata": {},
     "output_type": "execute_result"
    }
   ],
   "source": [
    "a = 6\n",
    "a"
   ]
  },
  {
   "cell_type": "code",
   "execution_count": 15,
   "id": "3e3661d0-1f64-484b-9989-4204945b0645",
   "metadata": {},
   "outputs": [
    {
     "data": {
      "text/plain": [
       "140710648232536"
      ]
     },
     "execution_count": 15,
     "metadata": {},
     "output_type": "execute_result"
    }
   ],
   "source": [
    "id(a)"
   ]
  },
  {
   "cell_type": "code",
   "execution_count": 16,
   "id": "38f2fc22-1584-4411-82d3-190942070228",
   "metadata": {},
   "outputs": [],
   "source": [
    "v = 5"
   ]
  },
  {
   "cell_type": "code",
   "execution_count": 17,
   "id": "a0321f81-2fcf-47a4-8323-05e3a5cabfc9",
   "metadata": {},
   "outputs": [
    {
     "data": {
      "text/plain": [
       "140710648232504"
      ]
     },
     "execution_count": 17,
     "metadata": {},
     "output_type": "execute_result"
    }
   ],
   "source": [
    "id(v)"
   ]
  },
  {
   "cell_type": "code",
   "execution_count": 18,
   "id": "05611488-b7a5-4f8a-a1a9-6d6557c9a712",
   "metadata": {},
   "outputs": [],
   "source": [
    "i = 5"
   ]
  },
  {
   "cell_type": "code",
   "execution_count": 19,
   "id": "d799f858-9d9d-4630-acb0-4d3ed2976b42",
   "metadata": {},
   "outputs": [
    {
     "name": "stdout",
     "output_type": "stream",
     "text": [
      "5\n",
      "5\n"
     ]
    }
   ],
   "source": [
    "print(v)\n",
    "print(v)"
   ]
  },
  {
   "cell_type": "raw",
   "id": "e18d7217-025a-4c50-a6b4-2ad7d4dbd422",
   "metadata": {},
   "source": [
    "o = 6 \n",
    "o"
   ]
  },
  {
   "cell_type": "code",
   "execution_count": 22,
   "id": "eff0229d-2620-4c03-b300-d720cf723307",
   "metadata": {},
   "outputs": [
    {
     "ename": "NameError",
     "evalue": "name 'o' is not defined",
     "output_type": "error",
     "traceback": [
      "\u001b[1;31m---------------------------------------------------------------------------\u001b[0m",
      "\u001b[1;31mNameError\u001b[0m                                 Traceback (most recent call last)",
      "Cell \u001b[1;32mIn[22], line 1\u001b[0m\n\u001b[1;32m----> 1\u001b[0m \u001b[43mo\u001b[49m\n",
      "\u001b[1;31mNameError\u001b[0m: name 'o' is not defined"
     ]
    }
   ],
   "source": [
    "o"
   ]
  },
  {
   "cell_type": "code",
   "execution_count": 25,
   "id": "95910607-9671-4cb9-b7fb-e8852a4bec2f",
   "metadata": {},
   "outputs": [
    {
     "name": "stdout",
     "output_type": "stream",
     "text": [
      "140710648232504\n",
      "140710648232504\n"
     ]
    }
   ],
   "source": [
    "print(id(v))\n",
    "print(id(i))\n"
   ]
  },
  {
   "cell_type": "code",
   "execution_count": 27,
   "id": "78ed4744-315b-4209-8ebd-8f327b3312ad",
   "metadata": {},
   "outputs": [
    {
     "data": {
      "text/plain": [
       "['False',\n",
       " 'None',\n",
       " 'True',\n",
       " 'and',\n",
       " 'as',\n",
       " 'assert',\n",
       " 'async',\n",
       " 'await',\n",
       " 'break',\n",
       " 'class',\n",
       " 'continue',\n",
       " 'def',\n",
       " 'del',\n",
       " 'elif',\n",
       " 'else',\n",
       " 'except',\n",
       " 'finally',\n",
       " 'for',\n",
       " 'from',\n",
       " 'global',\n",
       " 'if',\n",
       " 'import',\n",
       " 'in',\n",
       " 'is',\n",
       " 'lambda',\n",
       " 'nonlocal',\n",
       " 'not',\n",
       " 'or',\n",
       " 'pass',\n",
       " 'raise',\n",
       " 'return',\n",
       " 'try',\n",
       " 'while',\n",
       " 'with',\n",
       " 'yield']"
      ]
     },
     "execution_count": 27,
     "metadata": {},
     "output_type": "execute_result"
    }
   ],
   "source": [
    "import  keyword\n",
    "keyword.kwlist"
   ]
  },
  {
   "cell_type": "code",
   "execution_count": 29,
   "id": "8c35baf2-ec1a-4728-bca9-9f6375e206aa",
   "metadata": {},
   "outputs": [],
   "source": [
    "petrol = 110.5"
   ]
  },
  {
   "cell_type": "code",
   "execution_count": 31,
   "id": "db80c05b-f1a6-4235-8cc0-deb25b2c63e9",
   "metadata": {},
   "outputs": [
    {
     "data": {
      "text/plain": [
       "110.5"
      ]
     },
     "execution_count": 31,
     "metadata": {},
     "output_type": "execute_result"
    }
   ],
   "source": [
    "petrol"
   ]
  },
  {
   "cell_type": "code",
   "execution_count": 33,
   "id": "5cde4a36-3b7a-4efa-a941-70bc7fdd3405",
   "metadata": {},
   "outputs": [
    {
     "data": {
      "text/plain": [
       "2.3"
      ]
     },
     "execution_count": 33,
     "metadata": {},
     "output_type": "execute_result"
    }
   ],
   "source": [
    "f1 = 2.3\n",
    "f1"
   ]
  },
  {
   "cell_type": "code",
   "execution_count": 35,
   "id": "1e7a7c32-f80c-471a-a53b-c6e131ed1171",
   "metadata": {},
   "outputs": [
    {
     "data": {
      "text/plain": [
       "2.0"
      ]
     },
     "execution_count": 35,
     "metadata": {},
     "output_type": "execute_result"
    }
   ],
   "source": [
    "f2 = 2e0\n",
    "f2"
   ]
  },
  {
   "cell_type": "code",
   "execution_count": 39,
   "id": "6490bef9-2b97-47d9-9a55-434cb0f47273",
   "metadata": {},
   "outputs": [
    {
     "data": {
      "text/plain": [
       "30.0"
      ]
     },
     "execution_count": 39,
     "metadata": {},
     "output_type": "execute_result"
    }
   ],
   "source": [
    "f3=3e1\n",
    "f3"
   ]
  },
  {
   "cell_type": "code",
   "execution_count": 41,
   "id": "76ef5d69-396d-40bf-bf9d-933ceba5a767",
   "metadata": {},
   "outputs": [
    {
     "data": {
      "text/plain": [
       "300.0"
      ]
     },
     "execution_count": 41,
     "metadata": {},
     "output_type": "execute_result"
    }
   ],
   "source": [
    "f4=3e2\n",
    "f4"
   ]
  },
  {
   "cell_type": "code",
   "execution_count": 43,
   "id": "0579231e-eb91-4fbc-9bd9-869ddcd00ba9",
   "metadata": {},
   "outputs": [],
   "source": [
    " i = 3"
   ]
  },
  {
   "cell_type": "code",
   "execution_count": 45,
   "id": "4d8bf149-71a4-4d90-91a2-e54bf8bfefd0",
   "metadata": {},
   "outputs": [
    {
     "data": {
      "text/plain": [
       "int"
      ]
     },
     "execution_count": 45,
     "metadata": {},
     "output_type": "execute_result"
    }
   ],
   "source": [
    "type(i)"
   ]
  },
  {
   "cell_type": "code",
   "execution_count": 47,
   "id": "7e0f22e8-ea7f-4319-875a-b422fbb43b02",
   "metadata": {},
   "outputs": [
    {
     "data": {
      "text/plain": [
       "False"
      ]
     },
     "execution_count": 47,
     "metadata": {},
     "output_type": "execute_result"
    }
   ],
   "source": [
    "b1=False\n",
    "b1"
   ]
  },
  {
   "cell_type": "code",
   "execution_count": 49,
   "id": "8a429e4f-2f9d-44eb-9673-d944ad7341aa",
   "metadata": {},
   "outputs": [
    {
     "data": {
      "text/plain": [
       "1"
      ]
     },
     "execution_count": 49,
     "metadata": {},
     "output_type": "execute_result"
    }
   ],
   "source": [
    "True+False"
   ]
  },
  {
   "cell_type": "code",
   "execution_count": 51,
   "id": "9364f1bd-2568-4fad-89b7-3404e901a921",
   "metadata": {},
   "outputs": [
    {
     "data": {
      "text/plain": [
       "1"
      ]
     },
     "execution_count": 51,
     "metadata": {},
     "output_type": "execute_result"
    }
   ],
   "source": [
    "True*True+False*True"
   ]
  },
  {
   "cell_type": "code",
   "execution_count": 53,
   "id": "8042e5d1-7e14-4c6a-a13b-18ef28c8e504",
   "metadata": {},
   "outputs": [
    {
     "data": {
      "text/plain": [
       "0.0"
      ]
     },
     "execution_count": 53,
     "metadata": {},
     "output_type": "execute_result"
    }
   ],
   "source": [
    "False/True"
   ]
  },
  {
   "cell_type": "code",
   "execution_count": 55,
   "id": "078d2a15-c028-48f7-89e5-7290901f3945",
   "metadata": {},
   "outputs": [
    {
     "data": {
      "text/plain": [
       "0"
      ]
     },
     "execution_count": 55,
     "metadata": {},
     "output_type": "execute_result"
    }
   ],
   "source": [
    "False//True"
   ]
  },
  {
   "cell_type": "code",
   "execution_count": 57,
   "id": "b9153cc5-fe04-4358-85f4-1a6d579ca378",
   "metadata": {},
   "outputs": [
    {
     "ename": "ZeroDivisionError",
     "evalue": "division by zero",
     "output_type": "error",
     "traceback": [
      "\u001b[1;31m---------------------------------------------------------------------------\u001b[0m",
      "\u001b[1;31mZeroDivisionError\u001b[0m                         Traceback (most recent call last)",
      "Cell \u001b[1;32mIn[57], line 1\u001b[0m\n\u001b[1;32m----> 1\u001b[0m \u001b[38;5;28;43;01mTrue\u001b[39;49;00m\u001b[38;5;241;43m/\u001b[39;49m\u001b[38;5;28;43;01mFalse\u001b[39;49;00m\n",
      "\u001b[1;31mZeroDivisionError\u001b[0m: division by zero"
     ]
    }
   ],
   "source": [
    "True/False"
   ]
  },
  {
   "cell_type": "code",
   "execution_count": null,
   "id": "a5a49f03-dbac-4684-8723-2e73576bb699",
   "metadata": {},
   "outputs": [],
   "source": []
  }
 ],
 "metadata": {
  "kernelspec": {
   "display_name": "Python 3 (ipykernel)",
   "language": "python",
   "name": "python3"
  },
  "language_info": {
   "codemirror_mode": {
    "name": "ipython",
    "version": 3
   },
   "file_extension": ".py",
   "mimetype": "text/x-python",
   "name": "python",
   "nbconvert_exporter": "python",
   "pygments_lexer": "ipython3",
   "version": "3.12.4"
  }
 },
 "nbformat": 4,
 "nbformat_minor": 5
}
