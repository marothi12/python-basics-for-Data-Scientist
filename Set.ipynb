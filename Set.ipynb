{
 "cells": [
  {
   "cell_type": "markdown",
   "id": "66f00959-bd6f-43b8-8b92-9e988e0993a6",
   "metadata": {},
   "source": [
    "'white to NIT'"
   ]
  },
  {
   "cell_type": "code",
   "execution_count": 4,
   "id": "80d49d09-43ed-4b22-bf0f-c487918e8d30",
   "metadata": {},
   "outputs": [
    {
     "data": {
      "text/plain": [
       "5"
      ]
     },
     "execution_count": 4,
     "metadata": {},
     "output_type": "execute_result"
    }
   ],
   "source": [
    "2+3\n"
   ]
  },
  {
   "cell_type": "code",
   "execution_count": 6,
   "id": "ee15a4de-0260-4300-a961-99ae536d3dc0",
   "metadata": {},
   "outputs": [
    {
     "data": {
      "text/plain": [
       "0.1"
      ]
     },
     "execution_count": 6,
     "metadata": {},
     "output_type": "execute_result"
    }
   ],
   "source": [
    "1/10"
   ]
  },
  {
   "cell_type": "code",
   "execution_count": 8,
   "id": "df0d70b9-721e-42b9-b5c3-64ddacaa0401",
   "metadata": {},
   "outputs": [
    {
     "data": {
      "text/plain": [
       "0.0"
      ]
     },
     "execution_count": 8,
     "metadata": {},
     "output_type": "execute_result"
    }
   ],
   "source": [
    "0/1"
   ]
  },
  {
   "cell_type": "code",
   "execution_count": 10,
   "id": "bf608367-25ff-4a76-a8a4-3cecdece66cc",
   "metadata": {},
   "outputs": [
    {
     "data": {
      "text/plain": [
       "'3.12.4 | packaged by Anaconda, Inc. | (main, Jun 18 2024, 15:03:56) [MSC v.1929 64 bit (AMD64)]'"
      ]
     },
     "execution_count": 10,
     "metadata": {},
     "output_type": "execute_result"
    }
   ],
   "source": [
    "import sys\n",
    "sys.version"
   ]
  },
  {
   "cell_type": "markdown",
   "id": "9bb01b71-e146-4f9a-b847-0b744923c4d9",
   "metadata": {},
   "source": [
    "### 2nd Nov ###"
   ]
  },
  {
   "cell_type": "code",
   "execution_count": 14,
   "id": "89a6f996-1ae6-42a1-9c45-25b6bccf23bd",
   "metadata": {},
   "outputs": [
    {
     "data": {
      "text/plain": [
       "str"
      ]
     },
     "execution_count": 14,
     "metadata": {},
     "output_type": "execute_result"
    }
   ],
   "source": [
    "a='5.5'\n",
    "type(a)"
   ]
  },
  {
   "cell_type": "code",
   "execution_count": 18,
   "id": "d3ae09e1-f7a1-45b1-892e-5ec3e4034c35",
   "metadata": {},
   "outputs": [
    {
     "name": "stdout",
     "output_type": "stream",
     "text": [
      "hello\n",
      "hello\n",
      "hello\n"
     ]
    }
   ],
   "source": [
    "def greet():\n",
    "    print('hello')\n",
    "greet();\n",
    "def greet():\n",
    "    print('hello')\n",
    "greet()\n",
    "def greet():\n",
    "    print('hello')\n",
    "greet();"
   ]
  },
  {
   "cell_type": "code",
   "execution_count": null,
   "id": "bd343685-f250-4bb5-b50f-a5dedf4f9b7b",
   "metadata": {},
   "outputs": [],
   "source": [
    "d"
   ]
  }
 ],
 "metadata": {
  "kernelspec": {
   "display_name": "Python 3 (ipykernel)",
   "language": "python",
   "name": "python3"
  },
  "language_info": {
   "codemirror_mode": {
    "name": "ipython",
    "version": 3
   },
   "file_extension": ".py",
   "mimetype": "text/x-python",
   "name": "python",
   "nbconvert_exporter": "python",
   "pygments_lexer": "ipython3",
   "version": "3.12.4"
  }
 },
 "nbformat": 4,
 "nbformat_minor": 5
}
