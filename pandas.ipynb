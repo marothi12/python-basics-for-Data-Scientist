{
 "cells": [
  {
   "cell_type": "code",
   "execution_count": 2,
   "id": "2f46c9ae-99c9-41a4-b639-32f75f628d85",
   "metadata": {},
   "outputs": [],
   "source": [
    "import pandas as pd"
   ]
  },
  {
   "cell_type": "code",
   "execution_count": 4,
   "id": "81d4f75a-d614-4403-9e5b-41ad59ecb5d4",
   "metadata": {},
   "outputs": [],
   "source": [
    "store = pd.read_csv(r'C:\\Users\\marot\\Documents\\Sample - Superstore_Orders.csv')"
   ]
  },
  {
   "cell_type": "code",
   "execution_count": 7,
   "id": "a0e2648d-1d35-4487-89e3-c32dd7f49770",
   "metadata": {},
   "outputs": [
    {
     "data": {
      "text/html": [
       "<div>\n",
       "<style scoped>\n",
       "    .dataframe tbody tr th:only-of-type {\n",
       "        vertical-align: middle;\n",
       "    }\n",
       "\n",
       "    .dataframe tbody tr th {\n",
       "        vertical-align: top;\n",
       "    }\n",
       "\n",
       "    .dataframe thead th {\n",
       "        text-align: right;\n",
       "    }\n",
       "</style>\n",
       "<table border=\"1\" class=\"dataframe\">\n",
       "  <thead>\n",
       "    <tr style=\"text-align: right;\">\n",
       "      <th></th>\n",
       "      <th>Category</th>\n",
       "      <th>City</th>\n",
       "      <th>Country/Region</th>\n",
       "      <th>Customer Name</th>\n",
       "      <th>Manufacturer</th>\n",
       "      <th>Order Date</th>\n",
       "      <th>Order ID</th>\n",
       "      <th>Postal Code</th>\n",
       "      <th>Product Name</th>\n",
       "      <th>Region</th>\n",
       "      <th>Segment</th>\n",
       "      <th>Ship Date</th>\n",
       "      <th>Ship Mode</th>\n",
       "      <th>State/Province</th>\n",
       "      <th>Sub-Category</th>\n",
       "      <th>Discount</th>\n",
       "      <th>Profit</th>\n",
       "      <th>Quantity</th>\n",
       "      <th>Sales</th>\n",
       "    </tr>\n",
       "  </thead>\n",
       "  <tbody>\n",
       "    <tr>\n",
       "      <th>0</th>\n",
       "      <td>Office Supplies</td>\n",
       "      <td>Houston</td>\n",
       "      <td>United States</td>\n",
       "      <td>Darren Powers</td>\n",
       "      <td>Message Book</td>\n",
       "      <td>03-01-2020</td>\n",
       "      <td>US-2020-103800</td>\n",
       "      <td>77095</td>\n",
       "      <td>Message Book, Wirebound, Four 5 1/2\" X 4\" Form...</td>\n",
       "      <td>Central</td>\n",
       "      <td>Consumer</td>\n",
       "      <td>07-01-2020</td>\n",
       "      <td>Standard Class</td>\n",
       "      <td>Texas</td>\n",
       "      <td>Paper</td>\n",
       "      <td>0.2</td>\n",
       "      <td>5.5512</td>\n",
       "      <td>2</td>\n",
       "      <td>16.448</td>\n",
       "    </tr>\n",
       "    <tr>\n",
       "      <th>1</th>\n",
       "      <td>Office Supplies</td>\n",
       "      <td>Naperville</td>\n",
       "      <td>United States</td>\n",
       "      <td>Phillina Ober</td>\n",
       "      <td>GBC</td>\n",
       "      <td>04-01-2020</td>\n",
       "      <td>US-2020-112326</td>\n",
       "      <td>60540</td>\n",
       "      <td>GBC Standard Plastic Binding Systems Combs</td>\n",
       "      <td>Central</td>\n",
       "      <td>Home Office</td>\n",
       "      <td>08-01-2020</td>\n",
       "      <td>Standard Class</td>\n",
       "      <td>Illinois</td>\n",
       "      <td>Binders</td>\n",
       "      <td>0.8</td>\n",
       "      <td>-5.4870</td>\n",
       "      <td>2</td>\n",
       "      <td>3.540</td>\n",
       "    </tr>\n",
       "    <tr>\n",
       "      <th>2</th>\n",
       "      <td>Office Supplies</td>\n",
       "      <td>Naperville</td>\n",
       "      <td>United States</td>\n",
       "      <td>Phillina Ober</td>\n",
       "      <td>Avery</td>\n",
       "      <td>04-01-2020</td>\n",
       "      <td>US-2020-112326</td>\n",
       "      <td>60540</td>\n",
       "      <td>Avery 508</td>\n",
       "      <td>Central</td>\n",
       "      <td>Home Office</td>\n",
       "      <td>08-01-2020</td>\n",
       "      <td>Standard Class</td>\n",
       "      <td>Illinois</td>\n",
       "      <td>Labels</td>\n",
       "      <td>0.2</td>\n",
       "      <td>4.2717</td>\n",
       "      <td>3</td>\n",
       "      <td>11.784</td>\n",
       "    </tr>\n",
       "    <tr>\n",
       "      <th>3</th>\n",
       "      <td>Office Supplies</td>\n",
       "      <td>Naperville</td>\n",
       "      <td>United States</td>\n",
       "      <td>Phillina Ober</td>\n",
       "      <td>SAFCO</td>\n",
       "      <td>04-01-2020</td>\n",
       "      <td>US-2020-112326</td>\n",
       "      <td>60540</td>\n",
       "      <td>SAFCO Boltless Steel Shelving</td>\n",
       "      <td>Central</td>\n",
       "      <td>Home Office</td>\n",
       "      <td>08-01-2020</td>\n",
       "      <td>Standard Class</td>\n",
       "      <td>Illinois</td>\n",
       "      <td>Storage</td>\n",
       "      <td>0.2</td>\n",
       "      <td>-64.7748</td>\n",
       "      <td>3</td>\n",
       "      <td>272.736</td>\n",
       "    </tr>\n",
       "    <tr>\n",
       "      <th>4</th>\n",
       "      <td>Office Supplies</td>\n",
       "      <td>Philadelphia</td>\n",
       "      <td>United States</td>\n",
       "      <td>Mick Brown</td>\n",
       "      <td>Avery</td>\n",
       "      <td>05-01-2020</td>\n",
       "      <td>US-2020-141817</td>\n",
       "      <td>19143</td>\n",
       "      <td>Avery Hi-Liter EverBold Pen Style Fluorescent ...</td>\n",
       "      <td>East</td>\n",
       "      <td>Consumer</td>\n",
       "      <td>12-01-2020</td>\n",
       "      <td>Standard Class</td>\n",
       "      <td>Pennsylvania</td>\n",
       "      <td>Art</td>\n",
       "      <td>0.2</td>\n",
       "      <td>4.8840</td>\n",
       "      <td>3</td>\n",
       "      <td>19.536</td>\n",
       "    </tr>\n",
       "    <tr>\n",
       "      <th>...</th>\n",
       "      <td>...</td>\n",
       "      <td>...</td>\n",
       "      <td>...</td>\n",
       "      <td>...</td>\n",
       "      <td>...</td>\n",
       "      <td>...</td>\n",
       "      <td>...</td>\n",
       "      <td>...</td>\n",
       "      <td>...</td>\n",
       "      <td>...</td>\n",
       "      <td>...</td>\n",
       "      <td>...</td>\n",
       "      <td>...</td>\n",
       "      <td>...</td>\n",
       "      <td>...</td>\n",
       "      <td>...</td>\n",
       "      <td>...</td>\n",
       "      <td>...</td>\n",
       "      <td>...</td>\n",
       "    </tr>\n",
       "    <tr>\n",
       "      <th>10189</th>\n",
       "      <td>Office Supplies</td>\n",
       "      <td>New York City</td>\n",
       "      <td>United States</td>\n",
       "      <td>Patrick O'Donnell</td>\n",
       "      <td>Wilson Jones</td>\n",
       "      <td>30-12-2023</td>\n",
       "      <td>US-2023-143259</td>\n",
       "      <td>10009</td>\n",
       "      <td>Wilson Jones Legal Size Ring Binders</td>\n",
       "      <td>East</td>\n",
       "      <td>Consumer</td>\n",
       "      <td>03-01-2024</td>\n",
       "      <td>Standard Class</td>\n",
       "      <td>New York</td>\n",
       "      <td>Binders</td>\n",
       "      <td>0.2</td>\n",
       "      <td>19.7910</td>\n",
       "      <td>3</td>\n",
       "      <td>52.776</td>\n",
       "    </tr>\n",
       "    <tr>\n",
       "      <th>10190</th>\n",
       "      <td>Office Supplies</td>\n",
       "      <td>Fairfield</td>\n",
       "      <td>United States</td>\n",
       "      <td>Erica Bern</td>\n",
       "      <td>GBC</td>\n",
       "      <td>30-12-2023</td>\n",
       "      <td>US-2023-115427</td>\n",
       "      <td>94533</td>\n",
       "      <td>GBC Binding covers</td>\n",
       "      <td>West</td>\n",
       "      <td>Corporate</td>\n",
       "      <td>03-01-2024</td>\n",
       "      <td>Standard Class</td>\n",
       "      <td>California</td>\n",
       "      <td>Binders</td>\n",
       "      <td>0.2</td>\n",
       "      <td>6.4750</td>\n",
       "      <td>2</td>\n",
       "      <td>20.720</td>\n",
       "    </tr>\n",
       "    <tr>\n",
       "      <th>10191</th>\n",
       "      <td>Office Supplies</td>\n",
       "      <td>Loveland</td>\n",
       "      <td>United States</td>\n",
       "      <td>Jill Matthias</td>\n",
       "      <td>Other</td>\n",
       "      <td>30-12-2023</td>\n",
       "      <td>US-2023-156720</td>\n",
       "      <td>80538</td>\n",
       "      <td>Bagged Rubber Bands</td>\n",
       "      <td>West</td>\n",
       "      <td>Consumer</td>\n",
       "      <td>03-01-2024</td>\n",
       "      <td>Standard Class</td>\n",
       "      <td>Colorado</td>\n",
       "      <td>Fasteners</td>\n",
       "      <td>0.2</td>\n",
       "      <td>-0.6048</td>\n",
       "      <td>3</td>\n",
       "      <td>3.024</td>\n",
       "    </tr>\n",
       "    <tr>\n",
       "      <th>10192</th>\n",
       "      <td>Technology</td>\n",
       "      <td>New York City</td>\n",
       "      <td>United States</td>\n",
       "      <td>Patrick O'Donnell</td>\n",
       "      <td>Other</td>\n",
       "      <td>30-12-2023</td>\n",
       "      <td>US-2023-143259</td>\n",
       "      <td>10009</td>\n",
       "      <td>Gear Head AU3700S Headset</td>\n",
       "      <td>East</td>\n",
       "      <td>Consumer</td>\n",
       "      <td>03-01-2024</td>\n",
       "      <td>Standard Class</td>\n",
       "      <td>New York</td>\n",
       "      <td>Phones</td>\n",
       "      <td>0.0</td>\n",
       "      <td>2.7279</td>\n",
       "      <td>7</td>\n",
       "      <td>90.930</td>\n",
       "    </tr>\n",
       "    <tr>\n",
       "      <th>10193</th>\n",
       "      <td>Office Supplies</td>\n",
       "      <td>Charlottetown</td>\n",
       "      <td>Canada</td>\n",
       "      <td>Harry Olson</td>\n",
       "      <td>Wilson Jones</td>\n",
       "      <td>30-12-2023</td>\n",
       "      <td>CA-2023-143500</td>\n",
       "      <td>C0A</td>\n",
       "      <td>Wilson Jones Impact Binders</td>\n",
       "      <td>East</td>\n",
       "      <td>Consumer</td>\n",
       "      <td>03-01-2024</td>\n",
       "      <td>Standard Class</td>\n",
       "      <td>Prince Edward Island</td>\n",
       "      <td>Binders</td>\n",
       "      <td>0.2</td>\n",
       "      <td>-0.6048</td>\n",
       "      <td>3</td>\n",
       "      <td>3.024</td>\n",
       "    </tr>\n",
       "  </tbody>\n",
       "</table>\n",
       "<p>10194 rows × 19 columns</p>\n",
       "</div>"
      ],
      "text/plain": [
       "              Category           City Country/Region      Customer Name  \\\n",
       "0      Office Supplies        Houston  United States      Darren Powers   \n",
       "1      Office Supplies     Naperville  United States      Phillina Ober   \n",
       "2      Office Supplies     Naperville  United States      Phillina Ober   \n",
       "3      Office Supplies     Naperville  United States      Phillina Ober   \n",
       "4      Office Supplies   Philadelphia  United States         Mick Brown   \n",
       "...                ...            ...            ...                ...   \n",
       "10189  Office Supplies  New York City  United States  Patrick O'Donnell   \n",
       "10190  Office Supplies      Fairfield  United States         Erica Bern   \n",
       "10191  Office Supplies       Loveland  United States      Jill Matthias   \n",
       "10192       Technology  New York City  United States  Patrick O'Donnell   \n",
       "10193  Office Supplies  Charlottetown         Canada        Harry Olson   \n",
       "\n",
       "       Manufacturer  Order Date        Order ID Postal Code  \\\n",
       "0      Message Book  03-01-2020  US-2020-103800       77095   \n",
       "1               GBC  04-01-2020  US-2020-112326       60540   \n",
       "2             Avery  04-01-2020  US-2020-112326       60540   \n",
       "3             SAFCO  04-01-2020  US-2020-112326       60540   \n",
       "4             Avery  05-01-2020  US-2020-141817       19143   \n",
       "...             ...         ...             ...         ...   \n",
       "10189  Wilson Jones  30-12-2023  US-2023-143259       10009   \n",
       "10190           GBC  30-12-2023  US-2023-115427       94533   \n",
       "10191         Other  30-12-2023  US-2023-156720       80538   \n",
       "10192         Other  30-12-2023  US-2023-143259       10009   \n",
       "10193  Wilson Jones  30-12-2023  CA-2023-143500         C0A   \n",
       "\n",
       "                                            Product Name   Region  \\\n",
       "0      Message Book, Wirebound, Four 5 1/2\" X 4\" Form...  Central   \n",
       "1             GBC Standard Plastic Binding Systems Combs  Central   \n",
       "2                                              Avery 508  Central   \n",
       "3                          SAFCO Boltless Steel Shelving  Central   \n",
       "4      Avery Hi-Liter EverBold Pen Style Fluorescent ...     East   \n",
       "...                                                  ...      ...   \n",
       "10189               Wilson Jones Legal Size Ring Binders     East   \n",
       "10190                                 GBC Binding covers     West   \n",
       "10191                                Bagged Rubber Bands     West   \n",
       "10192                          Gear Head AU3700S Headset     East   \n",
       "10193                        Wilson Jones Impact Binders     East   \n",
       "\n",
       "           Segment   Ship Date       Ship Mode        State/Province  \\\n",
       "0         Consumer  07-01-2020  Standard Class                 Texas   \n",
       "1      Home Office  08-01-2020  Standard Class              Illinois   \n",
       "2      Home Office  08-01-2020  Standard Class              Illinois   \n",
       "3      Home Office  08-01-2020  Standard Class              Illinois   \n",
       "4         Consumer  12-01-2020  Standard Class          Pennsylvania   \n",
       "...            ...         ...             ...                   ...   \n",
       "10189     Consumer  03-01-2024  Standard Class              New York   \n",
       "10190    Corporate  03-01-2024  Standard Class            California   \n",
       "10191     Consumer  03-01-2024  Standard Class              Colorado   \n",
       "10192     Consumer  03-01-2024  Standard Class              New York   \n",
       "10193     Consumer  03-01-2024  Standard Class  Prince Edward Island   \n",
       "\n",
       "      Sub-Category  Discount   Profit  Quantity    Sales  \n",
       "0            Paper       0.2   5.5512         2   16.448  \n",
       "1          Binders       0.8  -5.4870         2    3.540  \n",
       "2           Labels       0.2   4.2717         3   11.784  \n",
       "3          Storage       0.2 -64.7748         3  272.736  \n",
       "4              Art       0.2   4.8840         3   19.536  \n",
       "...            ...       ...      ...       ...      ...  \n",
       "10189      Binders       0.2  19.7910         3   52.776  \n",
       "10190      Binders       0.2   6.4750         2   20.720  \n",
       "10191    Fasteners       0.2  -0.6048         3    3.024  \n",
       "10192       Phones       0.0   2.7279         7   90.930  \n",
       "10193      Binders       0.2  -0.6048         3    3.024  \n",
       "\n",
       "[10194 rows x 19 columns]"
      ]
     },
     "execution_count": 7,
     "metadata": {},
     "output_type": "execute_result"
    }
   ],
   "source": [
    "store"
   ]
  },
  {
   "cell_type": "code",
   "execution_count": 9,
   "id": "dedecc99-9f04-4ff2-b690-d545f2f66e90",
   "metadata": {},
   "outputs": [
    {
     "data": {
      "text/plain": [
       "(10194, 19)"
      ]
     },
     "execution_count": 9,
     "metadata": {},
     "output_type": "execute_result"
    }
   ],
   "source": [
    "store.shape"
   ]
  },
  {
   "cell_type": "code",
   "execution_count": 11,
   "id": "7bc2ba8c-50f4-4ec6-a5de-aa66fe851c71",
   "metadata": {},
   "outputs": [
    {
     "data": {
      "text/plain": [
       "10194"
      ]
     },
     "execution_count": 11,
     "metadata": {},
     "output_type": "execute_result"
    }
   ],
   "source": [
    "len(store)"
   ]
  },
  {
   "cell_type": "code",
   "execution_count": 13,
   "id": "25e5af42-153e-4f0d-b5f7-76c122ae220d",
   "metadata": {},
   "outputs": [
    {
     "data": {
      "text/plain": [
       "'2.2.2'"
      ]
     },
     "execution_count": 13,
     "metadata": {},
     "output_type": "execute_result"
    }
   ],
   "source": [
    "pd.__version__"
   ]
  },
  {
   "cell_type": "code",
   "execution_count": 15,
   "id": "a36f2ca0-d68f-46c1-bd84-f43243c27d7a",
   "metadata": {},
   "outputs": [
    {
     "data": {
      "text/plain": [
       "Index(['Category', 'City', 'Country/Region', 'Customer Name', 'Manufacturer',\n",
       "       'Order Date', 'Order ID', 'Postal Code', 'Product Name', 'Region',\n",
       "       'Segment', 'Ship Date', 'Ship Mode', 'State/Province', 'Sub-Category',\n",
       "       'Discount', 'Profit', 'Quantity', 'Sales'],\n",
       "      dtype='object')"
      ]
     },
     "execution_count": 15,
     "metadata": {},
     "output_type": "execute_result"
    }
   ],
   "source": [
    "store.columns"
   ]
  },
  {
   "cell_type": "code",
   "execution_count": 17,
   "id": "6597d6b7-7cc0-4276-a220-5c866bd12fe0",
   "metadata": {},
   "outputs": [
    {
     "data": {
      "text/plain": [
       "19"
      ]
     },
     "execution_count": 17,
     "metadata": {},
     "output_type": "execute_result"
    }
   ],
   "source": [
    "len(store.columns)"
   ]
  },
  {
   "cell_type": "code",
   "execution_count": 19,
   "id": "21513c7f-fbdc-41c5-88fc-fb778d27e67e",
   "metadata": {},
   "outputs": [
    {
     "data": {
      "text/plain": [
       "pandas.core.frame.DataFrame"
      ]
     },
     "execution_count": 19,
     "metadata": {},
     "output_type": "execute_result"
    }
   ],
   "source": [
    "type(store)"
   ]
  },
  {
   "cell_type": "code",
   "execution_count": 21,
   "id": "aceb573b-0ed6-4e28-9583-bd63bbcb465a",
   "metadata": {},
   "outputs": [
    {
     "data": {
      "text/plain": [
       "2361511166656"
      ]
     },
     "execution_count": 21,
     "metadata": {},
     "output_type": "execute_result"
    }
   ],
   "source": [
    "id(store)"
   ]
  },
  {
   "cell_type": "code",
   "execution_count": 23,
   "id": "195ae023-7ce9-46df-83d0-0410c8bf4f8f",
   "metadata": {},
   "outputs": [
    {
     "data": {
      "text/plain": [
       "Category          0\n",
       "City              0\n",
       "Country/Region    0\n",
       "Customer Name     0\n",
       "Manufacturer      0\n",
       "Order Date        0\n",
       "Order ID          0\n",
       "Postal Code       0\n",
       "Product Name      0\n",
       "Region            0\n",
       "Segment           0\n",
       "Ship Date         0\n",
       "Ship Mode         0\n",
       "State/Province    0\n",
       "Sub-Category      0\n",
       "Discount          0\n",
       "Profit            0\n",
       "Quantity          0\n",
       "Sales             0\n",
       "dtype: int64"
      ]
     },
     "execution_count": 23,
     "metadata": {},
     "output_type": "execute_result"
    }
   ],
   "source": [
    "store.isnull().sum()"
   ]
  },
  {
   "cell_type": "code",
   "execution_count": 25,
   "id": "f5e7942a-0f56-4d13-871f-d545428b6b01",
   "metadata": {},
   "outputs": [
    {
     "data": {
      "text/plain": [
       "0        Office Supplies\n",
       "1        Office Supplies\n",
       "2        Office Supplies\n",
       "3        Office Supplies\n",
       "4        Office Supplies\n",
       "              ...       \n",
       "10189    Office Supplies\n",
       "10190    Office Supplies\n",
       "10191    Office Supplies\n",
       "10192         Technology\n",
       "10193    Office Supplies\n",
       "Name: Category, Length: 10194, dtype: object"
      ]
     },
     "execution_count": 25,
     "metadata": {},
     "output_type": "execute_result"
    }
   ],
   "source": [
    "store['Category']"
   ]
  },
  {
   "cell_type": "code",
   "execution_count": 28,
   "id": "9f208c17-91c3-4310-81e8-2e7ca6f2e05b",
   "metadata": {},
   "outputs": [
    {
     "data": {
      "text/plain": [
       "0        Standard Class\n",
       "1        Standard Class\n",
       "2        Standard Class\n",
       "3        Standard Class\n",
       "4        Standard Class\n",
       "              ...      \n",
       "10189    Standard Class\n",
       "10190    Standard Class\n",
       "10191    Standard Class\n",
       "10192    Standard Class\n",
       "10193    Standard Class\n",
       "Name: Ship Mode, Length: 10194, dtype: object"
      ]
     },
     "execution_count": 28,
     "metadata": {},
     "output_type": "execute_result"
    }
   ],
   "source": [
    "store['Ship Mode']"
   ]
  },
  {
   "cell_type": "code",
   "execution_count": 30,
   "id": "35b3e7db-fdb1-49ed-99b5-a4f49d4ed65c",
   "metadata": {},
   "outputs": [
    {
     "data": {
      "text/plain": [
       "Index(['Category', 'City', 'Country/Region', 'Customer Name', 'Manufacturer',\n",
       "       'Order Date', 'Order ID', 'Postal Code', 'Product Name', 'Region',\n",
       "       'Segment', 'Ship Date', 'Ship Mode', 'State/Province', 'Sub-Category',\n",
       "       'Discount', 'Profit', 'Quantity', 'Sales'],\n",
       "      dtype='object')"
      ]
     },
     "execution_count": 30,
     "metadata": {},
     "output_type": "execute_result"
    }
   ],
   "source": [
    "store.columns"
   ]
  },
  {
   "cell_type": "code",
   "execution_count": 32,
   "id": "5f3e2a46-26ad-4830-b99b-5456ac2abd5e",
   "metadata": {},
   "outputs": [],
   "source": [
    "store_cat = store[['Category', 'City', 'Country/Region', 'Customer Name', 'Manufacturer',\n",
    "       'Order Date', 'Order ID', 'Postal Code', 'Product Name', 'Region',\n",
    "       'Segment', 'Ship Date', 'Ship Mode', 'State/Province', 'Sub-Category']]\n",
    "store_num=store[['Discount', 'Profit', 'Quantity', 'Sales']]"
   ]
  },
  {
   "cell_type": "code",
   "execution_count": 37,
   "id": "7323384b-eef9-444a-85df-84ef266c4f5e",
   "metadata": {},
   "outputs": [
    {
     "name": "stdout",
     "output_type": "stream",
     "text": [
      "4\n",
      "4\n"
     ]
    },
    {
     "ename": "TypeError",
     "evalue": "len() takes exactly one argument (0 given)",
     "output_type": "error",
     "traceback": [
      "\u001b[1;31m---------------------------------------------------------------------------\u001b[0m",
      "\u001b[1;31mTypeError\u001b[0m                                 Traceback (most recent call last)",
      "Cell \u001b[1;32mIn[37], line 3\u001b[0m\n\u001b[0;32m      1\u001b[0m \u001b[38;5;28mprint\u001b[39m(\u001b[38;5;28mlen\u001b[39m(store_num\u001b[38;5;241m.\u001b[39mcolumns))\n\u001b[0;32m      2\u001b[0m \u001b[38;5;28mprint\u001b[39m(\u001b[38;5;28mlen\u001b[39m(store_num\u001b[38;5;241m.\u001b[39mcolumns))\n\u001b[1;32m----> 3\u001b[0m \u001b[38;5;28mprint\u001b[39m(\u001b[38;5;28mlen\u001b[39m())\n",
      "\u001b[1;31mTypeError\u001b[0m: len() takes exactly one argument (0 given)"
     ]
    }
   ],
   "source": [
    "print(len(store_num.columns))\n",
    "print(len(store_num.columns))\n",
    "print(len())"
   ]
  },
  {
   "cell_type": "code",
   "execution_count": null,
   "id": "e8886546-597c-4e1b-a6c1-0fb9dacebf4d",
   "metadata": {},
   "outputs": [],
   "source": []
  },
  {
   "cell_type": "code",
   "execution_count": null,
   "id": "1194a9c5-a5a8-4a91-8c31-1314a9ca82d0",
   "metadata": {},
   "outputs": [],
   "source": []
  }
 ],
 "metadata": {
  "kernelspec": {
   "display_name": "Python 3 (ipykernel)",
   "language": "python",
   "name": "python3"
  },
  "language_info": {
   "codemirror_mode": {
    "name": "ipython",
    "version": 3
   },
   "file_extension": ".py",
   "mimetype": "text/x-python",
   "name": "python",
   "nbconvert_exporter": "python",
   "pygments_lexer": "ipython3",
   "version": "3.12.4"
  }
 },
 "nbformat": 4,
 "nbformat_minor": 5
}
