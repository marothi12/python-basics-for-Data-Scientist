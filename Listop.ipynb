{
 "cells": [
  {
   "cell_type": "code",
   "execution_count": 2,
   "id": "3fd851df-c88c-4d2c-8908-e3df93323ba1",
   "metadata": {},
   "outputs": [
    {
     "data": {
      "text/plain": [
       "'abc def ghi'"
      ]
     },
     "execution_count": 2,
     "metadata": {},
     "output_type": "execute_result"
    }
   ],
   "source": [
    "txt = \"abc def ghi\"\n",
    "txt.lstrip()"
   ]
  },
  {
   "cell_type": "code",
   "execution_count": 4,
   "id": "26891ae1-3718-48f2-8b63-636a6fd60ef4",
   "metadata": {},
   "outputs": [
    {
     "data": {
      "text/plain": [
       "'Marothi Limbaji Gore'"
      ]
     },
     "execution_count": 4,
     "metadata": {},
     "output_type": "execute_result"
    }
   ],
   "source": [
    "txt=\"Marothi Limbaji Gore\"\n",
    "txt.strip()"
   ]
  },
  {
   "cell_type": "code",
   "execution_count": null,
   "id": "55c0a7be-a7e1-43d9-b157-159cb2544966",
   "metadata": {},
   "outputs": [],
   "source": [
    "txt = \"     banana     \"\n",
    "\n",
    "x = txt.lstrip()\n",
    "\n",
    "print(\"of all fruits\", x, \"is my favorite\")"
   ]
  },
  {
   "cell_type": "code",
   "execution_count": 6,
   "id": "fe751f7d-f804-4c83-8a0b-cfa805369e1f",
   "metadata": {},
   "outputs": [
    {
     "name": "stdout",
     "output_type": "stream",
     "text": [
      "of all fruits banana      is my favorite\n"
     ]
    }
   ],
   "source": [
    "txt = \"     banana     \"\n",
    "\n",
    "x = txt.lstrip()\n",
    "\n",
    "print(\"of all fruits\", x, \"is my favorite\")"
   ]
  },
  {
   "cell_type": "code",
   "execution_count": 8,
   "id": "b1f3afdc-9e91-4d3e-98c0-3ab41ed49bab",
   "metadata": {},
   "outputs": [
    {
     "name": "stdout",
     "output_type": "stream",
     "text": [
      "banana\n"
     ]
    }
   ],
   "source": [
    "txt = \",,,,,ssaaww.....banana\"\n",
    "\n",
    "x = txt.lstrip(\",.asw\")\n",
    "\n",
    "print(x)"
   ]
  },
  {
   "cell_type": "code",
   "execution_count": 10,
   "id": "4e637d38-477d-41e1-a5e3-e69ac32c2950",
   "metadata": {},
   "outputs": [],
   "source": [
    "fruits =['apple','banana','cherry']\n",
    "fruits.append(\"Orange\")"
   ]
  },
  {
   "cell_type": "markdown",
   "id": "1796d13b-18c2-419a-915e-64510f42d571",
   "metadata": {},
   "source": [
    "fruits"
   ]
  },
  {
   "cell_type": "markdown",
   "id": "0d010a2d-f3e1-4542-8720-0033813bdb7b",
   "metadata": {},
   "source": [
    "### Definition and Usage ###"
   ]
  },
  {
   "cell_type": "markdown",
   "id": "f1cb85c7-b7cd-4855-b80d-fc4ad3481c51",
   "metadata": {},
   "source": [
    "### The append() method appends an element to the end of the list ###"
   ]
  },
  {
   "cell_type": "markdown",
   "id": "3236496d-5126-4e75-a599-b7711ff89455",
   "metadata": {},
   "source": [
    "# Syntax #"
   ]
  },
  {
   "cell_type": "markdown",
   "id": "d354d530-9835-4ec3-bee3-8328ad320146",
   "metadata": {},
   "source": [
    "list.append(elment or variable) \n",
    "### list append syntax ###"
   ]
  },
  {
   "cell_type": "markdown",
   "id": "fd002b11-cebd-44ae-9a4c-f80f648f2d3c",
   "metadata": {},
   "source": [
    "### Parameter Values ###"
   ]
  },
  {
   "cell_type": "code",
   "execution_count": 14,
   "id": "20d8b302-f911-4a19-b7af-cbe3eaa8af4c",
   "metadata": {},
   "outputs": [],
   "source": [
    "a = [\"apple\", \"banana\", \"cherry\"]\n",
    "b = [\"Ford\", \"BMW\", \"Volvo\"]\n",
    "a.append(b)"
   ]
  },
  {
   "cell_type": "code",
   "execution_count": 15,
   "id": "1f3c6ea3-7f84-4216-93ec-627067bc4941",
   "metadata": {},
   "outputs": [
    {
     "data": {
      "text/plain": [
       "['apple', 'banana', 'cherry', ['Ford', 'BMW', 'Volvo']]"
      ]
     },
     "execution_count": 15,
     "metadata": {},
     "output_type": "execute_result"
    }
   ],
   "source": [
    "a"
   ]
  }
 ],
 "metadata": {
  "kernelspec": {
   "display_name": "Python 3 (ipykernel)",
   "language": "python",
   "name": "python3"
  },
  "language_info": {
   "codemirror_mode": {
    "name": "ipython",
    "version": 3
   },
   "file_extension": ".py",
   "mimetype": "text/x-python",
   "name": "python",
   "nbconvert_exporter": "python",
   "pygments_lexer": "ipython3",
   "version": "3.12.4"
  }
 },
 "nbformat": 4,
 "nbformat_minor": 5
}
