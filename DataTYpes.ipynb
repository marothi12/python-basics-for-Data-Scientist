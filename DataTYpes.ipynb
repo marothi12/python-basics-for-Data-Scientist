{
 "cells": [
  {
   "cell_type": "code",
   "execution_count": 1,
   "id": "db236bfd-b64c-496f-90c3-416cd88b99f7",
   "metadata": {},
   "outputs": [],
   "source": [
    "l = []"
   ]
  },
  {
   "cell_type": "code",
   "execution_count": 2,
   "id": "d835928f-387c-45a7-8604-70776a7c248e",
   "metadata": {},
   "outputs": [
    {
     "data": {
      "text/plain": [
       "list"
      ]
     },
     "execution_count": 2,
     "metadata": {},
     "output_type": "execute_result"
    }
   ],
   "source": [
    "type(l)"
   ]
  },
  {
   "cell_type": "code",
   "execution_count": 3,
   "id": "0218efa9-e389-49ec-94e6-442245de6d85",
   "metadata": {},
   "outputs": [],
   "source": [
    "l.append(10)\n",
    "l.append(20)\n",
    "l.append(30)"
   ]
  },
  {
   "cell_type": "code",
   "execution_count": 4,
   "id": "fc20654a-ad88-4d25-b611-74375772f83e",
   "metadata": {},
   "outputs": [
    {
     "data": {
      "text/plain": [
       "[10, 20, 30]"
      ]
     },
     "execution_count": 4,
     "metadata": {},
     "output_type": "execute_result"
    }
   ],
   "source": [
    "l"
   ]
  },
  {
   "cell_type": "code",
   "execution_count": 5,
   "id": "53fe1db5-ecb5-44b8-8e2d-9a18192b0471",
   "metadata": {},
   "outputs": [
    {
     "name": "stdout",
     "output_type": "stream",
     "text": [
      "<class 'tuple'>\n"
     ]
    }
   ],
   "source": [
    "a = 4,5\n",
    "print(type(a))"
   ]
  },
  {
   "cell_type": "code",
   "execution_count": 6,
   "id": "12cea31b-d742-414d-b2a8-5f357b34190e",
   "metadata": {},
   "outputs": [],
   "source": [
    "l2=l.copy()"
   ]
  },
  {
   "cell_type": "code",
   "execution_count": 7,
   "id": "58c5adcb-6ca5-4a14-9b44-58500e8e2eea",
   "metadata": {},
   "outputs": [
    {
     "data": {
      "text/plain": [
       "[10, 20, 30]"
      ]
     },
     "execution_count": 7,
     "metadata": {},
     "output_type": "execute_result"
    }
   ],
   "source": [
    "l2"
   ]
  },
  {
   "cell_type": "code",
   "execution_count": 8,
   "id": "b9c23439-c18c-45a6-ac34-5f3bea91c622",
   "metadata": {},
   "outputs": [
    {
     "name": "stdout",
     "output_type": "stream",
     "text": [
      "[10, 20, 30]\n"
     ]
    }
   ],
   "source": [
    "print(l)"
   ]
  },
  {
   "cell_type": "code",
   "execution_count": 9,
   "id": "cb6d8fca-907e-4f21-a82c-f4c734b24073",
   "metadata": {},
   "outputs": [
    {
     "name": "stdout",
     "output_type": "stream",
     "text": [
      "[10, 20, 30]\n"
     ]
    }
   ],
   "source": [
    "print(l2)"
   ]
  },
  {
   "cell_type": "code",
   "execution_count": 10,
   "id": "ae6bb161-cd96-417a-90ca-2206ff37208c",
   "metadata": {},
   "outputs": [],
   "source": [
    "l.append([1,2,3])"
   ]
  },
  {
   "cell_type": "code",
   "execution_count": 11,
   "id": "2c27bb0f-6bff-4988-917f-3c432ce20a30",
   "metadata": {},
   "outputs": [
    {
     "data": {
      "text/plain": [
       "[10, 20, 30, [1, 2, 3]]"
      ]
     },
     "execution_count": 11,
     "metadata": {},
     "output_type": "execute_result"
    }
   ],
   "source": [
    "l"
   ]
  },
  {
   "cell_type": "code",
   "execution_count": 12,
   "id": "8949fa60-efaf-4b03-ac90-3ed4db014939",
   "metadata": {},
   "outputs": [
    {
     "name": "stdout",
     "output_type": "stream",
     "text": [
      "5\n"
     ]
    }
   ],
   "source": [
    "a = 5\n",
    "print(a)"
   ]
  },
  {
   "cell_type": "code",
   "execution_count": 13,
   "id": "61dcc537-7265-433a-8024-32603f830730",
   "metadata": {},
   "outputs": [
    {
     "data": {
      "text/plain": [
       "1"
      ]
     },
     "execution_count": 13,
     "metadata": {},
     "output_type": "execute_result"
    }
   ],
   "source": [
    "l.count(10)"
   ]
  },
  {
   "cell_type": "code",
   "execution_count": 14,
   "id": "d9266947-9b18-48a8-b2fd-81cb105cddb1",
   "metadata": {},
   "outputs": [],
   "source": [
    "l.remove(10)"
   ]
  },
  {
   "cell_type": "code",
   "execution_count": 19,
   "id": "3b8cb607-f3c5-49e5-9fb6-41e6d161ce8f",
   "metadata": {},
   "outputs": [
    {
     "data": {
      "text/plain": [
       "[[1, 2, 3]]"
      ]
     },
     "execution_count": 19,
     "metadata": {},
     "output_type": "execute_result"
    }
   ],
   "source": [
    "l"
   ]
  },
  {
   "cell_type": "code",
   "execution_count": 16,
   "id": "9c1e7ec2-bc95-4f9e-9993-98e2ab4bf54f",
   "metadata": {},
   "outputs": [],
   "source": [
    "l.remove(20)"
   ]
  },
  {
   "cell_type": "code",
   "execution_count": 20,
   "id": "c58010ca-3b3b-4a63-982b-be7e2fcd60c4",
   "metadata": {},
   "outputs": [
    {
     "data": {
      "text/plain": [
       "[[1, 2, 3]]"
      ]
     },
     "execution_count": 20,
     "metadata": {},
     "output_type": "execute_result"
    }
   ],
   "source": [
    "l"
   ]
  },
  {
   "cell_type": "code",
   "execution_count": 21,
   "id": "43dcb907-a705-489e-b327-e0f4617b2040",
   "metadata": {},
   "outputs": [
    {
     "ename": "ValueError",
     "evalue": "list.remove(x): x not in list",
     "output_type": "error",
     "traceback": [
      "\u001b[1;31m---------------------------------------------------------------------------\u001b[0m",
      "\u001b[1;31mValueError\u001b[0m                                Traceback (most recent call last)",
      "Cell \u001b[1;32mIn[21], line 1\u001b[0m\n\u001b[1;32m----> 1\u001b[0m \u001b[43ml\u001b[49m\u001b[38;5;241;43m.\u001b[39;49m\u001b[43mremove\u001b[49m\u001b[43m(\u001b[49m\u001b[38;5;241;43m30\u001b[39;49m\u001b[43m)\u001b[49m\n",
      "\u001b[1;31mValueError\u001b[0m: list.remove(x): x not in list"
     ]
    }
   ],
   "source": [
    "l.remove(30)"
   ]
  },
  {
   "cell_type": "code",
   "execution_count": 23,
   "id": "478f6d8f-0b9e-4c75-87d8-1cd7ddbfbec8",
   "metadata": {},
   "outputs": [
    {
     "data": {
      "text/plain": [
       "[[1, 2, 3]]"
      ]
     },
     "execution_count": 23,
     "metadata": {},
     "output_type": "execute_result"
    }
   ],
   "source": [
    "l"
   ]
  },
  {
   "cell_type": "code",
   "execution_count": 25,
   "id": "6b6880af-64e0-4a96-acab-9729aaa96cf2",
   "metadata": {},
   "outputs": [],
   "source": [
    "l=l2.copy()"
   ]
  },
  {
   "cell_type": "code",
   "execution_count": 27,
   "id": "3f1b948e-6ace-4c7f-a957-c1444e0a7d02",
   "metadata": {},
   "outputs": [
    {
     "data": {
      "text/plain": [
       "[10, 20, 30]"
      ]
     },
     "execution_count": 27,
     "metadata": {},
     "output_type": "execute_result"
    }
   ],
   "source": [
    "l"
   ]
  },
  {
   "cell_type": "code",
   "execution_count": 29,
   "id": "d0e88bd2-e0bd-4d97-845e-9d123eb0330a",
   "metadata": {},
   "outputs": [
    {
     "data": {
      "text/plain": [
       "[10, 20, 30]"
      ]
     },
     "execution_count": 29,
     "metadata": {},
     "output_type": "execute_result"
    }
   ],
   "source": [
    "l2"
   ]
  },
  {
   "cell_type": "code",
   "execution_count": 31,
   "id": "467b3d30-34da-4122-b6f7-304f0a74f5aa",
   "metadata": {},
   "outputs": [
    {
     "data": {
      "text/plain": [
       "20"
      ]
     },
     "execution_count": 31,
     "metadata": {},
     "output_type": "execute_result"
    }
   ],
   "source": [
    "l2.pop()"
   ]
  },
  {
   "cell_type": "code",
   "execution_count": 33,
   "id": "b4a40d41-ebec-46ce-b608-6df722f1a95c",
   "metadata": {},
   "outputs": [
    {
     "data": {
      "text/plain": [
       "[10]"
      ]
     },
     "execution_count": 33,
     "metadata": {},
     "output_type": "execute_result"
    }
   ],
   "source": [
    "l2"
   ]
  },
  {
   "cell_type": "code",
   "execution_count": 35,
   "id": "04791dd7-3546-47cd-bb6b-bf8fb94b65b3",
   "metadata": {},
   "outputs": [
    {
     "data": {
      "text/plain": [
       "20"
      ]
     },
     "execution_count": 35,
     "metadata": {},
     "output_type": "execute_result"
    }
   ],
   "source": [
    "l.pop()"
   ]
  },
  {
   "cell_type": "code",
   "execution_count": 37,
   "id": "3f812507-ffe6-4720-a4b5-56941337f948",
   "metadata": {},
   "outputs": [
    {
     "data": {
      "text/plain": [
       "[10]"
      ]
     },
     "execution_count": 37,
     "metadata": {},
     "output_type": "execute_result"
    }
   ],
   "source": [
    "l"
   ]
  },
  {
   "cell_type": "code",
   "execution_count": 39,
   "id": "5d555f6c-80d1-47fe-bd12-508db380e7b4",
   "metadata": {},
   "outputs": [],
   "source": [
    "l7=[]"
   ]
  },
  {
   "cell_type": "code",
   "execution_count": 49,
   "id": "b10a1220-c498-445f-95d6-af852e115374",
   "metadata": {},
   "outputs": [],
   "source": [
    "l8=[1,2,3,4]\n"
   ]
  },
  {
   "cell_type": "code",
   "execution_count": 51,
   "id": "a1d97967-180d-4361-bf01-ebbdd2713a65",
   "metadata": {},
   "outputs": [],
   "source": [
    "l9=[4,5,6]"
   ]
  },
  {
   "cell_type": "code",
   "execution_count": 53,
   "id": "232228f8-f8b7-44ac-a750-c833ac15e400",
   "metadata": {},
   "outputs": [],
   "source": [
    "l8.extend(l9)"
   ]
  },
  {
   "cell_type": "code",
   "execution_count": 55,
   "id": "c859bff4-7b48-4e09-8208-e7277913094a",
   "metadata": {},
   "outputs": [
    {
     "data": {
      "text/plain": [
       "[1, 2, 3, 4, 4, 5, 6, 4, 5, 6]"
      ]
     },
     "execution_count": 55,
     "metadata": {},
     "output_type": "execute_result"
    }
   ],
   "source": [
    "l8"
   ]
  },
  {
   "cell_type": "code",
   "execution_count": 57,
   "id": "0fd9cde0-0f9e-4898-af09-b166d9eaa2fb",
   "metadata": {},
   "outputs": [
    {
     "data": {
      "text/plain": [
       "[4, 5, 6]"
      ]
     },
     "execution_count": 57,
     "metadata": {},
     "output_type": "execute_result"
    }
   ],
   "source": [
    "l9"
   ]
  },
  {
   "cell_type": "code",
   "execution_count": 59,
   "id": "00996905-8a55-4ff2-a100-db33a53f75f5",
   "metadata": {},
   "outputs": [
    {
     "data": {
      "text/plain": [
       "[1, 2, 3, 4, 4, 5, 6, 4, 5, 6]"
      ]
     },
     "execution_count": 59,
     "metadata": {},
     "output_type": "execute_result"
    }
   ],
   "source": [
    "l8"
   ]
  },
  {
   "cell_type": "code",
   "execution_count": 61,
   "id": "c2874c75-a767-44b4-a044-f1d120718170",
   "metadata": {},
   "outputs": [],
   "source": [
    "l9.extend(l8)"
   ]
  },
  {
   "cell_type": "code",
   "execution_count": 63,
   "id": "20b110e3-ad85-49e7-9204-87077a956b0b",
   "metadata": {},
   "outputs": [
    {
     "data": {
      "text/plain": [
       "[4, 5, 6, 1, 2, 3, 4, 4, 5, 6, 4, 5, 6, 1, 2, 3, 4, 4, 5, 6, 4, 5, 6]"
      ]
     },
     "execution_count": 63,
     "metadata": {},
     "output_type": "execute_result"
    }
   ],
   "source": [
    "l9"
   ]
  },
  {
   "cell_type": "code",
   "execution_count": null,
   "id": "999fdf21-d025-4274-9f42-1983fede8c6e",
   "metadata": {},
   "outputs": [],
   "source": []
  }
 ],
 "metadata": {
  "kernelspec": {
   "display_name": "Python 3 (ipykernel)",
   "language": "python",
   "name": "python3"
  },
  "language_info": {
   "codemirror_mode": {
    "name": "ipython",
    "version": 3
   },
   "file_extension": ".py",
   "mimetype": "text/x-python",
   "name": "python",
   "nbconvert_exporter": "python",
   "pygments_lexer": "ipython3",
   "version": "3.12.4"
  }
 },
 "nbformat": 4,
 "nbformat_minor": 5
}
