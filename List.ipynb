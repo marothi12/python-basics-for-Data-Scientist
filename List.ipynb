{
 "cells": [
  {
   "cell_type": "markdown",
   "id": "584806ac-f8c2-4676-905a-3b1be1a62142",
   "metadata": {},
   "source": [
    "### Python ###"
   ]
  },
  {
   "cell_type": "code",
   "execution_count": 2,
   "id": "5b48e236-e37d-4ff5-890a-b1a9ab49b4b5",
   "metadata": {},
   "outputs": [
    {
     "data": {
      "text/plain": [
       "30"
      ]
     },
     "execution_count": 2,
     "metadata": {},
     "output_type": "execute_result"
    }
   ],
   "source": [
    "a=20\n",
    "b=30\n",
    "a\n",
    "b"
   ]
  },
  {
   "cell_type": "code",
   "execution_count": 4,
   "id": "cb65e853-c327-4af1-98e1-5f24c3491633",
   "metadata": {},
   "outputs": [
    {
     "name": "stdout",
     "output_type": "stream",
     "text": [
      "20\n",
      "30\n"
     ]
    }
   ],
   "source": [
    "a=20\n",
    "b=30\n",
    "print(a)\n",
    "print(b)"
   ]
  },
  {
   "cell_type": "code",
   "execution_count": 6,
   "id": "cdb859fd-5065-46d4-a91f-54e4387d50fd",
   "metadata": {},
   "outputs": [
    {
     "name": "stdout",
     "output_type": "stream",
     "text": [
      "20\n",
      "20 30\n",
      "python\n",
      "20 30 python\n"
     ]
    }
   ],
   "source": [
    "print(20)\n",
    "print(20,30)\n",
    "print('python')\n",
    "print(20,30,'python')\n"
   ]
  },
  {
   "cell_type": "code",
   "execution_count": 8,
   "id": "7dbe8c12-6b4c-4684-907a-e58b3c96942a",
   "metadata": {},
   "outputs": [
    {
     "name": "stdout",
     "output_type": "stream",
     "text": [
      "20\n"
     ]
    }
   ],
   "source": [
    "print(a)"
   ]
  },
  {
   "cell_type": "code",
   "execution_count": 10,
   "id": "4498ee4f-6a78-4b06-a4a7-20968eb7b0da",
   "metadata": {},
   "outputs": [
    {
     "name": "stdout",
     "output_type": "stream",
     "text": [
      "140708383505432\n"
     ]
    }
   ],
   "source": [
    "print(id(a))"
   ]
  },
  {
   "cell_type": "code",
   "execution_count": 12,
   "id": "98dd2af1-04b7-453f-8ab2-4d80a88fee3c",
   "metadata": {},
   "outputs": [
    {
     "name": "stdout",
     "output_type": "stream",
     "text": [
      "python\n"
     ]
    }
   ],
   "source": [
    "print('python')"
   ]
  },
  {
   "cell_type": "code",
   "execution_count": 1,
   "id": "0e044195-f9c7-4f40-aff8-b99a3dda7cf8",
   "metadata": {},
   "outputs": [
    {
     "name": "stdout",
     "output_type": "stream",
     "text": [
      "20\n"
     ]
    }
   ],
   "source": [
    "num1=5\n",
    "num2=15\n",
    "add=num1+num2\n",
    "print(add)"
   ]
  },
  {
   "cell_type": "code",
   "execution_count": 3,
   "id": "39f3a352-9566-4bc8-9aee-1fa78c733078",
   "metadata": {},
   "outputs": [
    {
     "name": "stdout",
     "output_type": "stream",
     "text": [
      "20\n"
     ]
    },
    {
     "data": {
      "text/plain": [
       "20"
      ]
     },
     "execution_count": 3,
     "metadata": {},
     "output_type": "execute_result"
    }
   ],
   "source": [
    "num1=10\n",
    "num2=15\n",
    "print(add)\n",
    "20\n",
    "\n"
   ]
  },
  {
   "cell_type": "code",
   "execution_count": 19,
   "id": "1c1364da-998c-4619-807f-86d5d0da410e",
   "metadata": {},
   "outputs": [
    {
     "name": "stdout",
     "output_type": "stream",
     "text": [
      "20\n"
     ]
    }
   ],
   "source": [
    "num1=5\n",
    "num2=15\n",
    "add=num1+num2\n",
    "print(add)"
   ]
  },
  {
   "cell_type": "code",
   "execution_count": null,
   "id": "ed3239fc-b3f8-424d-ba02-f83a4510403d",
   "metadata": {},
   "outputs": [],
   "source": [
    "num1=5\n",
    "num2=5\n",
    "num3=10\n",
    "sub=num1-num2-num3\n",
    "print(sub)"
   ]
  },
  {
   "cell_type": "code",
   "execution_count": 24,
   "id": "4c6b1399-39e8-477b-a732-d1a908c6f8f3",
   "metadata": {},
   "outputs": [
    {
     "name": "stdout",
     "output_type": "stream",
     "text": [
      "140708383504952\n"
     ]
    }
   ],
   "source": [
    "print(id(num1))"
   ]
  },
  {
   "cell_type": "markdown",
   "id": "e6e2a529-a5bf-4987-88f1-b447d61de516",
   "metadata": {},
   "source": [
    "### print result  with string ###"
   ]
  },
  {
   "cell_type": "code",
   "execution_count": 26,
   "id": "71dde62b-62e7-4599-8413-05ebfd5e4bd0",
   "metadata": {},
   "outputs": [
    {
     "name": "stdout",
     "output_type": "stream",
     "text": [
      "The addition of 10 and 20 is= 30\n"
     ]
    }
   ],
   "source": [
    "num1=10\n",
    "num2=20\n",
    "add=num1+num2\n",
    "print('The addition of',num1,'and',num2,'is=',add)"
   ]
  },
  {
   "cell_type": "code",
   "execution_count": 27,
   "id": "920e370c-5522-4dfd-ad52-da6be2853dc5",
   "metadata": {},
   "outputs": [],
   "source": [
    "name= 'devil'\n",
    "age=20\n",
    "city='delhi'\n"
   ]
  },
  {
   "cell_type": "code",
   "execution_count": 29,
   "id": "02f0b12f-6f81-4f66-b759-5da26bb11259",
   "metadata": {},
   "outputs": [
    {
     "name": "stdout",
     "output_type": "stream",
     "text": [
      "My name is  devil and i am  20 years old and i am from delhi\n"
     ]
    }
   ],
   "source": [
    "print('My name is ',name,'and i am ',age,'years old and i am from',city,)"
   ]
  },
  {
   "cell_type": "markdown",
   "id": "6a467616-57cb-479f-a535-b82a316c65fc",
   "metadata": {},
   "source": [
    "### print format method ###"
   ]
  },
  {
   "cell_type": "code",
   "execution_count": 35,
   "id": "8d834960-34c9-49e0-aa0b-3e5a819fbf70",
   "metadata": {},
   "outputs": [
    {
     "name": "stdout",
     "output_type": "stream",
     "text": [
      "The addition of 10  and 20 is=10 \n"
     ]
    }
   ],
   "source": [
    "num1=10\n",
    "num2=20\n",
    "add=num1+num2\n",
    "print('The addition of {}  and {} is={} '.format(num1,num2,num3,add))"
   ]
  },
  {
   "cell_type": "code",
   "execution_count": 40,
   "id": "b68fb77f-ff03-4a2f-81fa-4ded10cf8c3d",
   "metadata": {},
   "outputs": [
    {
     "name": "stdout",
     "output_type": "stream",
     "text": [
      "The avg of 100,150,and 200is=150.0 or 150.0\n"
     ]
    }
   ],
   "source": [
    "num1=100\n",
    "num2=150\n",
    "num3=200\n",
    "avg=(num1+num2+num3)/3\n",
    "avg1=round((num1+num2+num3)/3,2)\n",
    "print('The avg of {},{},and {}is={} or {}'.format(num1,num2,num3,avg,avg1))"
   ]
  },
  {
   "cell_type": "code",
   "execution_count": 42,
   "id": "3fcbec87-c20e-44eb-bd5d-56290bbe87fb",
   "metadata": {},
   "outputs": [
    {
     "data": {
      "text/plain": [
       "150.0"
      ]
     },
     "execution_count": 42,
     "metadata": {},
     "output_type": "execute_result"
    }
   ],
   "source": [
    "round(avg,2)"
   ]
  },
  {
   "cell_type": "code",
   "execution_count": 44,
   "id": "798cc991-6c3f-404e-8e41-7734e9a89a92",
   "metadata": {},
   "outputs": [
    {
     "name": "stdout",
     "output_type": "stream",
     "text": [
      "The Sub of 10 and 20 is =30\n"
     ]
    }
   ],
   "source": [
    "num1=10\n",
    "num2=20\n",
    "sub=num1+num2\n",
    "print(f'The Sub of {num1} and {num2} is ={sub}')"
   ]
  },
  {
   "cell_type": "code",
   "execution_count": 46,
   "id": "6332b38d-1acd-42a6-b2a4-6a7bde252633",
   "metadata": {},
   "outputs": [],
   "source": [
    "num1=100\n",
    "num2=200\n",
    "add=num1+num2\n",
    "avg=round((num1+num2+num3)/3,2)"
   ]
  },
  {
   "cell_type": "code",
   "execution_count": 50,
   "id": "c2d05bcf-a1e2-42ca-a2fc-554a465617f0",
   "metadata": {},
   "outputs": [
    {
     "name": "stdout",
     "output_type": "stream",
     "text": [
      "The avg of 100,200,and200 is =166.67\n"
     ]
    }
   ],
   "source": [
    "print(f'The avg of {num1},{num2},and{num3} is ={avg}')"
   ]
  },
  {
   "cell_type": "code",
   "execution_count": 52,
   "id": "b0ca4898-3051-466a-a450-b732f4c631cc",
   "metadata": {},
   "outputs": [
    {
     "data": {
      "text/plain": [
       "166.67"
      ]
     },
     "execution_count": 52,
     "metadata": {},
     "output_type": "execute_result"
    }
   ],
   "source": [
    "round(avg,2)"
   ]
  },
  {
   "cell_type": "code",
   "execution_count": 57,
   "id": "683a43f5-fc5a-4a6c-98c2-952787499790",
   "metadata": {},
   "outputs": [
    {
     "name": "stdout",
     "output_type": "stream",
     "text": [
      "The add of  50 and 100 is 150\n",
      "The add of  50 and 100 is 150\n",
      "The add of 50 and 100  is=150\n"
     ]
    }
   ],
   "source": [
    "num1=50\n",
    "num2=100\n",
    "add=num1+num2\n",
    "print('The add of ',num1,'and',num2,'is',add)\n",
    "print('The add of ',num1,'and',num2,'is',add)\n",
    "print(f'The add of {num1} and {num2}  is={add}')"
   ]
  },
  {
   "cell_type": "markdown",
   "id": "a793fe94-b279-44b2-85d2-60a045bcf346",
   "metadata": {},
   "source": [
    "### end statement ###"
   ]
  },
  {
   "cell_type": "code",
   "execution_count": 59,
   "id": "cb63fe36-ab88-47b4-8859-ce917025d20b",
   "metadata": {},
   "outputs": [
    {
     "name": "stdout",
     "output_type": "stream",
     "text": [
      "hello\n",
      "good morning\n"
     ]
    }
   ],
   "source": [
    "print('hello')\n",
    "print('good morning')"
   ]
  },
  {
   "cell_type": "code",
   "execution_count": 61,
   "id": "73806364-e730-47f3-9431-5df98696013d",
   "metadata": {},
   "outputs": [
    {
     "name": "stdout",
     "output_type": "stream",
     "text": [
      "hellowelcome to my world\n"
     ]
    }
   ],
   "source": [
    "print('hello',end='')\n",
    "print('welcome to my world')"
   ]
  },
  {
   "cell_type": "markdown",
   "id": "ebe78421-07f2-419a-aa87-ae4c01d5de7c",
   "metadata": {},
   "source": [
    "### Separator ###"
   ]
  },
  {
   "cell_type": "code",
   "execution_count": 63,
   "id": "36461f4c-409f-474b-982b-e5b3c4184fe6",
   "metadata": {},
   "outputs": [
    {
     "name": "stdout",
     "output_type": "stream",
     "text": [
      "hello--->hai--->welcome,how are  you\n"
     ]
    }
   ],
   "source": [
    "print('hello','hai','welcome,how are  you',sep='--->')"
   ]
  },
  {
   "cell_type": "code",
   "execution_count": null,
   "id": "a4ea3f29-93f1-4837-ae1c-5215078f1a02",
   "metadata": {},
   "outputs": [],
   "source": [
    "print('')"
   ]
  }
 ],
 "metadata": {
  "kernelspec": {
   "display_name": "Python 3 (ipykernel)",
   "language": "python",
   "name": "python3"
  },
  "language_info": {
   "codemirror_mode": {
    "name": "ipython",
    "version": 3
   },
   "file_extension": ".py",
   "mimetype": "text/x-python",
   "name": "python",
   "nbconvert_exporter": "python",
   "pygments_lexer": "ipython3",
   "version": "3.12.4"
  }
 },
 "nbformat": 4,
 "nbformat_minor": 5
}
