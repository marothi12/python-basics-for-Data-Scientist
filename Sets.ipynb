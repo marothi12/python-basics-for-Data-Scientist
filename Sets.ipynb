{
 "cells": [
  {
   "cell_type": "markdown",
   "id": "70c81df3-e60e-4c06-b791-65f0f8e143fc",
   "metadata": {},
   "source": [
    "### Sets in Python ###"
   ]
  },
  {
   "cell_type": "code",
   "execution_count": 2,
   "id": "27a51a7f-7062-4c88-8f89-c16816ff4eb9",
   "metadata": {},
   "outputs": [
    {
     "name": "stdout",
     "output_type": "stream",
     "text": [
      "<class 'dict'>\n"
     ]
    }
   ],
   "source": [
    "thisset={}\n",
    "print(type(thisset))"
   ]
  },
  {
   "cell_type": "code",
   "execution_count": 4,
   "id": "fce39b19-3f9d-4e0d-b7dd-ba6878afe9eb",
   "metadata": {},
   "outputs": [
    {
     "name": "stdout",
     "output_type": "stream",
     "text": [
      "<class 'set'>\n"
     ]
    }
   ],
   "source": [
    "thisset=set({})\n",
    "print(type(thisset))"
   ]
  },
  {
   "cell_type": "code",
   "execution_count": 6,
   "id": "21bde618-b577-41b8-b3c3-8bbddc146fff",
   "metadata": {},
   "outputs": [
    {
     "name": "stdout",
     "output_type": "stream",
     "text": [
      "{'banana', 'guava', 'Grapes', 'apple'}\n"
     ]
    }
   ],
   "source": [
    "thiset={\"apple\",\"banana\",\"Grapes\",\"guava\"}\n",
    "print(thiset)"
   ]
  },
  {
   "cell_type": "code",
   "execution_count": 8,
   "id": "c1a7a1d0-9364-4de7-a2d9-62bd48df2514",
   "metadata": {},
   "outputs": [
    {
     "data": {
      "text/plain": [
       "{'Grapes', 'apple', 'banana', 'guava'}"
      ]
     },
     "execution_count": 8,
     "metadata": {},
     "output_type": "execute_result"
    }
   ],
   "source": [
    "thiset"
   ]
  },
  {
   "cell_type": "markdown",
   "id": "8a7cf99d-d4f1-4028-b203-3f4b9bd36a6f",
   "metadata": {},
   "source": [
    "### Duplicates Not Allowed ###"
   ]
  },
  {
   "cell_type": "code",
   "execution_count": 10,
   "id": "1b4345f8-2a92-4e7c-adb9-24f6f55a12b0",
   "metadata": {},
   "outputs": [
    {
     "name": "stdout",
     "output_type": "stream",
     "text": [
      "{1, 2, 3, 4, 5}\n"
     ]
    }
   ],
   "source": [
    "thisset={1,2,3,4,5,3,2,1}\n",
    "print(thisset)"
   ]
  },
  {
   "cell_type": "code",
   "execution_count": 12,
   "id": "a897c7dd-f1d5-4fe3-9290-e6799d384079",
   "metadata": {},
   "outputs": [
    {
     "name": "stdout",
     "output_type": "stream",
     "text": [
      "{'banana', 'guava', 'sapota', 'apple'}\n"
     ]
    }
   ],
   "source": [
    "thisset={\"apple\",\"banana\",\"guava\",\"sapota\",\"apple\"}\n",
    "print(thisset)"
   ]
  },
  {
   "cell_type": "markdown",
   "id": "7146a1eb-329f-420c-84b2-5700f1aef3d5",
   "metadata": {},
   "source": [
    "### The values True and 1 are considered the  same and treated as duplicates ###"
   ]
  },
  {
   "cell_type": "markdown",
   "id": "9abc4b50-9db3-4558-9cbf-c0c3c4358252",
   "metadata": {},
   "source": [
    "### Add Sets ###"
   ]
  },
  {
   "cell_type": "code",
   "execution_count": 14,
   "id": "13ce2071-8a92-4597-bd93-23129c7dd562",
   "metadata": {},
   "outputs": [
    {
     "name": "stdout",
     "output_type": "stream",
     "text": [
      "{'a', 'g', 'f', 'c', 'b', 'e', 'h', 'd'}\n"
     ]
    }
   ],
   "source": [
    "thiset={\"a\",\"b\",\"c\",\"d\"}\n",
    "set2={\"e\",\"f\",\"g\",\"h\"}\n",
    "thiset.update(set2)\n",
    "print(thiset)"
   ]
  },
  {
   "cell_type": "markdown",
   "id": "3ab2d055-f878-4bc2-bc4d-680b7fbd7269",
   "metadata": {},
   "source": [
    "### REmove Set Items ### "
   ]
  },
  {
   "cell_type": "markdown",
   "id": "ebe69dea-747c-449a-86b7-080b12528396",
   "metadata": {},
   "source": [
    "### by using the remove() method ### "
   ]
  },
  {
   "cell_type": "code",
   "execution_count": 16,
   "id": "6f2ba7d5-8a65-480d-b2bb-459e94cd3d04",
   "metadata": {},
   "outputs": [
    {
     "name": "stdout",
     "output_type": "stream",
     "text": [
      "{'apples', 'grapes', 'banna'}\n"
     ]
    }
   ],
   "source": [
    "thiset={\"apples\",\"banna\",\"grapes\"}\n",
    "thiset.discard(\"orange\")\n",
    "print(thiset)"
   ]
  },
  {
   "cell_type": "code",
   "execution_count": 20,
   "id": "38d99ba7-4ebd-4635-b628-48363ece1128",
   "metadata": {},
   "outputs": [
    {
     "ename": "TypeError",
     "evalue": "set.pop() takes no arguments (1 given)",
     "output_type": "error",
     "traceback": [
      "\u001b[1;31m---------------------------------------------------------------------------\u001b[0m",
      "\u001b[1;31mTypeError\u001b[0m                                 Traceback (most recent call last)",
      "Cell \u001b[1;32mIn[20], line 1\u001b[0m\n\u001b[1;32m----> 1\u001b[0m thiset\u001b[38;5;241m.\u001b[39mpop(\u001b[38;5;241m1\u001b[39m)\n",
      "\u001b[1;31mTypeError\u001b[0m: set.pop() takes no arguments (1 given)"
     ]
    }
   ],
   "source": [
    "thiset.pop(1)"
   ]
  },
  {
   "cell_type": "code",
   "execution_count": 21,
   "id": "b9686fd0-b7ac-48d7-88b7-7d19828fb80b",
   "metadata": {},
   "outputs": [
    {
     "data": {
      "text/plain": [
       "{'apples', 'banna', 'grapes'}"
      ]
     },
     "execution_count": 21,
     "metadata": {},
     "output_type": "execute_result"
    }
   ],
   "source": [
    "thiset"
   ]
  },
  {
   "cell_type": "code",
   "execution_count": 23,
   "id": "51c64a8e-4e11-4530-a262-23300c42618a",
   "metadata": {},
   "outputs": [],
   "source": [
    "thiset.clear()"
   ]
  },
  {
   "cell_type": "code",
   "execution_count": 25,
   "id": "cbd2c6e4-f7f5-470a-b48e-f12d37a1cbe2",
   "metadata": {},
   "outputs": [
    {
     "data": {
      "text/plain": [
       "set()"
      ]
     },
     "execution_count": 25,
     "metadata": {},
     "output_type": "execute_result"
    }
   ],
   "source": [
    "thiset"
   ]
  },
  {
   "cell_type": "code",
   "execution_count": 27,
   "id": "1e14d3a3-68bb-4821-83ef-47b525a998c7",
   "metadata": {},
   "outputs": [
    {
     "data": {
      "text/plain": [
       "{'a', 'b', 'c', 'd', 'e', 'f', 'g'}"
      ]
     },
     "execution_count": 27,
     "metadata": {},
     "output_type": "execute_result"
    }
   ],
   "source": [
    "thiset={\"a\",\"b\",\"c\",\"d\"}\n",
    "set2={\"e\",\"f\",\"g\"}\n",
    "thiset.union(set2)"
   ]
  },
  {
   "cell_type": "markdown",
   "id": "c6af7d30-32d1-4062-a738-87f7d6e58a5d",
   "metadata": {},
   "source": [
    "### Updated Method ###"
   ]
  },
  {
   "cell_type": "code",
   "execution_count": 29,
   "id": "d9d63169-873b-4355-a534-d233f52f0d4c",
   "metadata": {},
   "outputs": [
    {
     "name": "stdout",
     "output_type": "stream",
     "text": [
      "{'e', 'a', 'g', 'f', 'b', 'c', 'd'}\n"
     ]
    }
   ],
   "source": [
    "thiset={\"a\",\"b\",\"c\",\"d\"}\n",
    "set2={\"e\",\"f\",\"g\"}\n",
    "thiset.update(set2)\n",
    "print(thiset)"
   ]
  },
  {
   "cell_type": "markdown",
   "id": "0442957c-4f62-43b8-bb2d-63431f455d61",
   "metadata": {},
   "source": [
    "### Join Mutiple Sets ###"
   ]
  },
  {
   "cell_type": "code",
   "execution_count": 31,
   "id": "1681d650-db01-4b21-bd7f-58ff9ad10e46",
   "metadata": {},
   "outputs": [
    {
     "data": {
      "text/plain": [
       "{'a', 'b', 'c', 'd', 'e', 'f'}"
      ]
     },
     "execution_count": 31,
     "metadata": {},
     "output_type": "execute_result"
    }
   ],
   "source": [
    "set1 = {\"a\",\"b\"}\n",
    "set2 = {\"c\",\"d\"}\n",
    "set3 = {\"e\",\"f\"}\n",
    "set1.union(set2,set3)"
   ]
  },
  {
   "cell_type": "code",
   "execution_count": null,
   "id": "0d3b65a3-7c81-4a06-b233-039fc2de3dbd",
   "metadata": {},
   "outputs": [],
   "source": []
  }
 ],
 "metadata": {
  "kernelspec": {
   "display_name": "Python 3 (ipykernel)",
   "language": "python",
   "name": "python3"
  },
  "language_info": {
   "codemirror_mode": {
    "name": "ipython",
    "version": 3
   },
   "file_extension": ".py",
   "mimetype": "text/x-python",
   "name": "python",
   "nbconvert_exporter": "python",
   "pygments_lexer": "ipython3",
   "version": "3.12.4"
  }
 },
 "nbformat": 4,
 "nbformat_minor": 5
}
