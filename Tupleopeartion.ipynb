{
 "cells": [
  {
   "cell_type": "markdown",
   "id": "711e9624-b4b5-4135-84d9-a428e13fbfa9",
   "metadata": {},
   "source": [
    "### Python Tuple ###"
   ]
  },
  {
   "cell_type": "code",
   "execution_count": 2,
   "id": "c7bbe04e-d9bc-48e3-9d3e-cc023718c881",
   "metadata": {},
   "outputs": [
    {
     "data": {
      "text/plain": [
       "{'apple', 'banna', 'cherry'}"
      ]
     },
     "execution_count": 2,
     "metadata": {},
     "output_type": "execute_result"
    }
   ],
   "source": [
    "thistuple={\"apple\",\"banna\",\"cherry\"}\n",
    "thistuple"
   ]
  },
  {
   "cell_type": "code",
   "execution_count": 4,
   "id": "ef817d6a-82c1-4013-acc8-43e803d51f8c",
   "metadata": {},
   "outputs": [
    {
     "data": {
      "text/plain": [
       "('b', 'd', 'c', 'a', 'e')"
      ]
     },
     "execution_count": 4,
     "metadata": {},
     "output_type": "execute_result"
    }
   ],
   "source": [
    "thistuple=(\"b\",\"d\",\"c\",\"a\",\"e\")\n",
    "thistuple"
   ]
  },
  {
   "cell_type": "code",
   "execution_count": 6,
   "id": "949029a9-03d0-4619-b741-eb37601310ec",
   "metadata": {},
   "outputs": [
    {
     "data": {
      "text/plain": [
       "5"
      ]
     },
     "execution_count": 6,
     "metadata": {},
     "output_type": "execute_result"
    }
   ],
   "source": [
    "len(thistuple)"
   ]
  },
  {
   "cell_type": "markdown",
   "id": "c3a01314-54d0-4db7-b26b-4019e3126089",
   "metadata": {},
   "source": [
    "### Create Tuple with One Item ###"
   ]
  },
  {
   "cell_type": "code",
   "execution_count": 8,
   "id": "3ca0f402-91f0-4fae-a894-d3c9e71932de",
   "metadata": {},
   "outputs": [
    {
     "data": {
      "text/plain": [
       "str"
      ]
     },
     "execution_count": 8,
     "metadata": {},
     "output_type": "execute_result"
    }
   ],
   "source": [
    "thistuple=(\"apple\")\n",
    "type(thistuple)"
   ]
  },
  {
   "cell_type": "code",
   "execution_count": 10,
   "id": "79307371-bd81-4a05-b31a-0516a1514227",
   "metadata": {},
   "outputs": [
    {
     "data": {
      "text/plain": [
       "str"
      ]
     },
     "execution_count": 10,
     "metadata": {},
     "output_type": "execute_result"
    }
   ],
   "source": [
    "thistuple=(\"apple\")\n",
    "type(thistuple)"
   ]
  },
  {
   "cell_type": "markdown",
   "id": "17ef0516-2b4a-49b6-b090-285a30164a7c",
   "metadata": {},
   "source": [
    "### Tuple items can be of any data type ###"
   ]
  },
  {
   "cell_type": "code",
   "execution_count": 18,
   "id": "f112d09a-f7e4-42c1-bdb5-e9710f19183d",
   "metadata": {},
   "outputs": [],
   "source": [
    "tuple1=(\"apple\",\"banna\",\"cherry\")\n",
    "tuple2=(1,5,7,9,3)\n",
    "tuple3=(True,False,False)"
   ]
  },
  {
   "cell_type": "code",
   "execution_count": 20,
   "id": "d1f66dfe-c377-458d-880e-a13a07d2cf35",
   "metadata": {},
   "outputs": [
    {
     "name": "stdout",
     "output_type": "stream",
     "text": [
      "('apple', 'banna', 'cherry')\n",
      "(1, 5, 7, 9, 3)\n",
      "(True, False, False)\n"
     ]
    }
   ],
   "source": [
    "print(tuple1)\n",
    "print(tuple2)\n",
    "print(tuple3)"
   ]
  },
  {
   "cell_type": "code",
   "execution_count": 22,
   "id": "60685775-2e33-4027-af92-7fd91ed590c8",
   "metadata": {},
   "outputs": [
    {
     "data": {
      "text/plain": [
       "bool"
      ]
     },
     "execution_count": 22,
     "metadata": {},
     "output_type": "execute_result"
    }
   ],
   "source": [
    "type(True)"
   ]
  },
  {
   "cell_type": "code",
   "execution_count": 26,
   "id": "7c077f39-df51-4ab9-82f6-ed40b0ed41c3",
   "metadata": {},
   "outputs": [
    {
     "name": "stdout",
     "output_type": "stream",
     "text": [
      "<class 'tuple'>\n"
     ]
    }
   ],
   "source": [
    "print(type(tuple1))"
   ]
  },
  {
   "cell_type": "markdown",
   "id": "19ab8aba-a042-4e0d-9cee-fadb639845e3",
   "metadata": {},
   "source": [
    "### tuple() Consgtructor  ###"
   ]
  },
  {
   "cell_type": "code",
   "execution_count": 30,
   "id": "16806be7-964c-4d9d-8b30-354fe4363c31",
   "metadata": {},
   "outputs": [
    {
     "name": "stdout",
     "output_type": "stream",
     "text": [
      "('apple', 'Orange', 'Carrot')\n",
      "<class 'tuple'>\n"
     ]
    }
   ],
   "source": [
    "# Using  the tuple() method to make  a tuple:\n",
    "thistuple=tuple((\"apple\",\"Orange\",\"Carrot\"))\n",
    "print(thistuple)\n",
    "print(type(thistuple))"
   ]
  },
  {
   "cell_type": "markdown",
   "id": "b44d21a5-99a6-4676-9ad9-ce1388f78ec6",
   "metadata": {},
   "source": [
    "### Access Tuple Items  ###"
   ]
  },
  {
   "cell_type": "code",
   "execution_count": 32,
   "id": "ac2e0a94-9e03-4f3e-bfb7-aeeab70b9caf",
   "metadata": {},
   "outputs": [
    {
     "data": {
      "text/plain": [
       "('apple', 'banna', 'cherry')"
      ]
     },
     "execution_count": 32,
     "metadata": {},
     "output_type": "execute_result"
    }
   ],
   "source": [
    "thistuple =(\"apple\",\"banna\",\"cherry\")\n",
    "thistuple"
   ]
  },
  {
   "cell_type": "code",
   "execution_count": 34,
   "id": "81807e22-09f3-44cd-aa60-b39cda33b50d",
   "metadata": {},
   "outputs": [
    {
     "data": {
      "text/plain": [
       "'banna'"
      ]
     },
     "execution_count": 34,
     "metadata": {},
     "output_type": "execute_result"
    }
   ],
   "source": [
    "thistuple[1]"
   ]
  },
  {
   "cell_type": "code",
   "execution_count": 36,
   "id": "3e014f31-8642-46c6-91f2-1fce0de96086",
   "metadata": {},
   "outputs": [
    {
     "data": {
      "text/plain": [
       "'cherry'"
      ]
     },
     "execution_count": 36,
     "metadata": {},
     "output_type": "execute_result"
    }
   ],
   "source": [
    "thistuple[-1]"
   ]
  },
  {
   "cell_type": "code",
   "execution_count": 40,
   "id": "1e25b3b7-0aed-4940-b56e-e76bd94c517e",
   "metadata": {},
   "outputs": [
    {
     "data": {
      "text/plain": [
       "'n'"
      ]
     },
     "execution_count": 40,
     "metadata": {},
     "output_type": "execute_result"
    }
   ],
   "source": [
    "thistuple[1][2]"
   ]
  },
  {
   "cell_type": "code",
   "execution_count": 42,
   "id": "96bc2345-61c1-4199-8a95-a33bb4459bd7",
   "metadata": {},
   "outputs": [
    {
     "data": {
      "text/plain": [
       "('apple', 'banna', 'cherry', 'orange', 'kiwi', 'melon', 'man')"
      ]
     },
     "execution_count": 42,
     "metadata": {},
     "output_type": "execute_result"
    }
   ],
   "source": [
    "thistuple=(\"apple\",\"banna\",\"cherry\",\"orange\",\"kiwi\",\"melon\",\"man\")\n",
    "thistuple"
   ]
  },
  {
   "cell_type": "code",
   "execution_count": 44,
   "id": "d516c876-4745-4eb8-a728-5f622cbcfb34",
   "metadata": {},
   "outputs": [
    {
     "data": {
      "text/plain": [
       "('cherry', 'orange', 'kiwi')"
      ]
     },
     "execution_count": 44,
     "metadata": {},
     "output_type": "execute_result"
    }
   ],
   "source": [
    "thistuple[2:5]"
   ]
  },
  {
   "cell_type": "code",
   "execution_count": 48,
   "id": "e6424027-5b3f-419b-86ba-737de099da0e",
   "metadata": {},
   "outputs": [
    {
     "data": {
      "text/plain": [
       "('cherry', 'orange', 'kiwi', 'melon')"
      ]
     },
     "execution_count": 48,
     "metadata": {},
     "output_type": "execute_result"
    }
   ],
   "source": [
    "thistuple[-5:-1]"
   ]
  },
  {
   "cell_type": "code",
   "execution_count": 50,
   "id": "afb1d7e8-51f3-49ec-ae0a-5303b44f7e0f",
   "metadata": {},
   "outputs": [
    {
     "data": {
      "text/plain": [
       "()"
      ]
     },
     "execution_count": 50,
     "metadata": {},
     "output_type": "execute_result"
    }
   ],
   "source": [
    "thistuple[-1:-3]"
   ]
  },
  {
   "cell_type": "code",
   "execution_count": 52,
   "id": "ad872b20-265d-4b5b-96b1-040ecb7534a8",
   "metadata": {},
   "outputs": [
    {
     "data": {
      "text/plain": [
       "()"
      ]
     },
     "execution_count": 52,
     "metadata": {},
     "output_type": "execute_result"
    }
   ],
   "source": [
    "thistuple[-1:-3]"
   ]
  },
  {
   "cell_type": "markdown",
   "id": "6e906ed8-8a4f-4d3c-bb08-ee941c9e1a93",
   "metadata": {},
   "source": [
    "### Update Tuples ###"
   ]
  },
  {
   "cell_type": "code",
   "execution_count": 54,
   "id": "2f3748c7-472b-4993-8fbd-de5d87d8541f",
   "metadata": {},
   "outputs": [],
   "source": [
    "thistuple = (\"apple\",\"banna\",\"Orange\",\"Beetroot\")"
   ]
  },
  {
   "cell_type": "code",
   "execution_count": 56,
   "id": "5bfb5b4e-54b6-4e62-a793-c108ac042e22",
   "metadata": {},
   "outputs": [
    {
     "name": "stdout",
     "output_type": "stream",
     "text": [
      "('apple', 'banna', 'Orange', 'Beetroot')\n"
     ]
    },
    {
     "data": {
      "text/plain": [
       "tuple"
      ]
     },
     "execution_count": 56,
     "metadata": {},
     "output_type": "execute_result"
    }
   ],
   "source": [
    "print(thistuple)\n",
    "type(thistuple)"
   ]
  },
  {
   "cell_type": "code",
   "execution_count": 58,
   "id": "efef866f-7487-43e1-a296-9356cf866c40",
   "metadata": {},
   "outputs": [
    {
     "name": "stdout",
     "output_type": "stream",
     "text": [
      "['apple', 'banna', 'Orange', 'Beetroot']\n",
      "<class 'list'>\n"
     ]
    }
   ],
   "source": [
    "# update tuple to list and update the values\n",
    "newtuple=list(thistuple)\n",
    "print(newtuple)\n",
    "print(type(newtuple))"
   ]
  },
  {
   "cell_type": "code",
   "execution_count": 61,
   "id": "610b5e9b-9c19-486d-84a5-e4d6bf8ae387",
   "metadata": {},
   "outputs": [
    {
     "name": "stdout",
     "output_type": "stream",
     "text": [
      "['Kiwi', 'banna', 'Orange', 'Beetroot']\n"
     ]
    }
   ],
   "source": [
    "newtuple[0]=\"Kiwi\"\n",
    "print(newtuple)"
   ]
  },
  {
   "cell_type": "markdown",
   "id": "8b5327d3-b8be-44f6-a61b-c9275e8fbb18",
   "metadata": {},
   "source": [
    "### Add New item to Tuple ###"
   ]
  },
  {
   "cell_type": "code",
   "execution_count": 64,
   "id": "ca6bf32a-b1eb-4067-bdef-6bccd3201f99",
   "metadata": {},
   "outputs": [
    {
     "name": "stdout",
     "output_type": "stream",
     "text": [
      "('Orange', 'grapes', 'dragon', 'berries')\n",
      "<class 'tuple'>\n"
     ]
    }
   ],
   "source": [
    "tuple1=(\"Orange\",\"grapes\",\"dragon\",\"berries\")\n",
    "print(tuple1)\n",
    "print(type(tuple1))"
   ]
  },
  {
   "cell_type": "code",
   "execution_count": 66,
   "id": "d1e230da-cde6-42c7-a32d-42dd26ba3801",
   "metadata": {},
   "outputs": [
    {
     "name": "stdout",
     "output_type": "stream",
     "text": [
      "['Orange', 'grapes', 'dragon', 'berries']\n",
      "<class 'list'>\n"
     ]
    }
   ],
   "source": [
    "newT=list(tuple1)\n",
    "print(newT)\n",
    "print(type(newT))"
   ]
  },
  {
   "cell_type": "code",
   "execution_count": 68,
   "id": "e42ee880-776a-49d3-a593-6d62d7f43af7",
   "metadata": {},
   "outputs": [
    {
     "name": "stdout",
     "output_type": "stream",
     "text": [
      "['Orange', 'grapes', 'dragon', 'berries', 'Programmante', 'Programmante']\n"
     ]
    }
   ],
   "source": [
    "newT.append(\"Programmante\")\n",
    "print(newT)"
   ]
  },
  {
   "cell_type": "code",
   "execution_count": 70,
   "id": "9a5d6f1d-e4d4-4c89-93ac-f0dc8a112fc5",
   "metadata": {},
   "outputs": [
    {
     "data": {
      "text/plain": [
       "tuple"
      ]
     },
     "execution_count": 70,
     "metadata": {},
     "output_type": "execute_result"
    }
   ],
   "source": [
    "type(tuple1)"
   ]
  },
  {
   "cell_type": "code",
   "execution_count": 72,
   "id": "4b5928e6-a20b-48a4-b1bb-6e29eeac8b97",
   "metadata": {},
   "outputs": [
    {
     "data": {
      "text/plain": [
       "list"
      ]
     },
     "execution_count": 72,
     "metadata": {},
     "output_type": "execute_result"
    }
   ],
   "source": [
    "type(newT)"
   ]
  },
  {
   "cell_type": "code",
   "execution_count": 75,
   "id": "be494e2e-e4a3-4f75-a9e2-87c523464f3d",
   "metadata": {},
   "outputs": [
    {
     "name": "stdout",
     "output_type": "stream",
     "text": [
      "('Orange', 'grapes', 'dragon', 'berries', 'Programmante', 'Programmante')\n",
      "<class 'tuple'>\n"
     ]
    }
   ],
   "source": [
    "tuple1=tuple(newT)\n",
    "print(tuple1)\n",
    "print(type(tuple1))"
   ]
  },
  {
   "cell_type": "markdown",
   "id": "845b6889-63cb-43ca-88eb-898e372adfb5",
   "metadata": {},
   "source": [
    "### Add Tuple to a tuple ###"
   ]
  },
  {
   "cell_type": "code",
   "execution_count": 77,
   "id": "2a82aafc-52b5-4ed6-83d5-e60ad5ad44a2",
   "metadata": {},
   "outputs": [
    {
     "data": {
      "text/plain": [
       "('dog', 'cat', 'pet', 'rose', 'plant')"
      ]
     },
     "execution_count": 77,
     "metadata": {},
     "output_type": "execute_result"
    }
   ],
   "source": [
    "tuple2=(\"dog\",\"cat\",\"pet\",\"rose\",\"plant\")\n",
    "tuple2"
   ]
  },
  {
   "cell_type": "code",
   "execution_count": 83,
   "id": "77a7e62c-f92b-4bcf-b5e0-aa4c49888be0",
   "metadata": {},
   "outputs": [],
   "source": [
    "newT=(\"apple\")"
   ]
  },
  {
   "cell_type": "code",
   "execution_count": 85,
   "id": "1cdf85d7-9837-4e64-891d-77dccf522024",
   "metadata": {},
   "outputs": [
    {
     "ename": "TypeError",
     "evalue": "can only concatenate str (not \"tuple\") to str",
     "output_type": "error",
     "traceback": [
      "\u001b[1;31m---------------------------------------------------------------------------\u001b[0m",
      "\u001b[1;31mTypeError\u001b[0m                                 Traceback (most recent call last)",
      "Cell \u001b[1;32mIn[85], line 1\u001b[0m\n\u001b[1;32m----> 1\u001b[0m tuple2\u001b[38;5;241m=\u001b[39mnewT\u001b[38;5;241m+\u001b[39mtuple2\n",
      "\u001b[1;31mTypeError\u001b[0m: can only concatenate str (not \"tuple\") to str"
     ]
    }
   ],
   "source": [
    "tuple2=newT+tuple2"
   ]
  },
  {
   "cell_type": "markdown",
   "id": "b8536fc9-1dec-4863-9d70-4989528a0f54",
   "metadata": {},
   "source": [
    "### Remove Items ###"
   ]
  },
  {
   "cell_type": "code",
   "execution_count": 89,
   "id": "93f126af-be80-41cd-a2e5-6b5cd450d357",
   "metadata": {},
   "outputs": [],
   "source": []
  },
  {
   "cell_type": "code",
   "execution_count": 100,
   "id": "b2380c50-09fe-4e6c-a9cd-561b8d9eee20",
   "metadata": {},
   "outputs": [
    {
     "name": "stdout",
     "output_type": "stream",
     "text": [
      "('banna', 'cherry')\n"
     ]
    }
   ],
   "source": [
    "\n",
    "thistuple=(\"apple\",\"banna\",\"cherry\")\n",
    "y=list(thistuple)\n",
    "y.remove(\"apple\")\n",
    "thistuple=tuple(y)\n",
    "print(thistuple)"
   ]
  },
  {
   "cell_type": "markdown",
   "id": "1883d2e3-5f47-4fda-b150-205f22dacff6",
   "metadata": {},
   "source": [
    "### Or you can delete the tuple completely: ###"
   ]
  },
  {
   "cell_type": "code",
   "execution_count": 102,
   "id": "d9102131-8901-42dc-a67d-2ef341969a1a",
   "metadata": {},
   "outputs": [
    {
     "ename": "NameError",
     "evalue": "name 'thistuple' is not defined",
     "output_type": "error",
     "traceback": [
      "\u001b[1;31m---------------------------------------------------------------------------\u001b[0m",
      "\u001b[1;31mNameError\u001b[0m                                 Traceback (most recent call last)",
      "Cell \u001b[1;32mIn[102], line 1\u001b[0m\n\u001b[1;32m----> 1\u001b[0m \u001b[38;5;28;01mdel\u001b[39;00m thistuple\n",
      "\u001b[1;31mNameError\u001b[0m: name 'thistuple' is not defined"
     ]
    }
   ],
   "source": [
    "del thistuple"
   ]
  },
  {
   "cell_type": "code",
   "execution_count": null,
   "id": "5496f3c0-855c-4fb5-a265-6cdb9b7c09e6",
   "metadata": {},
   "outputs": [],
   "source": []
  }
 ],
 "metadata": {
  "kernelspec": {
   "display_name": "Python 3 (ipykernel)",
   "language": "python",
   "name": "python3"
  },
  "language_info": {
   "codemirror_mode": {
    "name": "ipython",
    "version": 3
   },
   "file_extension": ".py",
   "mimetype": "text/x-python",
   "name": "python",
   "nbconvert_exporter": "python",
   "pygments_lexer": "ipython3",
   "version": "3.12.4"
  }
 },
 "nbformat": 4,
 "nbformat_minor": 5
}
